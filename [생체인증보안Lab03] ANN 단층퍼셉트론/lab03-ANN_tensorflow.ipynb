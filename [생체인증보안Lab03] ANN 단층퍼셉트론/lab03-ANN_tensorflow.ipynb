{
  "nbformat": 4,
  "nbformat_minor": 0,
  "metadata": {
    "colab": {
      "name": "ANN_tensorflow.ipynb",
      "provenance": [],
      "collapsed_sections": [],
      "authorship_tag": "ABX9TyMtZQSUqdx9zDfjM/wLSYje",
      "include_colab_link": true
    },
    "kernelspec": {
      "name": "python3",
      "display_name": "Python 3"
    },
    "language_info": {
      "name": "python"
    },
    "accelerator": "GPU"
  },
  "cells": [
    {
      "cell_type": "markdown",
      "metadata": {
        "id": "view-in-github",
        "colab_type": "text"
      },
      "source": [
        "<a href=\"https://colab.research.google.com/github/ottl-seo/biometric-security/blob/main/ANN_tensorflow.ipynb\" target=\"_parent\"><img src=\"https://colab.research.google.com/assets/colab-badge.svg\" alt=\"Open In Colab\"/></a>"
      ]
    },
    {
      "cell_type": "markdown",
      "metadata": {
        "id": "oorn-HqqNN-F"
      },
      "source": [
        "# **단층 신경망**(단층 퍼셉트론)의 구현 사례"
      ]
    },
    {
      "cell_type": "markdown",
      "metadata": {
        "id": "_5-2YogMX7hz"
      },
      "source": [
        "## 성능 향상을 위해 변경한 변수들\n",
        "1. 노드 개수 (num_units): 2,4,6, ...\n",
        "2. 경사하강법의 학습율(GradientDescentOptimizer): 0.001, 0.0005, ...\n",
        "3. 반복 횟수: 1000, 4000, ...\n",
        "4. 은닉계층 활성화 함수: tanh, relu, ..."
      ]
    },
    {
      "cell_type": "markdown",
      "metadata": {
        "id": "pch8WuBLNVqk"
      },
      "source": [
        "### 1. 필요한 모듈 불러오기"
      ]
    },
    {
      "cell_type": "code",
      "metadata": {
        "id": "3H8HZjTLMjbV"
      },
      "source": [
        "import tensorflow as tf\n",
        "import numpy as np\n",
        "import matplotlib.pyplot as plt\n",
        "from numpy.random import multivariate_normal, permutation\n",
        "import pandas as pd\n",
        "from pandas import DataFrame, Series"
      ],
      "execution_count": 106,
      "outputs": []
    },
    {
      "cell_type": "markdown",
      "metadata": {
        "id": "t13o-9HHNtz-"
      },
      "source": [
        "### 2. 텐서플로우 버전 낮추기"
      ]
    },
    {
      "cell_type": "code",
      "metadata": {
        "id": "xMjTC2c8Nsr5"
      },
      "source": [
        "import tensorflow.compat.v1 as tf\n",
        "tf.disable_v2_behavior()"
      ],
      "execution_count": 107,
      "outputs": []
    },
    {
      "cell_type": "markdown",
      "metadata": {
        "id": "-CgZ00tTN5mH"
      },
      "source": [
        "### 3. 난수의 씨드를 설정"
      ]
    },
    {
      "cell_type": "code",
      "metadata": {
        "id": "au_TfQMZN4Uc"
      },
      "source": [
        "np.random.seed(1971063)\n",
        "tf.set_random_seed(1971063)"
      ],
      "execution_count": 108,
      "outputs": []
    },
    {
      "cell_type": "markdown",
      "metadata": {
        "id": "XtSr5O9YYykI"
      },
      "source": [
        "### 4. 학습 데이터 생성하기"
      ]
    },
    {
      "cell_type": "code",
      "metadata": {
        "id": "49ftoUj1OB3v"
      },
      "source": [
        "def generate_datablock(n, mu, var, t):\n",
        "  data= multivariate_normal(mu, np.eye(2)*var, n)\n",
        "  df= DataFrame(data, columns=['x1','x2'])\n",
        "  df['t'] = t\n",
        "  return df\n",
        "\n",
        "df0 = generate_datablock(15, [7,7], 22, 0)\n",
        "df1 = generate_datablock(15, [22,7], 22, 0)\n",
        "df2 = generate_datablock(10, [7,22], 22, 0)\n",
        "df3 = generate_datablock(25, [20,20], 22, 1)\n",
        "\n",
        "df = pd.concat([df0, df1, df2, df3], ignore_index=True)\n",
        "train_set = df.reindex(permutation(df.index)).reset_index(drop=True)\n"
      ],
      "execution_count": 109,
      "outputs": []
    },
    {
      "cell_type": "markdown",
      "metadata": {
        "id": "mxnukdJkY4HR"
      },
      "source": [
        "### 5. 학습 데이터 확인하기"
      ]
    },
    {
      "cell_type": "code",
      "metadata": {
        "id": "Yk-Nqm9_Y3XI",
        "colab": {
          "base_uri": "https://localhost:8080/",
          "height": 407
        },
        "outputId": "a5e19219-cb11-44e8-d8a2-bd5da2f0b39e"
      },
      "source": [
        "train_set"
      ],
      "execution_count": 110,
      "outputs": [
        {
          "output_type": "execute_result",
          "data": {
            "text/html": [
              "<div>\n",
              "<style scoped>\n",
              "    .dataframe tbody tr th:only-of-type {\n",
              "        vertical-align: middle;\n",
              "    }\n",
              "\n",
              "    .dataframe tbody tr th {\n",
              "        vertical-align: top;\n",
              "    }\n",
              "\n",
              "    .dataframe thead th {\n",
              "        text-align: right;\n",
              "    }\n",
              "</style>\n",
              "<table border=\"1\" class=\"dataframe\">\n",
              "  <thead>\n",
              "    <tr style=\"text-align: right;\">\n",
              "      <th></th>\n",
              "      <th>x1</th>\n",
              "      <th>x2</th>\n",
              "      <th>t</th>\n",
              "    </tr>\n",
              "  </thead>\n",
              "  <tbody>\n",
              "    <tr>\n",
              "      <th>0</th>\n",
              "      <td>11.065562</td>\n",
              "      <td>14.362012</td>\n",
              "      <td>0</td>\n",
              "    </tr>\n",
              "    <tr>\n",
              "      <th>1</th>\n",
              "      <td>5.756806</td>\n",
              "      <td>14.768169</td>\n",
              "      <td>0</td>\n",
              "    </tr>\n",
              "    <tr>\n",
              "      <th>2</th>\n",
              "      <td>7.644161</td>\n",
              "      <td>3.778764</td>\n",
              "      <td>0</td>\n",
              "    </tr>\n",
              "    <tr>\n",
              "      <th>3</th>\n",
              "      <td>14.843614</td>\n",
              "      <td>20.527043</td>\n",
              "      <td>1</td>\n",
              "    </tr>\n",
              "    <tr>\n",
              "      <th>4</th>\n",
              "      <td>12.366110</td>\n",
              "      <td>23.988449</td>\n",
              "      <td>1</td>\n",
              "    </tr>\n",
              "    <tr>\n",
              "      <th>...</th>\n",
              "      <td>...</td>\n",
              "      <td>...</td>\n",
              "      <td>...</td>\n",
              "    </tr>\n",
              "    <tr>\n",
              "      <th>60</th>\n",
              "      <td>22.149930</td>\n",
              "      <td>25.916585</td>\n",
              "      <td>1</td>\n",
              "    </tr>\n",
              "    <tr>\n",
              "      <th>61</th>\n",
              "      <td>23.271610</td>\n",
              "      <td>14.676548</td>\n",
              "      <td>1</td>\n",
              "    </tr>\n",
              "    <tr>\n",
              "      <th>62</th>\n",
              "      <td>15.882002</td>\n",
              "      <td>20.618751</td>\n",
              "      <td>1</td>\n",
              "    </tr>\n",
              "    <tr>\n",
              "      <th>63</th>\n",
              "      <td>17.148620</td>\n",
              "      <td>27.460157</td>\n",
              "      <td>1</td>\n",
              "    </tr>\n",
              "    <tr>\n",
              "      <th>64</th>\n",
              "      <td>20.916967</td>\n",
              "      <td>22.898490</td>\n",
              "      <td>1</td>\n",
              "    </tr>\n",
              "  </tbody>\n",
              "</table>\n",
              "<p>65 rows × 3 columns</p>\n",
              "</div>"
            ],
            "text/plain": [
              "           x1         x2  t\n",
              "0   11.065562  14.362012  0\n",
              "1    5.756806  14.768169  0\n",
              "2    7.644161   3.778764  0\n",
              "3   14.843614  20.527043  1\n",
              "4   12.366110  23.988449  1\n",
              "..        ...        ... ..\n",
              "60  22.149930  25.916585  1\n",
              "61  23.271610  14.676548  1\n",
              "62  15.882002  20.618751  1\n",
              "63  17.148620  27.460157  1\n",
              "64  20.916967  22.898490  1\n",
              "\n",
              "[65 rows x 3 columns]"
            ]
          },
          "metadata": {
            "tags": []
          },
          "execution_count": 110
        }
      ]
    },
    {
      "cell_type": "markdown",
      "metadata": {
        "id": "sOYqOEFxY8VA"
      },
      "source": [
        "#### 6. (x1, x2)와 t를 각각 모은 것을 넘파이의 array 오브젝트로 추출해둔다."
      ]
    },
    {
      "cell_type": "code",
      "metadata": {
        "id": "dXTVaMBGY827"
      },
      "source": [
        "train_x = train_set[['x1','x2']].to_numpy()\n",
        "train_t = train_set['t'].to_numpy().reshape([len(train_set), 1])"
      ],
      "execution_count": 111,
      "outputs": []
    },
    {
      "cell_type": "markdown",
      "metadata": {
        "id": "VSbbadbDZ6X1"
      },
      "source": [
        "### 7. 단층 신경망을 이용한 이항 분류기 모델을 정의한다.\n",
        ": 가설함수로 단층 신경망 기반 이항 분류기 모델을 정의함.   \n",
        "#### // *이 부분 제일 중요--*\n",
        "- **layer** = 4\n",
        "- **활성화 함수**: tanh 사용"
      ]
    },
    {
      "cell_type": "code",
      "metadata": {
        "id": "EkEzrZhJZ07W"
      },
      "source": [
        "num_units = 4  # 노드 개수: 2\n",
        "mult = train_x.flatten().mean() # x1,x2의 평균값= mult\n",
        "\n",
        "x = tf.placeholder(tf.float32, [None, 2])\n",
        "\n",
        "w1 = tf.Variable(tf.truncated_normal([2, num_units])) # 난수 발생\n",
        "b1 = tf.Variable(tf.zeros([num_units]))\n",
        "\n",
        "#hidden1 = tf.nn.relu(tf.matmul(x, w1)+ b1*mult)  #relu로도 해보고\n",
        "hidden1 = tf.nn.tanh(tf.matmul(x, w1) + b1*mult) # tanh로도 해보기--> 성능 뭐가 더?\n",
        "\n",
        "w0 = tf.Variable(tf.zeros([num_units, 1]))\n",
        "b0 = tf.Variable(tf.zeros([1]))\n",
        "p = tf.nn.sigmoid(tf.matmul(hidden1, w0) + b0*mult) #여기도 mult 곱해주는것..."
      ],
      "execution_count": 112,
      "outputs": []
    },
    {
      "cell_type": "markdown",
      "metadata": {
        "id": "wbq3VNMHKk5m"
      },
      "source": [
        " *mult 에 대하여--   \n",
        " bias는 결국 데이터의 평균값(mult)을 따라가므로, *mult 해준다.\n",
        "#### --> 파라미터 최적화를 고속화 하기 위한 처리임!"
      ]
    },
    {
      "cell_type": "code",
      "metadata": {
        "colab": {
          "base_uri": "https://localhost:8080/"
        },
        "id": "LdGnyvOhKkZ-",
        "outputId": "54379b8e-dcaf-47cf-cf1e-d7c2ac89dc78"
      },
      "source": [
        "p.shape"
      ],
      "execution_count": 113,
      "outputs": [
        {
          "output_type": "execute_result",
          "data": {
            "text/plain": [
              "TensorShape([Dimension(None), Dimension(1)])"
            ]
          },
          "metadata": {
            "tags": []
          },
          "execution_count": 113
        }
      ]
    },
    {
      "cell_type": "markdown",
      "metadata": {
        "id": "MitFAGfuLZG5"
      },
      "source": [
        "### 8. Loss 함수(비용함수,오차함수), 학습 알고리즘(단계), 정답률 식 정의\n",
        "* 오차함수: loss\n",
        "* 트레이닝 알고리즘: train_step\n",
        "* 정답률 accuracy\n",
        "####     \n",
        " *//여긴 그대로 쓰되,*    \n",
        " *//GradientDescentOptimizer(이 부분)만 바꾸기*\n",
        "\n",
        "#### 경사하강법의 학습율(GradientDescentOptimizer)을 **0.001**로 설정하였다."
      ]
    },
    {
      "cell_type": "code",
      "metadata": {
        "id": "LE6PCpTtLWd5"
      },
      "source": [
        "t = tf.placeholder(tf.float32, [None, 1])\n",
        "loss = -tf.reduce_sum(t*tf.log(p) + (1-t)*tf.log(1-p))\n",
        "train_step = tf.train.GradientDescentOptimizer(0.0005).minimize(loss) # 이 부분\n",
        "correct_prediction = tf.equal(tf.sign(p-0.5), tf.sign(t-0.5))\n",
        "accuracy = tf.reduce_mean(tf.cast(correct_prediction, tf.float32))"
      ],
      "execution_count": 114,
      "outputs": []
    },
    {
      "cell_type": "markdown",
      "metadata": {
        "id": "v9in0Pz2NUHL"
      },
      "source": [
        "### 9. 세션을 준비하고 Variable을 초기화"
      ]
    },
    {
      "cell_type": "code",
      "metadata": {
        "colab": {
          "base_uri": "https://localhost:8080/"
        },
        "id": "gBC7HdcLNTj8",
        "outputId": "b2e56f73-36eb-4cfc-ebc4-02789025736e"
      },
      "source": [
        "sess = tf.InteractiveSession()\n",
        "sess.run(tf.global_variables_initializer())"
      ],
      "execution_count": 115,
      "outputs": [
        {
          "output_type": "stream",
          "text": [
            "/usr/local/lib/python3.7/dist-packages/tensorflow/python/client/session.py:1761: UserWarning: An interactive session is already active. This can cause out-of-memory errors in some cases. You must explicitly call `InteractiveSession.close()` to release resources held by the other session(s).\n",
            "  warnings.warn('An interactive session is already active. This can '\n"
          ],
          "name": "stderr"
        }
      ]
    },
    {
      "cell_type": "markdown",
      "metadata": {
        "id": "kRsCsLWDNgJ7"
      },
      "source": [
        "### 10. 파라미터 최적화를 **1000**회 반복한다."
      ]
    },
    {
      "cell_type": "code",
      "metadata": {
        "colab": {
          "base_uri": "https://localhost:8080/"
        },
        "id": "sQ9XrU-jNd2F",
        "outputId": "d48414a7-889e-485c-b9d4-1f552c206b8d"
      },
      "source": [
        "i = 0\n",
        "for _ in range(1000): #1000번 반복\n",
        "  i+=1\n",
        "  sess.run(train_step, feed_dict={x:train_x, t:train_t}) #feed_dict로 파라미터 넘겨준다!!\n",
        "  if i % 100 == 0:  ##100번 단위로 출력해준다\n",
        "    loss_val, acc_val = sess.run(\n",
        "        [loss, accuracy], feed_dict={x:train_x, t:train_t})\n",
        "    print('Step: %d, Loss: %f, Accuracy: %f'\n",
        "    %(i,loss_val, acc_val))  ## 반복횟수,오차,정확도 출력"
      ],
      "execution_count": 116,
      "outputs": [
        {
          "output_type": "stream",
          "text": [
            "Step: 100, Loss: 42.999912, Accuracy: 0.615385\n",
            "Step: 200, Loss: 42.711288, Accuracy: 0.615385\n",
            "Step: 300, Loss: 41.546951, Accuracy: 0.615385\n",
            "Step: 400, Loss: 39.501556, Accuracy: 0.615385\n",
            "Step: 500, Loss: 28.116619, Accuracy: 0.892308\n",
            "Step: 600, Loss: 20.026134, Accuracy: 0.923077\n",
            "Step: 700, Loss: 17.180193, Accuracy: 0.923077\n",
            "Step: 800, Loss: 15.750172, Accuracy: 0.907692\n",
            "Step: 900, Loss: 14.889032, Accuracy: 0.923077\n",
            "Step: 1000, Loss: 14.433676, Accuracy: 0.923077\n"
          ],
          "name": "stdout"
        }
      ]
    },
    {
      "cell_type": "markdown",
      "metadata": {
        "id": "-2uqBiZYOgOu"
      },
      "source": [
        "### 11. 얻어진 확률을 색의 농담으로 그림에 표시한다."
      ]
    },
    {
      "cell_type": "code",
      "metadata": {
        "colab": {
          "base_uri": "https://localhost:8080/",
          "height": 396
        },
        "id": "pPPFKQyIOI0z",
        "outputId": "9fa04656-d635-45ee-e4c8-52155f824130"
      },
      "source": [
        "train_set1 = train_set[train_set['t']==1]\n",
        "train_set2 = train_set[train_set['t']==0]\n",
        "\n",
        "fig = plt.figure(figsize=(6,6))\n",
        "subplot = fig.add_subplot(1,1,1)\n",
        "subplot.set_ylim([0,30])\n",
        "subplot.set_xlim([0,30])\n",
        "subplot.scatter(train_set1.x1, train_set1.x2, marker='x')\n",
        "subplot.scatter(train_set2.x1, train_set2.x2, marker='o')\n",
        "\n",
        "locations = []\n",
        "for x2 in np.linspace(0,30,100):\n",
        "  for x1 in np.linspace(0,30,100):\n",
        "    locations.append((x1, x2))\n",
        "p_vals = sess.run(p, feed_dict={x:locations})\n",
        "p_vals = p_vals.reshape((100,100))\n",
        "subplot.imshow(p_vals, origin='lower', extent=(0,30,0,30),\n",
        "               cmap=plt.cm.gray_r, alpha=0.5)"
      ],
      "execution_count": 117,
      "outputs": [
        {
          "output_type": "execute_result",
          "data": {
            "text/plain": [
              "<matplotlib.image.AxesImage at 0x7fa1276b8890>"
            ]
          },
          "metadata": {
            "tags": []
          },
          "execution_count": 117
        },
        {
          "output_type": "display_data",
          "data": {
            "image/png": "[encoded data removed]",
            "text/plain": [
              "<Figure size 432x432 with 1 Axes>"
            ]
          },
          "metadata": {
            "tags": [],
            "needs_background": "light"
          }
        }
      ]
    },
    {
      "cell_type": "markdown",
      "metadata": {
        "id": "N06RwPesYcyT"
      },
      "source": [
        "# 결과\n",
        "**정확도 0.938, 오차 7.00** 정도로 도출\n",
        "####      \n",
        "### <변수 설정>\n",
        "1. 노드 개수 = **4**\n",
        "2. GradientDescentOptimizer= **0.001**\n",
        "3. 반복 횟수= 1000\n",
        "4. **tanh** 함수 사용"
      ]
    }
  ]
}
