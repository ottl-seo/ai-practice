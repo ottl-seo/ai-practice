{
  "nbformat": 4,
  "nbformat_minor": 0,
  "metadata": {
    "anaconda-cloud": {},
    "kernelspec": {
      "display_name": "Python 3",
      "language": "python",
      "name": "python3"
    },
    "language_info": {
      "codemirror_mode": {
        "name": "ipython",
        "version": 3
      },
      "file_extension": ".py",
      "mimetype": "text/x-python",
      "name": "python",
      "nbconvert_exporter": "python",
      "pygments_lexer": "ipython3",
      "version": "3.5.2"
    },
    "colab": {
      "name": "lab1_김윤서.ipynb",
      "provenance": [],
      "collapsed_sections": []
    }
  },
  "cells": [
    {
      "cell_type": "markdown",
      "metadata": {
        "id": "GjIaRT-5ULos"
      },
      "source": [
        "Assignment 0: Python Basics"
      ]
    },
    {
      "cell_type": "code",
      "metadata": {
        "id": "PB0z-7RmYpjI"
      },
      "source": [
        "import random"
      ],
      "execution_count": 1,
      "outputs": []
    },
    {
      "cell_type": "markdown",
      "metadata": {
        "id": "kbWpPPQKULow"
      },
      "source": [
        "## Problem 1: Selection Sort\n",
        "\n",
        "아래 selection sort 함수를 구현해보세요. \n",
        "YOUR CODE COMES HERE 라는 주석이 있는 곳을 채우면 됩니다."
      ]
    },
    {
      "cell_type": "code",
      "metadata": {
        "id": "EyYXu1hzULoy"
      },
      "source": [
        "def selection_sort(arr):\n",
        "    \n",
        "    for j in range(len(arr)-1):\n",
        "      least_index = j\n",
        "      for i in range(j+1,len(arr)):\n",
        "        if(arr[least_index]>arr[i]):\n",
        "          least_index = i #최솟값 찾기\n",
        "      arr[j], arr[least_index] = arr[least_index], arr[j] #두값 swap\n",
        "    \n",
        "    return arr"
      ],
      "execution_count": 2,
      "outputs": []
    },
    {
      "cell_type": "code",
      "metadata": {
        "scrolled": false,
        "id": "cT_dRw1vULo4",
        "colab": {
          "base_uri": "https://localhost:8080/"
        },
        "outputId": "b1c02fd2-f6e5-47c6-d823-37a8ea016fb3"
      },
      "source": [
        "array = [random.randint(0, 20) for _ in range(20)]\n",
        "print('array: ', array)\n",
        "\n",
        "array_sorted = selection_sort(array)\n",
        "print('sorted:', array_sorted)\n",
        "\n",
        "print()\n",
        "print('Q: Is the array sorted?')\n",
        "print('A:', sorted(array) == array_sorted)"
      ],
      "execution_count": 3,
      "outputs": [
        {
          "output_type": "stream",
          "text": [
            "array:  [17, 1, 8, 19, 19, 3, 15, 3, 6, 19, 15, 12, 1, 8, 0, 9, 8, 19, 7, 0]\n",
            "sorted: [0, 0, 1, 1, 3, 3, 6, 7, 8, 8, 8, 9, 12, 15, 15, 17, 19, 19, 19, 19]\n",
            "\n",
            "Q: Is the array sorted?\n",
            "A: True\n"
          ],
          "name": "stdout"
        }
      ]
    },
    {
      "cell_type": "markdown",
      "metadata": {
        "id": "v4K9EF1rULo-"
      },
      "source": [
        "## Problem 2: Classes\n",
        "\n",
        "Selection sort, insertion sort, merge sort를 아래 class의 instance method로 구현해 보세요. <br>\n",
        "YOUR CODE COMES HERE 라는 주석이 있는 곳을 채우면 됩니다."
      ]
    },
    {
      "cell_type": "code",
      "metadata": {
        "id": "XAtRozsxULo_"
      },
      "source": [
        "class Sorter:\n",
        "    def __init__(self, method): #객체의 메서드를 초기화해주는 함수\n",
        "        self.method = method\n",
        "        \n",
        "    @staticmethod\n",
        "    def of(method):\n",
        "        return Sorter(method) #생성자 느낌?\n",
        "        \n",
        "    def sort(self, arr): # sort라는 객체 안에 method 따로따로 정의되어 있는 것\n",
        "        if self.method == 'selection_sort':\n",
        "            return self.selection_sort(arr)\n",
        "        \n",
        "        elif self.method == 'insertion_sort':\n",
        "            return self.insertion_sort(arr)\n",
        "        \n",
        "        elif self.method == 'merge_sort':\n",
        "            return self.merge_sort(arr)\n",
        "        \n",
        "        else:\n",
        "            raise ValueError('Unknown method: %s' % method)\n",
        "\n",
        "\n",
        "    def selection_sort(self, arr): #선택정렬 메서드\n",
        "        for j in range(len(arr)-1):\n",
        "          least_index = j\n",
        "          for i in range(j+1,len(arr)):\n",
        "            if(arr[least_index]>arr[i]):\n",
        "              least_index = i #최솟값 찾기\n",
        "          arr[j], arr[least_index] = arr[least_index], arr[j] #두값 swap\n",
        "        return arr\n",
        "    \n",
        "    def insertion_sort(self, arr): #삽입정렬 메서드\n",
        "        for j in range(1, len(arr)):\n",
        "          for i in range(j, 0, -1):\n",
        "              if arr[i - 1] > arr[i]:\n",
        "                  arr[i - 1], arr[i] = arr[i], arr[i - 1]\n",
        "        return arr\n",
        "    \n",
        "    def merge_sort(self, arr): #병합정렬 메서드\n",
        "        if len(arr) <= 1:\n",
        "          return arr\n",
        "        mid = len(arr)//2\n",
        "        leftList = arr[:mid]\n",
        "        rightList = arr[mid:]\n",
        "        #leftList = merge_sort(self, leftList)\n",
        "        #rightList = merge_sort(self, rightList)\n",
        "        return arr"
      ],
      "execution_count": 23,
      "outputs": []
    },
    {
      "cell_type": "code",
      "metadata": {
        "id": "E1tKG55IULpE",
        "colab": {
          "base_uri": "https://localhost:8080/"
        },
        "outputId": "966d7a2d-148c-462d-89ce-8ef3e3a748c9"
      },
      "source": [
        "\n",
        "array = [random.randint(0, 20) for _ in range(20)]\n",
        "\n",
        "algorithms = ['selection_sort', 'insertion_sort', 'merge_sort']\n",
        "for algorithm in algorithms:\n",
        "    sorter = Sorter.of(algorithm) # algorithm이름의 메서드로 Sorter 객체 생성--> sorter에 저장\n",
        "    array_sorted = sorter.sort(array) # 각 메서드로 sort 실행.\n",
        "    print('%s sorted? %s' % (algorithm, sorted(array) == array_sorted))"
      ],
      "execution_count": 24,
      "outputs": [
        {
          "output_type": "stream",
          "text": [
            "selection_sort sorted? True\n",
            "insertion_sort sorted? True\n",
            "merge_sort sorted? True\n"
          ],
          "name": "stdout"
        }
      ]
    },
    {
      "cell_type": "code",
      "metadata": {
        "id": "Anb1OiP5XklQ"
      },
      "source": [
        ""
      ],
      "execution_count": null,
      "outputs": []
    }
  ]
}