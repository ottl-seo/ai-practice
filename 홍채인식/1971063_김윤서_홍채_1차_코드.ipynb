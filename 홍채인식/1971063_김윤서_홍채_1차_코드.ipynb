{
  "nbformat": 4,
  "nbformat_minor": 0,
  "metadata": {
    "colab": {
      "name": "1971063_김윤서_홍채_1차_코드.ipynb",
      "provenance": [],
      "collapsed_sections": []
    },
    "kernelspec": {
      "name": "python3",
      "display_name": "Python 3"
    },
    "language_info": {
      "name": "python"
    },
    "accelerator": "GPU"
  },
  "cells": [
    {
      "cell_type": "code",
      "metadata": {
        "colab": {
          "base_uri": "https://localhost:8080/"
        },
        "id": "Zm-2_aSWLrar",
        "outputId": "3e709b93-8b11-408b-b13e-e7b340f45b72"
      },
      "source": [
        "from google.colab import drive\n",
        "drive.mount('/content/drive')"
      ],
      "execution_count": 1,
      "outputs": [
        {
          "output_type": "stream",
          "text": [
            "Mounted at /content/drive\n"
          ],
          "name": "stdout"
        }
      ]
    },
    {
      "cell_type": "code",
      "metadata": {
        "id": "9bCi6bvAMG4S"
      },
      "source": [
        "import numpy as np\n",
        "import pandas as pd\n",
        "import matplotlib\n",
        "# %matplotlib inline\n",
        "import matplotlib.pyplot as plt\n",
        "import os\n",
        "import cv2\n",
        "from os.path import isfile, join\n",
        "import glob\n",
        "import gzip\n",
        "from PIL import Image\n",
        "from scipy import misc\n",
        "\n",
        "import tensorflow as tf\n",
        "import tensorflow.keras as keras\n",
        "from tensorflow.keras.layers import Input,Conv2D,MaxPooling2D,UpSampling2D\n",
        "from tensorflow.keras.models import Model\n",
        "from tensorflow.keras.optimizers import RMSprop\n",
        "from tensorflow.keras.preprocessing.image import load_img\n",
        "from tensorflow.keras.preprocessing.image import img_to_array\n",
        "from tensorflow.keras.preprocessing.image import array_to_img\n",
        "\n",
        "# CNN\n",
        "import keras\n",
        "from keras.models import Sequential\n",
        "from keras.models import load_model\n",
        "from keras.utils.np_utils import to_categorical\n",
        "from keras.models import Model\n",
        "from keras import layers, regularizers, optimizers, callbacks\n",
        "from collections import defaultdict\n",
        "from keras.optimizers import RMSprop\n",
        "from keras.layers.normalization import BatchNormalization"
      ],
      "execution_count": 2,
      "outputs": []
    },
    {
      "cell_type": "markdown",
      "metadata": {
        "id": "rAHxtpF2MNDr"
      },
      "source": [
        "# 1. 전처리"
      ]
    },
    {
      "cell_type": "code",
      "metadata": {
        "id": "SSbc_WS6MJXg"
      },
      "source": [
        "\n",
        "#test_iris = []\n",
        "#test_labels = []\n",
        "\n",
        "\n",
        "#데이터 불러오기\n",
        "\n",
        "def create_Trainset(folder):\n",
        "    iris = []\n",
        "    labels = []\n",
        "    \n",
        "    for file in os.listdir(folder):\n",
        "        image_path = os.path.join(folder, file)\n",
        "        image = load_img(image_path, 'rb')\n",
        "        image = img_to_array(image)\n",
        "        \n",
        "        if image.shape[2] == 3:\n",
        "            image = image.mean(2)\n",
        "\n",
        "        iris.append(image)  # 이미지 리스트에 저장\n",
        "        name_index = file.split(\"_\")  # file name: _를 기준으로 split\n",
        "        name_index = name_index[0]\n",
        "        name_index = int(name_index[0:3])  # L,R 제외하고 숫자만\n",
        "        labels.append(name_index)  #이미지에 해당하는 class name 리스트에 저장 \n",
        "        \n",
        "    return np.array(iris), np.array(labels)\n",
        "\n",
        "\n",
        "def create_Testset(folder):\n",
        "    iris = []\n",
        "    labels = []\n",
        "    \n",
        "\n",
        "    for file in os.listdir(folder):\n",
        "        image_path = os.path.join(folder, file)\n",
        "        image = load_img(image_path, 'rb')\n",
        "        image = img_to_array(image)\n",
        "        \n",
        "        if image.shape[2] == 3:\n",
        "            image = image.mean(2)\n",
        "\n",
        "        iris.append(image)\n",
        "        name_index = file.split(\".\")  # 1.png 에서 숫자만 split\n",
        "        name_index = int(name_index[0])\n",
        "        labels.append(name_index)\n",
        "        \n",
        "    return np.array(iris), np.array(labels)\n",
        "\n",
        "# 정규화\n",
        "def normalization(image):  \n",
        "    image = image / image.max()\n",
        "    return image"
      ],
      "execution_count": 3,
      "outputs": []
    },
    {
      "cell_type": "code",
      "metadata": {
        "id": "uK_6XrPUMT1c"
      },
      "source": [
        "train_PATH = '/content/drive/MyDrive/iris-training-set'\n",
        "x_train, y_train = create_Trainset(train_PATH) #불러오기\n",
        "x_train = normalization(x_train) # 정규화 진행\n",
        "\n",
        "test_PATH = '/content/drive/MyDrive/iris-test-set'\n",
        "x_test, _ = create_Testset(test_PATH)\n",
        "x_test = normalization(x_test)"
      ],
      "execution_count": 4,
      "outputs": []
    },
    {
      "cell_type": "code",
      "metadata": {
        "colab": {
          "base_uri": "https://localhost:8080/"
        },
        "id": "1XyPXRsNPWJb",
        "outputId": "3643cd52-5b23-4161-c3eb-226f591089e6"
      },
      "source": [
        "print('Train images :',x_train.shape)\n",
        "print('Train labels : ', y_train.shape)\n",
        "print('Test images : ', x_test.shape)\n"
      ],
      "execution_count": 5,
      "outputs": [
        {
          "output_type": "stream",
          "text": [
            "Train images : (128, 576, 768)\n",
            "Train labels :  (128,)\n",
            "Test images :  (256, 576, 768)\n"
          ],
          "name": "stdout"
        }
      ]
    },
    {
      "cell_type": "markdown",
      "metadata": {
        "id": "Wdgkxl-6QlOX"
      },
      "source": [
        "## 데이터 불러온 결과,\n",
        "Train 데이터가 Test 데이터보다 적은 것을 확인할 수 있음\n",
        "\n",
        "적은 수의 데이터를 학습하는 데에 최적화된 LSTM 모델과 CNN이 결합된 **CNN-LSTM** 모델을 선택하였음"
      ]
    },
    {
      "cell_type": "markdown",
      "metadata": {
        "id": "c4YO69WOPeoB"
      },
      "source": [
        "### test 데이터프레임 만들기"
      ]
    },
    {
      "cell_type": "code",
      "metadata": {
        "id": "vtxdio9pPd9z"
      },
      "source": [
        "test_index = os.listdir(test_PATH)\n",
        "temp = []\n",
        "\n",
        "for index in test_index:\n",
        "    index = index.split(\".\")\n",
        "    temp.append(int(index[0]))\n",
        "    \n",
        "test_index = temp"
      ],
      "execution_count": 6,
      "outputs": []
    },
    {
      "cell_type": "markdown",
      "metadata": {
        "id": "tafXHlrhPmI0"
      },
      "source": [
        "# 2. CNN 모델 정의"
      ]
    },
    {
      "cell_type": "markdown",
      "metadata": {
        "id": "9LXQm4kXPuwB"
      },
      "source": [
        "# 3. 모델 학습\n",
        "epochs = 30"
      ]
    },
    {
      "cell_type": "markdown",
      "metadata": {
        "id": "-aUXR-0-SrM4"
      },
      "source": [
        "## 모델 1: 단순 CNN 모델"
      ]
    },
    {
      "cell_type": "code",
      "metadata": {
        "id": "vj8G934ZPlQr"
      },
      "source": [
        "model = keras.Sequential([\n",
        "    keras.layers.Flatten(input_shape=(576, 768)),\n",
        "    keras.layers.Dense(256, activation='relu'),\n",
        "    keras.layers.Dense(351, activation='softmax')\n",
        "])\n"
      ],
      "execution_count": 17,
      "outputs": []
    },
    {
      "cell_type": "code",
      "metadata": {
        "colab": {
          "base_uri": "https://localhost:8080/"
        },
        "id": "8ZaRinVQPrXx",
        "outputId": "8e558bd6-6f30-45d0-b5e5-849ee190153b"
      },
      "source": [
        "model.compile(loss='sparse_categorical_crossentropy',\n",
        "              optimizer='adam',\n",
        "              metrics=['accuracy'])\n",
        "\n",
        "model.summary() "
      ],
      "execution_count": 18,
      "outputs": [
        {
          "output_type": "stream",
          "text": [
            "Model: \"sequential_3\"\n",
            "_________________________________________________________________\n",
            "Layer (type)                 Output Shape              Param #   \n",
            "=================================================================\n",
            "flatten_3 (Flatten)          (None, 442368)            0         \n",
            "_________________________________________________________________\n",
            "dense_6 (Dense)              (None, 256)               113246464 \n",
            "_________________________________________________________________\n",
            "dense_7 (Dense)              (None, 351)               90207     \n",
            "=================================================================\n",
            "Total params: 113,336,671\n",
            "Trainable params: 113,336,671\n",
            "Non-trainable params: 0\n",
            "_________________________________________________________________\n"
          ],
          "name": "stdout"
        }
      ]
    },
    {
      "cell_type": "code",
      "metadata": {
        "colab": {
          "base_uri": "https://localhost:8080/"
        },
        "id": "axXHBHzyPt8m",
        "outputId": "1aaacfc3-3b18-45ce-c7bc-5b7676ae4ad0"
      },
      "source": [
        "model.fit(x_train, y_train, epochs=100)"
      ],
      "execution_count": 19,
      "outputs": [
        {
          "output_type": "stream",
          "text": [
            "Epoch 1/100\n",
            "4/4 [==============================] - 1s 51ms/step - loss: 94.0448 - accuracy: 0.0031\n",
            "Epoch 2/100\n",
            "4/4 [==============================] - 0s 45ms/step - loss: 166.2051 - accuracy: 0.0177\n",
            "Epoch 3/100\n",
            "4/4 [==============================] - 0s 49ms/step - loss: 123.0512 - accuracy: 0.0281\n",
            "Epoch 4/100\n",
            "4/4 [==============================] - 0s 48ms/step - loss: 123.5869 - accuracy: 0.0083\n",
            "Epoch 5/100\n",
            "4/4 [==============================] - 0s 47ms/step - loss: 90.2828 - accuracy: 0.0198\n",
            "Epoch 6/100\n",
            "4/4 [==============================] - 0s 44ms/step - loss: 61.7189 - accuracy: 0.0198\n",
            "Epoch 7/100\n",
            "4/4 [==============================] - 0s 48ms/step - loss: 45.6555 - accuracy: 0.0063\n",
            "Epoch 8/100\n",
            "4/4 [==============================] - 0s 46ms/step - loss: 25.2227 - accuracy: 0.0375\n",
            "Epoch 9/100\n",
            "4/4 [==============================] - 0s 44ms/step - loss: 6.8928 - accuracy: 0.0115\n",
            "Epoch 10/100\n",
            "4/4 [==============================] - 0s 50ms/step - loss: 5.6230 - accuracy: 0.0604\n",
            "Epoch 11/100\n",
            "4/4 [==============================] - 0s 44ms/step - loss: 5.5795 - accuracy: 0.0281\n",
            "Epoch 12/100\n",
            "4/4 [==============================] - 0s 42ms/step - loss: 5.5229 - accuracy: 0.0573\n",
            "Epoch 13/100\n",
            "4/4 [==============================] - 0s 45ms/step - loss: 5.3582 - accuracy: 0.0354\n",
            "Epoch 14/100\n",
            "4/4 [==============================] - 0s 46ms/step - loss: 5.3865 - accuracy: 0.0458\n",
            "Epoch 15/100\n",
            "4/4 [==============================] - 0s 49ms/step - loss: 5.4491 - accuracy: 0.0312\n",
            "Epoch 16/100\n",
            "4/4 [==============================] - 0s 44ms/step - loss: 5.1874 - accuracy: 0.0260\n",
            "Epoch 17/100\n",
            "4/4 [==============================] - 0s 49ms/step - loss: 4.9738 - accuracy: 0.0635\n",
            "Epoch 18/100\n",
            "4/4 [==============================] - 0s 42ms/step - loss: 4.9172 - accuracy: 0.0531\n",
            "Epoch 19/100\n",
            "4/4 [==============================] - 0s 46ms/step - loss: 4.9318 - accuracy: 0.0229\n",
            "Epoch 20/100\n",
            "4/4 [==============================] - 0s 48ms/step - loss: 5.1541 - accuracy: 0.0281\n",
            "Epoch 21/100\n",
            "4/4 [==============================] - 0s 45ms/step - loss: 4.8481 - accuracy: 0.0344\n",
            "Epoch 22/100\n",
            "4/4 [==============================] - 0s 49ms/step - loss: 4.6928 - accuracy: 0.0625\n",
            "Epoch 23/100\n",
            "4/4 [==============================] - 0s 46ms/step - loss: 4.5619 - accuracy: 0.0479\n",
            "Epoch 24/100\n",
            "4/4 [==============================] - 0s 44ms/step - loss: 4.6909 - accuracy: 0.0583\n",
            "Epoch 25/100\n",
            "4/4 [==============================] - 0s 44ms/step - loss: 4.6522 - accuracy: 0.0312\n",
            "Epoch 26/100\n",
            "4/4 [==============================] - 0s 39ms/step - loss: 4.7687 - accuracy: 0.0427\n",
            "Epoch 27/100\n",
            "4/4 [==============================] - 0s 43ms/step - loss: 4.6872 - accuracy: 0.0198\n",
            "Epoch 28/100\n",
            "4/4 [==============================] - 0s 46ms/step - loss: 4.4588 - accuracy: 0.0344\n",
            "Epoch 29/100\n",
            "4/4 [==============================] - 0s 46ms/step - loss: 4.4550 - accuracy: 0.0260\n",
            "Epoch 30/100\n",
            "4/4 [==============================] - 0s 44ms/step - loss: 4.4558 - accuracy: 0.0365\n",
            "Epoch 31/100\n",
            "4/4 [==============================] - 0s 39ms/step - loss: 4.5305 - accuracy: 0.0365\n",
            "Epoch 32/100\n",
            "4/4 [==============================] - 0s 45ms/step - loss: 4.2783 - accuracy: 0.0667\n",
            "Epoch 33/100\n",
            "4/4 [==============================] - 0s 44ms/step - loss: 4.4823 - accuracy: 0.0312\n",
            "Epoch 34/100\n",
            "4/4 [==============================] - 0s 48ms/step - loss: 4.3275 - accuracy: 0.0375\n",
            "Epoch 35/100\n",
            "4/4 [==============================] - 0s 45ms/step - loss: 4.3005 - accuracy: 0.0198\n",
            "Epoch 36/100\n",
            "4/4 [==============================] - 0s 47ms/step - loss: 4.3043 - accuracy: 0.0365\n",
            "Epoch 37/100\n",
            "4/4 [==============================] - 0s 40ms/step - loss: 4.3232 - accuracy: 0.0521\n",
            "Epoch 38/100\n",
            "4/4 [==============================] - 0s 49ms/step - loss: 4.2427 - accuracy: 0.0323\n",
            "Epoch 39/100\n",
            "4/4 [==============================] - 0s 42ms/step - loss: 4.1005 - accuracy: 0.0490\n",
            "Epoch 40/100\n",
            "4/4 [==============================] - 0s 44ms/step - loss: 4.1764 - accuracy: 0.0667\n",
            "Epoch 41/100\n",
            "4/4 [==============================] - 0s 52ms/step - loss: 4.1510 - accuracy: 0.0396\n",
            "Epoch 42/100\n",
            "4/4 [==============================] - 0s 46ms/step - loss: 4.1864 - accuracy: 0.0375\n",
            "Epoch 43/100\n",
            "4/4 [==============================] - 0s 48ms/step - loss: 4.1532 - accuracy: 0.0406\n",
            "Epoch 44/100\n",
            "4/4 [==============================] - 0s 41ms/step - loss: 4.0966 - accuracy: 0.0854\n",
            "Epoch 45/100\n",
            "4/4 [==============================] - 0s 47ms/step - loss: 4.3773 - accuracy: 0.0510\n",
            "Epoch 46/100\n",
            "4/4 [==============================] - 0s 39ms/step - loss: 4.0605 - accuracy: 0.0781\n",
            "Epoch 47/100\n",
            "4/4 [==============================] - 0s 42ms/step - loss: 4.0972 - accuracy: 0.0417\n",
            "Epoch 48/100\n",
            "4/4 [==============================] - 0s 48ms/step - loss: 4.4982 - accuracy: 0.0792\n",
            "Epoch 49/100\n",
            "4/4 [==============================] - 0s 45ms/step - loss: 4.5053 - accuracy: 0.0469\n",
            "Epoch 50/100\n",
            "4/4 [==============================] - 0s 46ms/step - loss: 4.2793 - accuracy: 0.0302\n",
            "Epoch 51/100\n",
            "4/4 [==============================] - 0s 46ms/step - loss: 4.4733 - accuracy: 0.0250\n",
            "Epoch 52/100\n",
            "4/4 [==============================] - 0s 46ms/step - loss: 4.3449 - accuracy: 0.0479\n",
            "Epoch 53/100\n",
            "4/4 [==============================] - 0s 46ms/step - loss: 4.2892 - accuracy: 0.0177\n",
            "Epoch 54/100\n",
            "4/4 [==============================] - 0s 47ms/step - loss: 4.3720 - accuracy: 0.0354\n",
            "Epoch 55/100\n",
            "4/4 [==============================] - 0s 43ms/step - loss: 4.4351 - accuracy: 0.0146\n",
            "Epoch 56/100\n",
            "4/4 [==============================] - 0s 44ms/step - loss: 4.4856 - accuracy: 0.0448\n",
            "Epoch 57/100\n",
            "4/4 [==============================] - 0s 47ms/step - loss: 4.2657 - accuracy: 0.0135\n",
            "Epoch 58/100\n",
            "4/4 [==============================] - 0s 48ms/step - loss: 4.1507 - accuracy: 0.0490\n",
            "Epoch 59/100\n",
            "4/4 [==============================] - 0s 46ms/step - loss: 4.1102 - accuracy: 0.0135\n",
            "Epoch 60/100\n",
            "4/4 [==============================] - 0s 50ms/step - loss: 4.0742 - accuracy: 0.0490\n",
            "Epoch 61/100\n",
            "4/4 [==============================] - 0s 47ms/step - loss: 4.1399 - accuracy: 0.0219\n",
            "Epoch 62/100\n",
            "4/4 [==============================] - 0s 46ms/step - loss: 4.1593 - accuracy: 0.0198\n",
            "Epoch 63/100\n",
            "4/4 [==============================] - 0s 46ms/step - loss: 4.0729 - accuracy: 0.0365\n",
            "Epoch 64/100\n",
            "4/4 [==============================] - 0s 48ms/step - loss: 4.0451 - accuracy: 0.0469\n",
            "Epoch 65/100\n",
            "4/4 [==============================] - 0s 45ms/step - loss: 4.2232 - accuracy: 0.0198\n",
            "Epoch 66/100\n",
            "4/4 [==============================] - 0s 43ms/step - loss: 4.0319 - accuracy: 0.0333\n",
            "Epoch 67/100\n",
            "4/4 [==============================] - 0s 44ms/step - loss: 4.0086 - accuracy: 0.0281\n",
            "Epoch 68/100\n",
            "4/4 [==============================] - 0s 46ms/step - loss: 4.1097 - accuracy: 0.0365\n",
            "Epoch 69/100\n",
            "4/4 [==============================] - 0s 43ms/step - loss: 4.0642 - accuracy: 0.0531\n",
            "Epoch 70/100\n",
            "4/4 [==============================] - 0s 49ms/step - loss: 4.1277 - accuracy: 0.0083\n",
            "Epoch 71/100\n",
            "4/4 [==============================] - 0s 44ms/step - loss: 4.0238 - accuracy: 0.0448\n",
            "Epoch 72/100\n",
            "4/4 [==============================] - 0s 49ms/step - loss: 4.1000 - accuracy: 0.0365\n",
            "Epoch 73/100\n",
            "4/4 [==============================] - 0s 50ms/step - loss: 3.9882 - accuracy: 0.0573\n",
            "Epoch 74/100\n",
            "4/4 [==============================] - 0s 48ms/step - loss: 3.9351 - accuracy: 0.0875\n",
            "Epoch 75/100\n",
            "4/4 [==============================] - 0s 47ms/step - loss: 3.8956 - accuracy: 0.0469\n",
            "Epoch 76/100\n",
            "4/4 [==============================] - 0s 50ms/step - loss: 4.0258 - accuracy: 0.0542\n",
            "Epoch 77/100\n",
            "4/4 [==============================] - 0s 49ms/step - loss: 3.9252 - accuracy: 0.0385\n",
            "Epoch 78/100\n",
            "4/4 [==============================] - 0s 45ms/step - loss: 3.9282 - accuracy: 0.0406\n",
            "Epoch 79/100\n",
            "4/4 [==============================] - 0s 52ms/step - loss: 3.8610 - accuracy: 0.0427\n",
            "Epoch 80/100\n",
            "4/4 [==============================] - 0s 47ms/step - loss: 4.3760 - accuracy: 0.0552\n",
            "Epoch 81/100\n",
            "4/4 [==============================] - 0s 48ms/step - loss: 4.7864 - accuracy: 0.0292\n",
            "Epoch 82/100\n",
            "4/4 [==============================] - 0s 42ms/step - loss: 4.3641 - accuracy: 0.0552\n",
            "Epoch 83/100\n",
            "4/4 [==============================] - 0s 50ms/step - loss: 4.2370 - accuracy: 0.0115\n",
            "Epoch 84/100\n",
            "4/4 [==============================] - 0s 53ms/step - loss: 4.1838 - accuracy: 0.0563\n",
            "Epoch 85/100\n",
            "4/4 [==============================] - 0s 50ms/step - loss: 3.9894 - accuracy: 0.0417\n",
            "Epoch 86/100\n",
            "4/4 [==============================] - 0s 39ms/step - loss: 4.0258 - accuracy: 0.0365\n",
            "Epoch 87/100\n",
            "4/4 [==============================] - 0s 46ms/step - loss: 3.9408 - accuracy: 0.0521\n",
            "Epoch 88/100\n",
            "4/4 [==============================] - 0s 49ms/step - loss: 4.0398 - accuracy: 0.0469\n",
            "Epoch 89/100\n",
            "4/4 [==============================] - 0s 50ms/step - loss: 4.0300 - accuracy: 0.0521\n",
            "Epoch 90/100\n",
            "4/4 [==============================] - 0s 45ms/step - loss: 3.8779 - accuracy: 0.0417\n",
            "Epoch 91/100\n",
            "4/4 [==============================] - 0s 45ms/step - loss: 4.0392 - accuracy: 0.0583\n",
            "Epoch 92/100\n",
            "4/4 [==============================] - 0s 49ms/step - loss: 3.8398 - accuracy: 0.0604\n",
            "Epoch 93/100\n",
            "4/4 [==============================] - 0s 45ms/step - loss: 3.7486 - accuracy: 0.0490\n",
            "Epoch 94/100\n",
            "4/4 [==============================] - 0s 52ms/step - loss: 3.8130 - accuracy: 0.0552\n",
            "Epoch 95/100\n",
            "4/4 [==============================] - 0s 48ms/step - loss: 3.8171 - accuracy: 0.0427\n",
            "Epoch 96/100\n",
            "4/4 [==============================] - 0s 45ms/step - loss: 3.8574 - accuracy: 0.0365\n",
            "Epoch 97/100\n",
            "4/4 [==============================] - 0s 53ms/step - loss: 3.8755 - accuracy: 0.0281\n",
            "Epoch 98/100\n",
            "4/4 [==============================] - 0s 41ms/step - loss: 3.7122 - accuracy: 0.0563\n",
            "Epoch 99/100\n",
            "4/4 [==============================] - 0s 40ms/step - loss: 3.8245 - accuracy: 0.0719\n",
            "Epoch 100/100\n",
            "4/4 [==============================] - 0s 42ms/step - loss: 3.8738 - accuracy: 0.0792\n"
          ],
          "name": "stdout"
        },
        {
          "output_type": "execute_result",
          "data": {
            "text/plain": [
              "<keras.callbacks.History at 0x7fd7a2280710>"
            ]
          },
          "metadata": {
            "tags": []
          },
          "execution_count": 19
        }
      ]
    },
    {
      "cell_type": "markdown",
      "metadata": {
        "id": "l_McHD3sSu2X"
      },
      "source": [
        "## 모델 2: CNN-LSTM 모델"
      ]
    },
    {
      "cell_type": "code",
      "metadata": {
        "id": "aJ4lgEYqTH4w"
      },
      "source": [
        "from sklearn.model_selection import train_test_split\n",
        "from keras.layers import Input, Dense, LSTM, TimeDistributed\n",
        "from keras.layers import Activation, Dropout\n",
        "\n",
        "\n",
        "X_train, X_test, Y_train, Y_test = train_test_split(x_train, y_train, test_size = 0.30, random_state = 36)\n"
      ],
      "execution_count": 29,
      "outputs": []
    },
    {
      "cell_type": "code",
      "metadata": {
        "colab": {
          "base_uri": "https://localhost:8080/",
          "height": 370
        },
        "id": "MhStSOxYSxF1",
        "outputId": "bed2fc33-c1bd-4008-a9f4-590b3a0a155e"
      },
      "source": [
        "num_classes = 64  # 64명의 데이터\n",
        "\n",
        "model = Sequential()\n",
        "\n",
        "# Adding CNN Model layers\n",
        "model.add(TimeDistributed(Conv2D(32, kernel_size = (4 , 2), strides = 1, padding='valid', activation = 'relu', input_shape = (None,576,768,1))))\n",
        "model.add(TimeDistributed(BatchNormalization()))\n",
        "model.add(TimeDistributed(Conv2D(64, kernel_size = (4 , 2), strides = 1, padding='valid', activation = 'relu')))\n",
        "model.add(TimeDistributed(BatchNormalization()))\n",
        "\n",
        "#model.add(TimeDistributed(Reshape((-1,1))))\n",
        "model.add(TimeDistributed(MaxPooling2D()))\n",
        "#model.add(Reshape((1,1)))\n",
        "\n",
        "# Adding LSTM layers\n",
        "model.add(LSTM(128, recurrent_dropout=0.2))\n",
        "model.add(Dropout(rate = 0.2))\n",
        "model.add(Dense(100))\n",
        "model.add(Dropout(rate = 0.4))\n",
        "model.add(Dense(108))\n",
        "model.add(Dense(num_classes, activation='softmax'))\n",
        "\n",
        "#model.summary()"
      ],
      "execution_count": 27,
      "outputs": [
        {
          "output_type": "error",
          "ename": "ValueError",
          "evalue": "ignored",
          "traceback": [
            "\u001b[0;31m---------------------------------------------------------------------------\u001b[0m",
            "\u001b[0;31mValueError\u001b[0m                                Traceback (most recent call last)",
            "\u001b[0;32m<ipython-input-27-90016c378c0f>\u001b[0m in \u001b[0;36m<module>\u001b[0;34m()\u001b[0m\n\u001b[1;32m      4\u001b[0m \u001b[0;34m\u001b[0m\u001b[0m\n\u001b[1;32m      5\u001b[0m \u001b[0;31m# Adding CNN Model layers\u001b[0m\u001b[0;34m\u001b[0m\u001b[0;34m\u001b[0m\u001b[0;34m\u001b[0m\u001b[0m\n\u001b[0;32m----> 6\u001b[0;31m \u001b[0mmodel\u001b[0m\u001b[0;34m.\u001b[0m\u001b[0madd\u001b[0m\u001b[0;34m(\u001b[0m\u001b[0mTimeDistributed\u001b[0m\u001b[0;34m(\u001b[0m\u001b[0mConv2D\u001b[0m\u001b[0;34m(\u001b[0m\u001b[0;36m32\u001b[0m\u001b[0;34m,\u001b[0m \u001b[0mkernel_size\u001b[0m \u001b[0;34m=\u001b[0m \u001b[0;34m(\u001b[0m\u001b[0;36m4\u001b[0m \u001b[0;34m,\u001b[0m \u001b[0;36m2\u001b[0m\u001b[0;34m)\u001b[0m\u001b[0;34m,\u001b[0m \u001b[0mstrides\u001b[0m \u001b[0;34m=\u001b[0m \u001b[0;36m1\u001b[0m\u001b[0;34m,\u001b[0m \u001b[0mpadding\u001b[0m\u001b[0;34m=\u001b[0m\u001b[0;34m'valid'\u001b[0m\u001b[0;34m,\u001b[0m \u001b[0mactivation\u001b[0m \u001b[0;34m=\u001b[0m \u001b[0;34m'relu'\u001b[0m\u001b[0;34m,\u001b[0m \u001b[0minput_shape\u001b[0m \u001b[0;34m=\u001b[0m \u001b[0;34m(\u001b[0m\u001b[0;32mNone\u001b[0m\u001b[0;34m,\u001b[0m\u001b[0;36m576\u001b[0m\u001b[0;34m,\u001b[0m\u001b[0;36m768\u001b[0m\u001b[0;34m,\u001b[0m\u001b[0;36m1\u001b[0m\u001b[0;34m)\u001b[0m\u001b[0;34m)\u001b[0m\u001b[0;34m)\u001b[0m\u001b[0;34m)\u001b[0m\u001b[0;34m\u001b[0m\u001b[0;34m\u001b[0m\u001b[0m\n\u001b[0m\u001b[1;32m      7\u001b[0m \u001b[0mmodel\u001b[0m\u001b[0;34m.\u001b[0m\u001b[0madd\u001b[0m\u001b[0;34m(\u001b[0m\u001b[0mTimeDistributed\u001b[0m\u001b[0;34m(\u001b[0m\u001b[0mBatchNormalization\u001b[0m\u001b[0;34m(\u001b[0m\u001b[0;34m)\u001b[0m\u001b[0;34m)\u001b[0m\u001b[0;34m)\u001b[0m\u001b[0;34m\u001b[0m\u001b[0;34m\u001b[0m\u001b[0m\n\u001b[1;32m      8\u001b[0m \u001b[0mmodel\u001b[0m\u001b[0;34m.\u001b[0m\u001b[0madd\u001b[0m\u001b[0;34m(\u001b[0m\u001b[0mTimeDistributed\u001b[0m\u001b[0;34m(\u001b[0m\u001b[0mConv2D\u001b[0m\u001b[0;34m(\u001b[0m\u001b[0;36m64\u001b[0m\u001b[0;34m,\u001b[0m \u001b[0mkernel_size\u001b[0m \u001b[0;34m=\u001b[0m \u001b[0;34m(\u001b[0m\u001b[0;36m4\u001b[0m \u001b[0;34m,\u001b[0m \u001b[0;36m2\u001b[0m\u001b[0;34m)\u001b[0m\u001b[0;34m,\u001b[0m \u001b[0mstrides\u001b[0m \u001b[0;34m=\u001b[0m \u001b[0;36m1\u001b[0m\u001b[0;34m,\u001b[0m \u001b[0mpadding\u001b[0m\u001b[0;34m=\u001b[0m\u001b[0;34m'valid'\u001b[0m\u001b[0;34m,\u001b[0m \u001b[0mactivation\u001b[0m \u001b[0;34m=\u001b[0m \u001b[0;34m'relu'\u001b[0m\u001b[0;34m)\u001b[0m\u001b[0;34m)\u001b[0m\u001b[0;34m)\u001b[0m\u001b[0;34m\u001b[0m\u001b[0;34m\u001b[0m\u001b[0m\n",
            "\u001b[0;32m/usr/local/lib/python3.7/dist-packages/keras/layers/wrappers.py\u001b[0m in \u001b[0;36m__init__\u001b[0;34m(self, layer, **kwargs)\u001b[0m\n\u001b[1;32m    121\u001b[0m           \u001b[0;34m'Please initialize `TimeDistributed` layer with a '\u001b[0m\u001b[0;34m\u001b[0m\u001b[0;34m\u001b[0m\u001b[0m\n\u001b[1;32m    122\u001b[0m           '`tf.keras.layers.Layer` instance. You passed: {input}'.format(\n\u001b[0;32m--> 123\u001b[0;31m               input=layer))\n\u001b[0m\u001b[1;32m    124\u001b[0m     \u001b[0msuper\u001b[0m\u001b[0;34m(\u001b[0m\u001b[0mTimeDistributed\u001b[0m\u001b[0;34m,\u001b[0m \u001b[0mself\u001b[0m\u001b[0;34m)\u001b[0m\u001b[0;34m.\u001b[0m\u001b[0m__init__\u001b[0m\u001b[0;34m(\u001b[0m\u001b[0mlayer\u001b[0m\u001b[0;34m,\u001b[0m \u001b[0;34m**\u001b[0m\u001b[0mkwargs\u001b[0m\u001b[0;34m)\u001b[0m\u001b[0;34m\u001b[0m\u001b[0;34m\u001b[0m\u001b[0m\n\u001b[1;32m    125\u001b[0m     \u001b[0mself\u001b[0m\u001b[0;34m.\u001b[0m\u001b[0msupports_masking\u001b[0m \u001b[0;34m=\u001b[0m \u001b[0;32mTrue\u001b[0m\u001b[0;34m\u001b[0m\u001b[0;34m\u001b[0m\u001b[0m\n",
            "\u001b[0;31mValueError\u001b[0m: Please initialize `TimeDistributed` layer with a `tf.keras.layers.Layer` instance. You passed: <tensorflow.python.keras.layers.convolutional.Conv2D object at 0x7fd7a27366d0>"
          ]
        }
      ]
    },
    {
      "cell_type": "code",
      "metadata": {
        "colab": {
          "base_uri": "https://localhost:8080/",
          "height": 412
        },
        "id": "cOamx8GpWYpx",
        "outputId": "07025da1-54ee-4461-e874-35087477c1b9"
      },
      "source": [
        "num_classes = 64  # 64명의 데이터\n",
        "\n",
        "model = keras.Sequential([\n",
        "  layers.Conv2D(64, kernel_size = (2 , 2), strides = 1, padding='valid', \n",
        "                                activation = 'relu', input_shape = (None,576,768,1)),\n",
        "  layers.TimeDistributed(BatchNormalization()),\n",
        "  layers.Conv2D(128, kernel_size = (2 , 2), strides = 1, padding='valid', activation = 'relu'),\n",
        "  layers.TimeDistributed(BatchNormalization()),\n",
        "\n",
        "  layers.MaxPooling2D(),\n",
        "\n",
        "# Adding LSTM layers\n",
        "  layers.LSTM(128, recurrent_dropout=0.2),\n",
        "  layers.Dropout(rate = 0.2),\n",
        "  layers.Dense(100),\n",
        "  layers.Dropout(rate=0.4),\n",
        "  layers.Dense(108),\n",
        "  layers.Dense(num_classes, activation='softmax')\n",
        "])\n",
        "\n",
        "#model.summary()"
      ],
      "execution_count": 31,
      "outputs": [
        {
          "output_type": "stream",
          "text": [
            "WARNING:tensorflow:Layer lstm will not use cuDNN kernels since it doesn't meet the criteria. It will use a generic GPU kernel as fallback when running on GPU.\n"
          ],
          "name": "stdout"
        },
        {
          "output_type": "error",
          "ename": "ValueError",
          "evalue": "ignored",
          "traceback": [
            "\u001b[0;31m---------------------------------------------------------------------------\u001b[0m",
            "\u001b[0;31mValueError\u001b[0m                                Traceback (most recent call last)",
            "\u001b[0;32m<ipython-input-31-2125e61dd81a>\u001b[0m in \u001b[0;36m<module>\u001b[0;34m()\u001b[0m\n\u001b[1;32m     16\u001b[0m   \u001b[0mlayers\u001b[0m\u001b[0;34m.\u001b[0m\u001b[0mDropout\u001b[0m\u001b[0;34m(\u001b[0m\u001b[0mrate\u001b[0m\u001b[0;34m=\u001b[0m\u001b[0;36m0.4\u001b[0m\u001b[0;34m)\u001b[0m\u001b[0;34m,\u001b[0m\u001b[0;34m\u001b[0m\u001b[0;34m\u001b[0m\u001b[0m\n\u001b[1;32m     17\u001b[0m   \u001b[0mlayers\u001b[0m\u001b[0;34m.\u001b[0m\u001b[0mDense\u001b[0m\u001b[0;34m(\u001b[0m\u001b[0;36m108\u001b[0m\u001b[0;34m)\u001b[0m\u001b[0;34m,\u001b[0m\u001b[0;34m\u001b[0m\u001b[0;34m\u001b[0m\u001b[0m\n\u001b[0;32m---> 18\u001b[0;31m   \u001b[0mlayers\u001b[0m\u001b[0;34m.\u001b[0m\u001b[0mDense\u001b[0m\u001b[0;34m(\u001b[0m\u001b[0mnum_classes\u001b[0m\u001b[0;34m,\u001b[0m \u001b[0mactivation\u001b[0m\u001b[0;34m=\u001b[0m\u001b[0;34m'softmax'\u001b[0m\u001b[0;34m)\u001b[0m\u001b[0;34m\u001b[0m\u001b[0;34m\u001b[0m\u001b[0m\n\u001b[0m\u001b[1;32m     19\u001b[0m ])\n\u001b[1;32m     20\u001b[0m \u001b[0;34m\u001b[0m\u001b[0m\n",
            "\u001b[0;32m/usr/local/lib/python3.7/dist-packages/tensorflow/python/training/tracking/base.py\u001b[0m in \u001b[0;36m_method_wrapper\u001b[0;34m(self, *args, **kwargs)\u001b[0m\n\u001b[1;32m    520\u001b[0m     \u001b[0mself\u001b[0m\u001b[0;34m.\u001b[0m\u001b[0m_self_setattr_tracking\u001b[0m \u001b[0;34m=\u001b[0m \u001b[0;32mFalse\u001b[0m  \u001b[0;31m# pylint: disable=protected-access\u001b[0m\u001b[0;34m\u001b[0m\u001b[0;34m\u001b[0m\u001b[0m\n\u001b[1;32m    521\u001b[0m     \u001b[0;32mtry\u001b[0m\u001b[0;34m:\u001b[0m\u001b[0;34m\u001b[0m\u001b[0;34m\u001b[0m\u001b[0m\n\u001b[0;32m--> 522\u001b[0;31m       \u001b[0mresult\u001b[0m \u001b[0;34m=\u001b[0m \u001b[0mmethod\u001b[0m\u001b[0;34m(\u001b[0m\u001b[0mself\u001b[0m\u001b[0;34m,\u001b[0m \u001b[0;34m*\u001b[0m\u001b[0margs\u001b[0m\u001b[0;34m,\u001b[0m \u001b[0;34m**\u001b[0m\u001b[0mkwargs\u001b[0m\u001b[0;34m)\u001b[0m\u001b[0;34m\u001b[0m\u001b[0;34m\u001b[0m\u001b[0m\n\u001b[0m\u001b[1;32m    523\u001b[0m     \u001b[0;32mfinally\u001b[0m\u001b[0;34m:\u001b[0m\u001b[0;34m\u001b[0m\u001b[0;34m\u001b[0m\u001b[0m\n\u001b[1;32m    524\u001b[0m       \u001b[0mself\u001b[0m\u001b[0;34m.\u001b[0m\u001b[0m_self_setattr_tracking\u001b[0m \u001b[0;34m=\u001b[0m \u001b[0mprevious_value\u001b[0m  \u001b[0;31m# pylint: disable=protected-access\u001b[0m\u001b[0;34m\u001b[0m\u001b[0;34m\u001b[0m\u001b[0m\n",
            "\u001b[0;32m/usr/local/lib/python3.7/dist-packages/keras/engine/sequential.py\u001b[0m in \u001b[0;36m__init__\u001b[0;34m(self, layers, name)\u001b[0m\n\u001b[1;32m    134\u001b[0m         \u001b[0mlayers\u001b[0m \u001b[0;34m=\u001b[0m \u001b[0;34m[\u001b[0m\u001b[0mlayers\u001b[0m\u001b[0;34m]\u001b[0m\u001b[0;34m\u001b[0m\u001b[0;34m\u001b[0m\u001b[0m\n\u001b[1;32m    135\u001b[0m       \u001b[0;32mfor\u001b[0m \u001b[0mlayer\u001b[0m \u001b[0;32min\u001b[0m \u001b[0mlayers\u001b[0m\u001b[0;34m:\u001b[0m\u001b[0;34m\u001b[0m\u001b[0;34m\u001b[0m\u001b[0m\n\u001b[0;32m--> 136\u001b[0;31m         \u001b[0mself\u001b[0m\u001b[0;34m.\u001b[0m\u001b[0madd\u001b[0m\u001b[0;34m(\u001b[0m\u001b[0mlayer\u001b[0m\u001b[0;34m)\u001b[0m\u001b[0;34m\u001b[0m\u001b[0;34m\u001b[0m\u001b[0m\n\u001b[0m\u001b[1;32m    137\u001b[0m \u001b[0;34m\u001b[0m\u001b[0m\n\u001b[1;32m    138\u001b[0m   \u001b[0;34m@\u001b[0m\u001b[0mproperty\u001b[0m\u001b[0;34m\u001b[0m\u001b[0;34m\u001b[0m\u001b[0m\n",
            "\u001b[0;32m/usr/local/lib/python3.7/dist-packages/tensorflow/python/training/tracking/base.py\u001b[0m in \u001b[0;36m_method_wrapper\u001b[0;34m(self, *args, **kwargs)\u001b[0m\n\u001b[1;32m    520\u001b[0m     \u001b[0mself\u001b[0m\u001b[0;34m.\u001b[0m\u001b[0m_self_setattr_tracking\u001b[0m \u001b[0;34m=\u001b[0m \u001b[0;32mFalse\u001b[0m  \u001b[0;31m# pylint: disable=protected-access\u001b[0m\u001b[0;34m\u001b[0m\u001b[0;34m\u001b[0m\u001b[0m\n\u001b[1;32m    521\u001b[0m     \u001b[0;32mtry\u001b[0m\u001b[0;34m:\u001b[0m\u001b[0;34m\u001b[0m\u001b[0;34m\u001b[0m\u001b[0m\n\u001b[0;32m--> 522\u001b[0;31m       \u001b[0mresult\u001b[0m \u001b[0;34m=\u001b[0m \u001b[0mmethod\u001b[0m\u001b[0;34m(\u001b[0m\u001b[0mself\u001b[0m\u001b[0;34m,\u001b[0m \u001b[0;34m*\u001b[0m\u001b[0margs\u001b[0m\u001b[0;34m,\u001b[0m \u001b[0;34m**\u001b[0m\u001b[0mkwargs\u001b[0m\u001b[0;34m)\u001b[0m\u001b[0;34m\u001b[0m\u001b[0;34m\u001b[0m\u001b[0m\n\u001b[0m\u001b[1;32m    523\u001b[0m     \u001b[0;32mfinally\u001b[0m\u001b[0;34m:\u001b[0m\u001b[0;34m\u001b[0m\u001b[0;34m\u001b[0m\u001b[0m\n\u001b[1;32m    524\u001b[0m       \u001b[0mself\u001b[0m\u001b[0;34m.\u001b[0m\u001b[0m_self_setattr_tracking\u001b[0m \u001b[0;34m=\u001b[0m \u001b[0mprevious_value\u001b[0m  \u001b[0;31m# pylint: disable=protected-access\u001b[0m\u001b[0;34m\u001b[0m\u001b[0;34m\u001b[0m\u001b[0m\n",
            "\u001b[0;32m/usr/local/lib/python3.7/dist-packages/keras/engine/sequential.py\u001b[0m in \u001b[0;36madd\u001b[0;34m(self, layer)\u001b[0m\n\u001b[1;32m    221\u001b[0m       \u001b[0;31m# If the model is being built continuously on top of an input layer:\u001b[0m\u001b[0;34m\u001b[0m\u001b[0;34m\u001b[0m\u001b[0;34m\u001b[0m\u001b[0m\n\u001b[1;32m    222\u001b[0m       \u001b[0;31m# refresh its output.\u001b[0m\u001b[0;34m\u001b[0m\u001b[0;34m\u001b[0m\u001b[0;34m\u001b[0m\u001b[0m\n\u001b[0;32m--> 223\u001b[0;31m       \u001b[0moutput_tensor\u001b[0m \u001b[0;34m=\u001b[0m \u001b[0mlayer\u001b[0m\u001b[0;34m(\u001b[0m\u001b[0mself\u001b[0m\u001b[0;34m.\u001b[0m\u001b[0moutputs\u001b[0m\u001b[0;34m[\u001b[0m\u001b[0;36m0\u001b[0m\u001b[0;34m]\u001b[0m\u001b[0;34m)\u001b[0m\u001b[0;34m\u001b[0m\u001b[0;34m\u001b[0m\u001b[0m\n\u001b[0m\u001b[1;32m    224\u001b[0m       \u001b[0;32mif\u001b[0m \u001b[0mlen\u001b[0m\u001b[0;34m(\u001b[0m\u001b[0mtf\u001b[0m\u001b[0;34m.\u001b[0m\u001b[0mnest\u001b[0m\u001b[0;34m.\u001b[0m\u001b[0mflatten\u001b[0m\u001b[0;34m(\u001b[0m\u001b[0moutput_tensor\u001b[0m\u001b[0;34m)\u001b[0m\u001b[0;34m)\u001b[0m \u001b[0;34m!=\u001b[0m \u001b[0;36m1\u001b[0m\u001b[0;34m:\u001b[0m\u001b[0;34m\u001b[0m\u001b[0;34m\u001b[0m\u001b[0m\n\u001b[1;32m    225\u001b[0m         \u001b[0;32mraise\u001b[0m \u001b[0mValueError\u001b[0m\u001b[0;34m(\u001b[0m\u001b[0mSINGLE_LAYER_OUTPUT_ERROR_MSG\u001b[0m\u001b[0;34m)\u001b[0m\u001b[0;34m\u001b[0m\u001b[0;34m\u001b[0m\u001b[0m\n",
            "\u001b[0;32m/usr/local/lib/python3.7/dist-packages/keras/engine/base_layer.py\u001b[0m in \u001b[0;36m__call__\u001b[0;34m(self, *args, **kwargs)\u001b[0m\n\u001b[1;32m    944\u001b[0m     \u001b[0;32mif\u001b[0m \u001b[0m_in_functional_construction_mode\u001b[0m\u001b[0;34m(\u001b[0m\u001b[0mself\u001b[0m\u001b[0;34m,\u001b[0m \u001b[0minputs\u001b[0m\u001b[0;34m,\u001b[0m \u001b[0margs\u001b[0m\u001b[0;34m,\u001b[0m \u001b[0mkwargs\u001b[0m\u001b[0;34m,\u001b[0m \u001b[0minput_list\u001b[0m\u001b[0;34m)\u001b[0m\u001b[0;34m:\u001b[0m\u001b[0;34m\u001b[0m\u001b[0;34m\u001b[0m\u001b[0m\n\u001b[1;32m    945\u001b[0m       return self._functional_construction_call(inputs, args, kwargs,\n\u001b[0;32m--> 946\u001b[0;31m                                                 input_list)\n\u001b[0m\u001b[1;32m    947\u001b[0m \u001b[0;34m\u001b[0m\u001b[0m\n\u001b[1;32m    948\u001b[0m     \u001b[0;31m# Maintains info about the `Layer.call` stack.\u001b[0m\u001b[0;34m\u001b[0m\u001b[0;34m\u001b[0m\u001b[0;34m\u001b[0m\u001b[0m\n",
            "\u001b[0;32m/usr/local/lib/python3.7/dist-packages/keras/engine/base_layer.py\u001b[0m in \u001b[0;36m_functional_construction_call\u001b[0;34m(self, inputs, args, kwargs, input_list)\u001b[0m\n\u001b[1;32m   1082\u001b[0m       \u001b[0;31m# Check input assumptions set after layer building, e.g. input shape.\u001b[0m\u001b[0;34m\u001b[0m\u001b[0;34m\u001b[0m\u001b[0;34m\u001b[0m\u001b[0m\n\u001b[1;32m   1083\u001b[0m       outputs = self._keras_tensor_symbolic_call(\n\u001b[0;32m-> 1084\u001b[0;31m           inputs, input_masks, args, kwargs)\n\u001b[0m\u001b[1;32m   1085\u001b[0m \u001b[0;34m\u001b[0m\u001b[0m\n\u001b[1;32m   1086\u001b[0m       \u001b[0;32mif\u001b[0m \u001b[0moutputs\u001b[0m \u001b[0;32mis\u001b[0m \u001b[0;32mNone\u001b[0m\u001b[0;34m:\u001b[0m\u001b[0;34m\u001b[0m\u001b[0;34m\u001b[0m\u001b[0m\n",
            "\u001b[0;32m/usr/local/lib/python3.7/dist-packages/keras/engine/base_layer.py\u001b[0m in \u001b[0;36m_keras_tensor_symbolic_call\u001b[0;34m(self, inputs, input_masks, args, kwargs)\u001b[0m\n\u001b[1;32m    814\u001b[0m       \u001b[0;32mreturn\u001b[0m \u001b[0mtf\u001b[0m\u001b[0;34m.\u001b[0m\u001b[0mnest\u001b[0m\u001b[0;34m.\u001b[0m\u001b[0mmap_structure\u001b[0m\u001b[0;34m(\u001b[0m\u001b[0mkeras_tensor\u001b[0m\u001b[0;34m.\u001b[0m\u001b[0mKerasTensor\u001b[0m\u001b[0;34m,\u001b[0m \u001b[0moutput_signature\u001b[0m\u001b[0;34m)\u001b[0m\u001b[0;34m\u001b[0m\u001b[0;34m\u001b[0m\u001b[0m\n\u001b[1;32m    815\u001b[0m     \u001b[0;32melse\u001b[0m\u001b[0;34m:\u001b[0m\u001b[0;34m\u001b[0m\u001b[0;34m\u001b[0m\u001b[0m\n\u001b[0;32m--> 816\u001b[0;31m       \u001b[0;32mreturn\u001b[0m \u001b[0mself\u001b[0m\u001b[0;34m.\u001b[0m\u001b[0m_infer_output_signature\u001b[0m\u001b[0;34m(\u001b[0m\u001b[0minputs\u001b[0m\u001b[0;34m,\u001b[0m \u001b[0margs\u001b[0m\u001b[0;34m,\u001b[0m \u001b[0mkwargs\u001b[0m\u001b[0;34m,\u001b[0m \u001b[0minput_masks\u001b[0m\u001b[0;34m)\u001b[0m\u001b[0;34m\u001b[0m\u001b[0;34m\u001b[0m\u001b[0m\n\u001b[0m\u001b[1;32m    817\u001b[0m \u001b[0;34m\u001b[0m\u001b[0m\n\u001b[1;32m    818\u001b[0m   \u001b[0;32mdef\u001b[0m \u001b[0m_infer_output_signature\u001b[0m\u001b[0;34m(\u001b[0m\u001b[0mself\u001b[0m\u001b[0;34m,\u001b[0m \u001b[0minputs\u001b[0m\u001b[0;34m,\u001b[0m \u001b[0margs\u001b[0m\u001b[0;34m,\u001b[0m \u001b[0mkwargs\u001b[0m\u001b[0;34m,\u001b[0m \u001b[0minput_masks\u001b[0m\u001b[0;34m)\u001b[0m\u001b[0;34m:\u001b[0m\u001b[0;34m\u001b[0m\u001b[0;34m\u001b[0m\u001b[0m\n",
            "\u001b[0;32m/usr/local/lib/python3.7/dist-packages/keras/engine/base_layer.py\u001b[0m in \u001b[0;36m_infer_output_signature\u001b[0;34m(self, inputs, args, kwargs, input_masks)\u001b[0m\n\u001b[1;32m    852\u001b[0m           \u001b[0;31m# overridden).\u001b[0m\u001b[0;34m\u001b[0m\u001b[0;34m\u001b[0m\u001b[0;34m\u001b[0m\u001b[0m\n\u001b[1;32m    853\u001b[0m           \u001b[0;31m# TODO(kaftan): do we maybe_build here, or have we already done it?\u001b[0m\u001b[0;34m\u001b[0m\u001b[0;34m\u001b[0m\u001b[0;34m\u001b[0m\u001b[0m\n\u001b[0;32m--> 854\u001b[0;31m           \u001b[0mself\u001b[0m\u001b[0;34m.\u001b[0m\u001b[0m_maybe_build\u001b[0m\u001b[0;34m(\u001b[0m\u001b[0minputs\u001b[0m\u001b[0;34m)\u001b[0m\u001b[0;34m\u001b[0m\u001b[0;34m\u001b[0m\u001b[0m\n\u001b[0m\u001b[1;32m    855\u001b[0m           \u001b[0minputs\u001b[0m \u001b[0;34m=\u001b[0m \u001b[0mself\u001b[0m\u001b[0;34m.\u001b[0m\u001b[0m_maybe_cast_inputs\u001b[0m\u001b[0;34m(\u001b[0m\u001b[0minputs\u001b[0m\u001b[0;34m)\u001b[0m\u001b[0;34m\u001b[0m\u001b[0;34m\u001b[0m\u001b[0m\n\u001b[1;32m    856\u001b[0m           \u001b[0moutputs\u001b[0m \u001b[0;34m=\u001b[0m \u001b[0mcall_fn\u001b[0m\u001b[0;34m(\u001b[0m\u001b[0minputs\u001b[0m\u001b[0;34m,\u001b[0m \u001b[0;34m*\u001b[0m\u001b[0margs\u001b[0m\u001b[0;34m,\u001b[0m \u001b[0;34m**\u001b[0m\u001b[0mkwargs\u001b[0m\u001b[0;34m)\u001b[0m\u001b[0;34m\u001b[0m\u001b[0;34m\u001b[0m\u001b[0m\n",
            "\u001b[0;32m/usr/local/lib/python3.7/dist-packages/keras/engine/base_layer.py\u001b[0m in \u001b[0;36m_maybe_build\u001b[0;34m(self, inputs)\u001b[0m\n\u001b[1;32m   2574\u001b[0m     \u001b[0;32mif\u001b[0m \u001b[0;32mnot\u001b[0m \u001b[0mself\u001b[0m\u001b[0;34m.\u001b[0m\u001b[0mbuilt\u001b[0m\u001b[0;34m:\u001b[0m\u001b[0;34m\u001b[0m\u001b[0;34m\u001b[0m\u001b[0m\n\u001b[1;32m   2575\u001b[0m       input_spec.assert_input_compatibility(\n\u001b[0;32m-> 2576\u001b[0;31m           self.input_spec, inputs, self.name)\n\u001b[0m\u001b[1;32m   2577\u001b[0m       \u001b[0minput_list\u001b[0m \u001b[0;34m=\u001b[0m \u001b[0mtf\u001b[0m\u001b[0;34m.\u001b[0m\u001b[0mnest\u001b[0m\u001b[0;34m.\u001b[0m\u001b[0mflatten\u001b[0m\u001b[0;34m(\u001b[0m\u001b[0minputs\u001b[0m\u001b[0;34m)\u001b[0m\u001b[0;34m\u001b[0m\u001b[0;34m\u001b[0m\u001b[0m\n\u001b[1;32m   2578\u001b[0m       \u001b[0;32mif\u001b[0m \u001b[0minput_list\u001b[0m \u001b[0;32mand\u001b[0m \u001b[0mself\u001b[0m\u001b[0;34m.\u001b[0m\u001b[0m_dtype_policy\u001b[0m\u001b[0;34m.\u001b[0m\u001b[0mcompute_dtype\u001b[0m \u001b[0;32mis\u001b[0m \u001b[0;32mNone\u001b[0m\u001b[0;34m:\u001b[0m\u001b[0;34m\u001b[0m\u001b[0;34m\u001b[0m\u001b[0m\n",
            "\u001b[0;32m/usr/local/lib/python3.7/dist-packages/keras/engine/input_spec.py\u001b[0m in \u001b[0;36massert_input_compatibility\u001b[0;34m(input_spec, inputs, layer_name)\u001b[0m\n\u001b[1;32m    214\u001b[0m                          \u001b[0;34m'expected ndim='\u001b[0m \u001b[0;34m+\u001b[0m \u001b[0mstr\u001b[0m\u001b[0;34m(\u001b[0m\u001b[0mspec\u001b[0m\u001b[0;34m.\u001b[0m\u001b[0mndim\u001b[0m\u001b[0;34m)\u001b[0m \u001b[0;34m+\u001b[0m \u001b[0;34m', found ndim='\u001b[0m \u001b[0;34m+\u001b[0m\u001b[0;34m\u001b[0m\u001b[0;34m\u001b[0m\u001b[0m\n\u001b[1;32m    215\u001b[0m                          \u001b[0mstr\u001b[0m\u001b[0;34m(\u001b[0m\u001b[0mndim\u001b[0m\u001b[0;34m)\u001b[0m \u001b[0;34m+\u001b[0m \u001b[0;34m'. Full shape received: '\u001b[0m \u001b[0;34m+\u001b[0m\u001b[0;34m\u001b[0m\u001b[0;34m\u001b[0m\u001b[0m\n\u001b[0;32m--> 216\u001b[0;31m                          str(tuple(shape)))\n\u001b[0m\u001b[1;32m    217\u001b[0m     \u001b[0;32mif\u001b[0m \u001b[0mspec\u001b[0m\u001b[0;34m.\u001b[0m\u001b[0mmax_ndim\u001b[0m \u001b[0;32mis\u001b[0m \u001b[0;32mnot\u001b[0m \u001b[0;32mNone\u001b[0m\u001b[0;34m:\u001b[0m\u001b[0;34m\u001b[0m\u001b[0;34m\u001b[0m\u001b[0m\n\u001b[1;32m    218\u001b[0m       \u001b[0mndim\u001b[0m \u001b[0;34m=\u001b[0m \u001b[0mx\u001b[0m\u001b[0;34m.\u001b[0m\u001b[0mshape\u001b[0m\u001b[0;34m.\u001b[0m\u001b[0mrank\u001b[0m\u001b[0;34m\u001b[0m\u001b[0;34m\u001b[0m\u001b[0m\n",
            "\u001b[0;31mValueError\u001b[0m: Input 0 of layer max_pooling2d is incompatible with the layer: expected ndim=4, found ndim=5. Full shape received: (None, None, 574, 766, 128)"
          ]
        }
      ]
    },
    {
      "cell_type": "code",
      "metadata": {
        "id": "7s0D5IzBT3ie"
      },
      "source": [
        "# Compiling this model\n",
        "model.compile(loss = 'categorical_crossentropy', \n",
        "              optimizer='adam',\n",
        "              metrics = ['accuracy'])\n",
        "\n"
      ],
      "execution_count": 71,
      "outputs": []
    },
    {
      "cell_type": "code",
      "metadata": {
        "colab": {
          "base_uri": "https://localhost:8080/",
          "height": 898
        },
        "id": "rrWSWt5lT58h",
        "outputId": "9c6d2fd4-f4f0-4540-b2a5-3119b20c53bd"
      },
      "source": [
        "\n",
        "#Training the Network\n",
        "history = model.fit(X_train, Y_train, batch_size=32, epochs = 1, validation_data=(X_test, Y_test))\n",
        " "
      ],
      "execution_count": 72,
      "outputs": [
        {
          "output_type": "error",
          "ename": "ValueError",
          "evalue": "ignored",
          "traceback": [
            "\u001b[0;31m---------------------------------------------------------------------------\u001b[0m",
            "\u001b[0;31mValueError\u001b[0m                                Traceback (most recent call last)",
            "\u001b[0;32m<ipython-input-72-c4213ca902cf>\u001b[0m in \u001b[0;36m<module>\u001b[0;34m()\u001b[0m\n\u001b[1;32m      1\u001b[0m \u001b[0;34m\u001b[0m\u001b[0m\n\u001b[1;32m      2\u001b[0m \u001b[0;31m#Training the Network\u001b[0m\u001b[0;34m\u001b[0m\u001b[0;34m\u001b[0m\u001b[0;34m\u001b[0m\u001b[0m\n\u001b[0;32m----> 3\u001b[0;31m \u001b[0mhistory\u001b[0m \u001b[0;34m=\u001b[0m \u001b[0mmodel\u001b[0m\u001b[0;34m.\u001b[0m\u001b[0mfit\u001b[0m\u001b[0;34m(\u001b[0m\u001b[0mX_train\u001b[0m\u001b[0;34m,\u001b[0m \u001b[0mY_train\u001b[0m\u001b[0;34m,\u001b[0m \u001b[0mbatch_size\u001b[0m\u001b[0;34m=\u001b[0m\u001b[0;36m32\u001b[0m\u001b[0;34m,\u001b[0m \u001b[0mepochs\u001b[0m \u001b[0;34m=\u001b[0m \u001b[0;36m1\u001b[0m\u001b[0;34m,\u001b[0m \u001b[0mvalidation_data\u001b[0m\u001b[0;34m=\u001b[0m\u001b[0;34m(\u001b[0m\u001b[0mX_test\u001b[0m\u001b[0;34m,\u001b[0m \u001b[0mY_test\u001b[0m\u001b[0;34m)\u001b[0m\u001b[0;34m)\u001b[0m\u001b[0;34m\u001b[0m\u001b[0;34m\u001b[0m\u001b[0m\n\u001b[0m\u001b[1;32m      4\u001b[0m \u001b[0;34m\u001b[0m\u001b[0m\n",
            "\u001b[0;32m/usr/local/lib/python3.7/dist-packages/tensorflow/python/keras/engine/training.py\u001b[0m in \u001b[0;36mfit\u001b[0;34m(self, x, y, batch_size, epochs, verbose, callbacks, validation_split, validation_data, shuffle, class_weight, sample_weight, initial_epoch, steps_per_epoch, validation_steps, validation_batch_size, validation_freq, max_queue_size, workers, use_multiprocessing)\u001b[0m\n\u001b[1;32m   1098\u001b[0m                 _r=1):\n\u001b[1;32m   1099\u001b[0m               \u001b[0mcallbacks\u001b[0m\u001b[0;34m.\u001b[0m\u001b[0mon_train_batch_begin\u001b[0m\u001b[0;34m(\u001b[0m\u001b[0mstep\u001b[0m\u001b[0;34m)\u001b[0m\u001b[0;34m\u001b[0m\u001b[0;34m\u001b[0m\u001b[0m\n\u001b[0;32m-> 1100\u001b[0;31m               \u001b[0mtmp_logs\u001b[0m \u001b[0;34m=\u001b[0m \u001b[0mself\u001b[0m\u001b[0;34m.\u001b[0m\u001b[0mtrain_function\u001b[0m\u001b[0;34m(\u001b[0m\u001b[0miterator\u001b[0m\u001b[0;34m)\u001b[0m\u001b[0;34m\u001b[0m\u001b[0;34m\u001b[0m\u001b[0m\n\u001b[0m\u001b[1;32m   1101\u001b[0m               \u001b[0;32mif\u001b[0m \u001b[0mdata_handler\u001b[0m\u001b[0;34m.\u001b[0m\u001b[0mshould_sync\u001b[0m\u001b[0;34m:\u001b[0m\u001b[0;34m\u001b[0m\u001b[0;34m\u001b[0m\u001b[0m\n\u001b[1;32m   1102\u001b[0m                 \u001b[0mcontext\u001b[0m\u001b[0;34m.\u001b[0m\u001b[0masync_wait\u001b[0m\u001b[0;34m(\u001b[0m\u001b[0;34m)\u001b[0m\u001b[0;34m\u001b[0m\u001b[0;34m\u001b[0m\u001b[0m\n",
            "\u001b[0;32m/usr/local/lib/python3.7/dist-packages/tensorflow/python/eager/def_function.py\u001b[0m in \u001b[0;36m__call__\u001b[0;34m(self, *args, **kwds)\u001b[0m\n\u001b[1;32m    826\u001b[0m     \u001b[0mtracing_count\u001b[0m \u001b[0;34m=\u001b[0m \u001b[0mself\u001b[0m\u001b[0;34m.\u001b[0m\u001b[0mexperimental_get_tracing_count\u001b[0m\u001b[0;34m(\u001b[0m\u001b[0;34m)\u001b[0m\u001b[0;34m\u001b[0m\u001b[0;34m\u001b[0m\u001b[0m\n\u001b[1;32m    827\u001b[0m     \u001b[0;32mwith\u001b[0m \u001b[0mtrace\u001b[0m\u001b[0;34m.\u001b[0m\u001b[0mTrace\u001b[0m\u001b[0;34m(\u001b[0m\u001b[0mself\u001b[0m\u001b[0;34m.\u001b[0m\u001b[0m_name\u001b[0m\u001b[0;34m)\u001b[0m \u001b[0;32mas\u001b[0m \u001b[0mtm\u001b[0m\u001b[0;34m:\u001b[0m\u001b[0;34m\u001b[0m\u001b[0;34m\u001b[0m\u001b[0m\n\u001b[0;32m--> 828\u001b[0;31m       \u001b[0mresult\u001b[0m \u001b[0;34m=\u001b[0m \u001b[0mself\u001b[0m\u001b[0;34m.\u001b[0m\u001b[0m_call\u001b[0m\u001b[0;34m(\u001b[0m\u001b[0;34m*\u001b[0m\u001b[0margs\u001b[0m\u001b[0;34m,\u001b[0m \u001b[0;34m**\u001b[0m\u001b[0mkwds\u001b[0m\u001b[0;34m)\u001b[0m\u001b[0;34m\u001b[0m\u001b[0;34m\u001b[0m\u001b[0m\n\u001b[0m\u001b[1;32m    829\u001b[0m       \u001b[0mcompiler\u001b[0m \u001b[0;34m=\u001b[0m \u001b[0;34m\"xla\"\u001b[0m \u001b[0;32mif\u001b[0m \u001b[0mself\u001b[0m\u001b[0;34m.\u001b[0m\u001b[0m_experimental_compile\u001b[0m \u001b[0;32melse\u001b[0m \u001b[0;34m\"nonXla\"\u001b[0m\u001b[0;34m\u001b[0m\u001b[0;34m\u001b[0m\u001b[0m\n\u001b[1;32m    830\u001b[0m       \u001b[0mnew_tracing_count\u001b[0m \u001b[0;34m=\u001b[0m \u001b[0mself\u001b[0m\u001b[0;34m.\u001b[0m\u001b[0mexperimental_get_tracing_count\u001b[0m\u001b[0;34m(\u001b[0m\u001b[0;34m)\u001b[0m\u001b[0;34m\u001b[0m\u001b[0;34m\u001b[0m\u001b[0m\n",
            "\u001b[0;32m/usr/local/lib/python3.7/dist-packages/tensorflow/python/eager/def_function.py\u001b[0m in \u001b[0;36m_call\u001b[0;34m(self, *args, **kwds)\u001b[0m\n\u001b[1;32m    869\u001b[0m       \u001b[0;31m# This is the first call of __call__, so we have to initialize.\u001b[0m\u001b[0;34m\u001b[0m\u001b[0;34m\u001b[0m\u001b[0;34m\u001b[0m\u001b[0m\n\u001b[1;32m    870\u001b[0m       \u001b[0minitializers\u001b[0m \u001b[0;34m=\u001b[0m \u001b[0;34m[\u001b[0m\u001b[0;34m]\u001b[0m\u001b[0;34m\u001b[0m\u001b[0;34m\u001b[0m\u001b[0m\n\u001b[0;32m--> 871\u001b[0;31m       \u001b[0mself\u001b[0m\u001b[0;34m.\u001b[0m\u001b[0m_initialize\u001b[0m\u001b[0;34m(\u001b[0m\u001b[0margs\u001b[0m\u001b[0;34m,\u001b[0m \u001b[0mkwds\u001b[0m\u001b[0;34m,\u001b[0m \u001b[0madd_initializers_to\u001b[0m\u001b[0;34m=\u001b[0m\u001b[0minitializers\u001b[0m\u001b[0;34m)\u001b[0m\u001b[0;34m\u001b[0m\u001b[0;34m\u001b[0m\u001b[0m\n\u001b[0m\u001b[1;32m    872\u001b[0m     \u001b[0;32mfinally\u001b[0m\u001b[0;34m:\u001b[0m\u001b[0;34m\u001b[0m\u001b[0;34m\u001b[0m\u001b[0m\n\u001b[1;32m    873\u001b[0m       \u001b[0;31m# At this point we know that the initialization is complete (or less\u001b[0m\u001b[0;34m\u001b[0m\u001b[0;34m\u001b[0m\u001b[0;34m\u001b[0m\u001b[0m\n",
            "\u001b[0;32m/usr/local/lib/python3.7/dist-packages/tensorflow/python/eager/def_function.py\u001b[0m in \u001b[0;36m_initialize\u001b[0;34m(self, args, kwds, add_initializers_to)\u001b[0m\n\u001b[1;32m    724\u001b[0m     self._concrete_stateful_fn = (\n\u001b[1;32m    725\u001b[0m         self._stateful_fn._get_concrete_function_internal_garbage_collected(  # pylint: disable=protected-access\n\u001b[0;32m--> 726\u001b[0;31m             *args, **kwds))\n\u001b[0m\u001b[1;32m    727\u001b[0m \u001b[0;34m\u001b[0m\u001b[0m\n\u001b[1;32m    728\u001b[0m     \u001b[0;32mdef\u001b[0m \u001b[0minvalid_creator_scope\u001b[0m\u001b[0;34m(\u001b[0m\u001b[0;34m*\u001b[0m\u001b[0munused_args\u001b[0m\u001b[0;34m,\u001b[0m \u001b[0;34m**\u001b[0m\u001b[0munused_kwds\u001b[0m\u001b[0;34m)\u001b[0m\u001b[0;34m:\u001b[0m\u001b[0;34m\u001b[0m\u001b[0;34m\u001b[0m\u001b[0m\n",
            "\u001b[0;32m/usr/local/lib/python3.7/dist-packages/tensorflow/python/eager/function.py\u001b[0m in \u001b[0;36m_get_concrete_function_internal_garbage_collected\u001b[0;34m(self, *args, **kwargs)\u001b[0m\n\u001b[1;32m   2967\u001b[0m       \u001b[0margs\u001b[0m\u001b[0;34m,\u001b[0m \u001b[0mkwargs\u001b[0m \u001b[0;34m=\u001b[0m \u001b[0;32mNone\u001b[0m\u001b[0;34m,\u001b[0m \u001b[0;32mNone\u001b[0m\u001b[0;34m\u001b[0m\u001b[0;34m\u001b[0m\u001b[0m\n\u001b[1;32m   2968\u001b[0m     \u001b[0;32mwith\u001b[0m \u001b[0mself\u001b[0m\u001b[0;34m.\u001b[0m\u001b[0m_lock\u001b[0m\u001b[0;34m:\u001b[0m\u001b[0;34m\u001b[0m\u001b[0;34m\u001b[0m\u001b[0m\n\u001b[0;32m-> 2969\u001b[0;31m       \u001b[0mgraph_function\u001b[0m\u001b[0;34m,\u001b[0m \u001b[0m_\u001b[0m \u001b[0;34m=\u001b[0m \u001b[0mself\u001b[0m\u001b[0;34m.\u001b[0m\u001b[0m_maybe_define_function\u001b[0m\u001b[0;34m(\u001b[0m\u001b[0margs\u001b[0m\u001b[0;34m,\u001b[0m \u001b[0mkwargs\u001b[0m\u001b[0;34m)\u001b[0m\u001b[0;34m\u001b[0m\u001b[0;34m\u001b[0m\u001b[0m\n\u001b[0m\u001b[1;32m   2970\u001b[0m     \u001b[0;32mreturn\u001b[0m \u001b[0mgraph_function\u001b[0m\u001b[0;34m\u001b[0m\u001b[0;34m\u001b[0m\u001b[0m\n\u001b[1;32m   2971\u001b[0m \u001b[0;34m\u001b[0m\u001b[0m\n",
            "\u001b[0;32m/usr/local/lib/python3.7/dist-packages/tensorflow/python/eager/function.py\u001b[0m in \u001b[0;36m_maybe_define_function\u001b[0;34m(self, args, kwargs)\u001b[0m\n\u001b[1;32m   3359\u001b[0m \u001b[0;34m\u001b[0m\u001b[0m\n\u001b[1;32m   3360\u001b[0m           \u001b[0mself\u001b[0m\u001b[0;34m.\u001b[0m\u001b[0m_function_cache\u001b[0m\u001b[0;34m.\u001b[0m\u001b[0mmissed\u001b[0m\u001b[0;34m.\u001b[0m\u001b[0madd\u001b[0m\u001b[0;34m(\u001b[0m\u001b[0mcall_context_key\u001b[0m\u001b[0;34m)\u001b[0m\u001b[0;34m\u001b[0m\u001b[0;34m\u001b[0m\u001b[0m\n\u001b[0;32m-> 3361\u001b[0;31m           \u001b[0mgraph_function\u001b[0m \u001b[0;34m=\u001b[0m \u001b[0mself\u001b[0m\u001b[0;34m.\u001b[0m\u001b[0m_create_graph_function\u001b[0m\u001b[0;34m(\u001b[0m\u001b[0margs\u001b[0m\u001b[0;34m,\u001b[0m \u001b[0mkwargs\u001b[0m\u001b[0;34m)\u001b[0m\u001b[0;34m\u001b[0m\u001b[0;34m\u001b[0m\u001b[0m\n\u001b[0m\u001b[1;32m   3362\u001b[0m           \u001b[0mself\u001b[0m\u001b[0;34m.\u001b[0m\u001b[0m_function_cache\u001b[0m\u001b[0;34m.\u001b[0m\u001b[0mprimary\u001b[0m\u001b[0;34m[\u001b[0m\u001b[0mcache_key\u001b[0m\u001b[0;34m]\u001b[0m \u001b[0;34m=\u001b[0m \u001b[0mgraph_function\u001b[0m\u001b[0;34m\u001b[0m\u001b[0;34m\u001b[0m\u001b[0m\n\u001b[1;32m   3363\u001b[0m \u001b[0;34m\u001b[0m\u001b[0m\n",
            "\u001b[0;32m/usr/local/lib/python3.7/dist-packages/tensorflow/python/eager/function.py\u001b[0m in \u001b[0;36m_create_graph_function\u001b[0;34m(self, args, kwargs, override_flat_arg_shapes)\u001b[0m\n\u001b[1;32m   3204\u001b[0m             \u001b[0marg_names\u001b[0m\u001b[0;34m=\u001b[0m\u001b[0marg_names\u001b[0m\u001b[0;34m,\u001b[0m\u001b[0;34m\u001b[0m\u001b[0;34m\u001b[0m\u001b[0m\n\u001b[1;32m   3205\u001b[0m             \u001b[0moverride_flat_arg_shapes\u001b[0m\u001b[0;34m=\u001b[0m\u001b[0moverride_flat_arg_shapes\u001b[0m\u001b[0;34m,\u001b[0m\u001b[0;34m\u001b[0m\u001b[0;34m\u001b[0m\u001b[0m\n\u001b[0;32m-> 3206\u001b[0;31m             capture_by_value=self._capture_by_value),\n\u001b[0m\u001b[1;32m   3207\u001b[0m         \u001b[0mself\u001b[0m\u001b[0;34m.\u001b[0m\u001b[0m_function_attributes\u001b[0m\u001b[0;34m,\u001b[0m\u001b[0;34m\u001b[0m\u001b[0;34m\u001b[0m\u001b[0m\n\u001b[1;32m   3208\u001b[0m         \u001b[0mfunction_spec\u001b[0m\u001b[0;34m=\u001b[0m\u001b[0mself\u001b[0m\u001b[0;34m.\u001b[0m\u001b[0mfunction_spec\u001b[0m\u001b[0;34m,\u001b[0m\u001b[0;34m\u001b[0m\u001b[0;34m\u001b[0m\u001b[0m\n",
            "\u001b[0;32m/usr/local/lib/python3.7/dist-packages/tensorflow/python/framework/func_graph.py\u001b[0m in \u001b[0;36mfunc_graph_from_py_func\u001b[0;34m(name, python_func, args, kwargs, signature, func_graph, autograph, autograph_options, add_control_dependencies, arg_names, op_return_value, collections, capture_by_value, override_flat_arg_shapes)\u001b[0m\n\u001b[1;32m    988\u001b[0m         \u001b[0m_\u001b[0m\u001b[0;34m,\u001b[0m \u001b[0moriginal_func\u001b[0m \u001b[0;34m=\u001b[0m \u001b[0mtf_decorator\u001b[0m\u001b[0;34m.\u001b[0m\u001b[0munwrap\u001b[0m\u001b[0;34m(\u001b[0m\u001b[0mpython_func\u001b[0m\u001b[0;34m)\u001b[0m\u001b[0;34m\u001b[0m\u001b[0;34m\u001b[0m\u001b[0m\n\u001b[1;32m    989\u001b[0m \u001b[0;34m\u001b[0m\u001b[0m\n\u001b[0;32m--> 990\u001b[0;31m       \u001b[0mfunc_outputs\u001b[0m \u001b[0;34m=\u001b[0m \u001b[0mpython_func\u001b[0m\u001b[0;34m(\u001b[0m\u001b[0;34m*\u001b[0m\u001b[0mfunc_args\u001b[0m\u001b[0;34m,\u001b[0m \u001b[0;34m**\u001b[0m\u001b[0mfunc_kwargs\u001b[0m\u001b[0;34m)\u001b[0m\u001b[0;34m\u001b[0m\u001b[0;34m\u001b[0m\u001b[0m\n\u001b[0m\u001b[1;32m    991\u001b[0m \u001b[0;34m\u001b[0m\u001b[0m\n\u001b[1;32m    992\u001b[0m       \u001b[0;31m# invariant: `func_outputs` contains only Tensors, CompositeTensors,\u001b[0m\u001b[0;34m\u001b[0m\u001b[0;34m\u001b[0m\u001b[0;34m\u001b[0m\u001b[0m\n",
            "\u001b[0;32m/usr/local/lib/python3.7/dist-packages/tensorflow/python/eager/def_function.py\u001b[0m in \u001b[0;36mwrapped_fn\u001b[0;34m(*args, **kwds)\u001b[0m\n\u001b[1;32m    632\u001b[0m             \u001b[0mxla_context\u001b[0m\u001b[0;34m.\u001b[0m\u001b[0mExit\u001b[0m\u001b[0;34m(\u001b[0m\u001b[0;34m)\u001b[0m\u001b[0;34m\u001b[0m\u001b[0;34m\u001b[0m\u001b[0m\n\u001b[1;32m    633\u001b[0m         \u001b[0;32melse\u001b[0m\u001b[0;34m:\u001b[0m\u001b[0;34m\u001b[0m\u001b[0;34m\u001b[0m\u001b[0m\n\u001b[0;32m--> 634\u001b[0;31m           \u001b[0mout\u001b[0m \u001b[0;34m=\u001b[0m \u001b[0mweak_wrapped_fn\u001b[0m\u001b[0;34m(\u001b[0m\u001b[0;34m)\u001b[0m\u001b[0;34m.\u001b[0m\u001b[0m__wrapped__\u001b[0m\u001b[0;34m(\u001b[0m\u001b[0;34m*\u001b[0m\u001b[0margs\u001b[0m\u001b[0;34m,\u001b[0m \u001b[0;34m**\u001b[0m\u001b[0mkwds\u001b[0m\u001b[0;34m)\u001b[0m\u001b[0;34m\u001b[0m\u001b[0;34m\u001b[0m\u001b[0m\n\u001b[0m\u001b[1;32m    635\u001b[0m         \u001b[0;32mreturn\u001b[0m \u001b[0mout\u001b[0m\u001b[0;34m\u001b[0m\u001b[0;34m\u001b[0m\u001b[0m\n\u001b[1;32m    636\u001b[0m \u001b[0;34m\u001b[0m\u001b[0m\n",
            "\u001b[0;32m/usr/local/lib/python3.7/dist-packages/tensorflow/python/framework/func_graph.py\u001b[0m in \u001b[0;36mwrapper\u001b[0;34m(*args, **kwargs)\u001b[0m\n\u001b[1;32m    975\u001b[0m           \u001b[0;32mexcept\u001b[0m \u001b[0mException\u001b[0m \u001b[0;32mas\u001b[0m \u001b[0me\u001b[0m\u001b[0;34m:\u001b[0m  \u001b[0;31m# pylint:disable=broad-except\u001b[0m\u001b[0;34m\u001b[0m\u001b[0;34m\u001b[0m\u001b[0m\n\u001b[1;32m    976\u001b[0m             \u001b[0;32mif\u001b[0m \u001b[0mhasattr\u001b[0m\u001b[0;34m(\u001b[0m\u001b[0me\u001b[0m\u001b[0;34m,\u001b[0m \u001b[0;34m\"ag_error_metadata\"\u001b[0m\u001b[0;34m)\u001b[0m\u001b[0;34m:\u001b[0m\u001b[0;34m\u001b[0m\u001b[0;34m\u001b[0m\u001b[0m\n\u001b[0;32m--> 977\u001b[0;31m               \u001b[0;32mraise\u001b[0m \u001b[0me\u001b[0m\u001b[0;34m.\u001b[0m\u001b[0mag_error_metadata\u001b[0m\u001b[0;34m.\u001b[0m\u001b[0mto_exception\u001b[0m\u001b[0;34m(\u001b[0m\u001b[0me\u001b[0m\u001b[0;34m)\u001b[0m\u001b[0;34m\u001b[0m\u001b[0;34m\u001b[0m\u001b[0m\n\u001b[0m\u001b[1;32m    978\u001b[0m             \u001b[0;32melse\u001b[0m\u001b[0;34m:\u001b[0m\u001b[0;34m\u001b[0m\u001b[0;34m\u001b[0m\u001b[0m\n\u001b[1;32m    979\u001b[0m               \u001b[0;32mraise\u001b[0m\u001b[0;34m\u001b[0m\u001b[0;34m\u001b[0m\u001b[0m\n",
            "\u001b[0;31mValueError\u001b[0m: in user code:\n\n    /usr/local/lib/python3.7/dist-packages/tensorflow/python/keras/engine/training.py:805 train_function  *\n        return step_function(self, iterator)\n    /usr/local/lib/python3.7/dist-packages/tensorflow/python/keras/engine/training.py:795 step_function  **\n        outputs = model.distribute_strategy.run(run_step, args=(data,))\n    /usr/local/lib/python3.7/dist-packages/tensorflow/python/distribute/distribute_lib.py:1259 run\n        return self._extended.call_for_each_replica(fn, args=args, kwargs=kwargs)\n    /usr/local/lib/python3.7/dist-packages/tensorflow/python/distribute/distribute_lib.py:2730 call_for_each_replica\n        return self._call_for_each_replica(fn, args, kwargs)\n    /usr/local/lib/python3.7/dist-packages/tensorflow/python/distribute/distribute_lib.py:3417 _call_for_each_replica\n        return fn(*args, **kwargs)\n    /usr/local/lib/python3.7/dist-packages/tensorflow/python/keras/engine/training.py:788 run_step  **\n        outputs = model.train_step(data)\n    /usr/local/lib/python3.7/dist-packages/tensorflow/python/keras/engine/training.py:754 train_step\n        y_pred = self(x, training=True)\n    /usr/local/lib/python3.7/dist-packages/tensorflow/python/keras/engine/base_layer.py:1012 __call__\n        outputs = call_fn(inputs, *args, **kwargs)\n    /usr/local/lib/python3.7/dist-packages/tensorflow/python/keras/engine/sequential.py:389 call\n        outputs = layer(inputs, **kwargs)\n    /usr/local/lib/python3.7/dist-packages/tensorflow/python/keras/engine/base_layer.py:1012 __call__\n        outputs = call_fn(inputs, *args, **kwargs)\n    /usr/local/lib/python3.7/dist-packages/tensorflow/python/keras/layers/wrappers.py:241 call\n        y = self.layer(inputs, **kwargs)\n    /usr/local/lib/python3.7/dist-packages/tensorflow/python/keras/engine/base_layer.py:998 __call__\n        input_spec.assert_input_compatibility(self.input_spec, inputs, self.name)\n    /usr/local/lib/python3.7/dist-packages/tensorflow/python/keras/engine/input_spec.py:239 assert_input_compatibility\n        str(tuple(shape)))\n\n    ValueError: Input 0 of layer conv2d_34 is incompatible with the layer: : expected min_ndim=4, found ndim=2. Full shape received: (None, 768)\n"
          ]
        }
      ]
    },
    {
      "cell_type": "markdown",
      "metadata": {
        "id": "vNiZ8ZULP0qf"
      },
      "source": [
        "# 4. 학습시킨 모델 검증"
      ]
    },
    {
      "cell_type": "code",
      "metadata": {
        "colab": {
          "base_uri": "https://localhost:8080/"
        },
        "id": "WIDvFXN5P2T-",
        "outputId": "ae58da0d-cb42-486e-c711-0121315e8cea"
      },
      "source": [
        "x_predict = model.predict(x_train)\n",
        "y_predict = []\n",
        "\n",
        "print(x_predict.shape)\n",
        "\n",
        "for image in x_predict:\n",
        "    y_predict.append(np.argmax(image))\n",
        "\n",
        "y_predict = np.array(y_predict)"
      ],
      "execution_count": 21,
      "outputs": [
        {
          "output_type": "stream",
          "text": [
            "(128, 576, 768)\n"
          ],
          "name": "stdout"
        }
      ]
    },
    {
      "cell_type": "code",
      "metadata": {
        "id": "aarVf8wUP55-"
      },
      "source": [
        "def accuracy(original, x_predict):\n",
        "    accuracy = original == x_predict\n",
        "    accuracy = np.count_nonzero(accuracy)\n",
        "    \n",
        "    return accuracy / original.shape[0]\n",
        "    "
      ],
      "execution_count": 22,
      "outputs": []
    },
    {
      "cell_type": "code",
      "metadata": {
        "colab": {
          "base_uri": "https://localhost:8080/"
        },
        "id": "kMacmGWUQCeF",
        "outputId": "ef25c003-dccb-4e42-b041-8f46ebaad2dd"
      },
      "source": [
        "accuracy(y_train, y_predict)  #모델의 정확도 출력"
      ],
      "execution_count": 23,
      "outputs": [
        {
          "output_type": "execute_result",
          "data": {
            "text/plain": [
              "0.0"
            ]
          },
          "metadata": {
            "tags": []
          },
          "execution_count": 23
        }
      ]
    },
    {
      "cell_type": "markdown",
      "metadata": {
        "id": "SO2doZCjQLD6"
      },
      "source": [
        "# 4. test set 예측"
      ]
    },
    {
      "cell_type": "code",
      "metadata": {
        "colab": {
          "base_uri": "https://localhost:8080/"
        },
        "id": "i8q653AFQDJf",
        "outputId": "71c3e59a-d7e1-4a87-9f15-953594483273"
      },
      "source": [
        "# test\n",
        "predictions = model.predict(x_test)  #test데이터의 Y-test 예측하기\n",
        "print(predictions.shape)\n"
      ],
      "execution_count": 24,
      "outputs": [
        {
          "output_type": "stream",
          "text": [
            "(256, 576, 768)\n"
          ],
          "name": "stdout"
        }
      ]
    },
    {
      "cell_type": "code",
      "metadata": {
        "colab": {
          "base_uri": "https://localhost:8080/"
        },
        "id": "gwDu0gdkQFdj",
        "outputId": "c6edaae1-f329-4200-ea13-5eaa0708d2bd"
      },
      "source": [
        "y_test = []\n",
        "for image in predictions:\n",
        "    y_test.append(np.argmax(image))\n",
        "\n",
        "y_test = np.array(y_test)\n",
        "\n",
        "#결과\n",
        "print(y_test)\n"
      ],
      "execution_count": 25,
      "outputs": [
        {
          "output_type": "stream",
          "text": [
            "[ 14152  13505  24274  36710  20936 196211  14153  42606  16338  16338\n",
            "  36710  36711  37805 201593  19593  13461  37477 193152  26302  13488\n",
            "  36710  39777 148915 122788  13444  14179 201606 197724  36493  17870\n",
            "  13426 206952  12769  47423  14896  27836  83064  14948 158134  63932\n",
            " 204683  16338  13608  13478  12800  36711  20936 195432  36710 216178\n",
            "  14216  13501  36710  17870 211574  36710 204646  36710 210799  16337\n",
            " 203113  14913  17870  14220 204659  36710  17870  12788  13467  36710\n",
            "  16338  36710 201562  13530  15626 205432  17870  80926  13443  19658\n",
            " 207751  18838  36710  37477  14869  14204  36710  18103  17870  36710\n",
            " 214628  15617  17870  13601 211597  39777  37477 193605  65142 213124\n",
            "  50842  17870  54877  60047  12818  35680  12800  16338  73599 207004\n",
            "  21105  12821  16338 213867  13480  17870  23236  17871  20936  31136\n",
            "  36710 210799  17870  46241 148915 200800  28785  34969 213883  16338\n",
            "  12780  22546  13500 112030  17870 197721  17870  17870 215419  18828\n",
            "  12804  14138  37037  39777  22625 190077 220802  17870  14874  82823\n",
            "  36711 215412  37477  88973 144304  14175  15624  36423  14903  28603\n",
            " 218472  36711  36710  44088  17871 178875  40187  14183 207741  17870\n",
            "  39010  23274  13502 206977  14163  14889  16513  13445  36710  14857\n",
            "  72052  36710 115872  30136  12770  16337 202355  16338  24160 206168\n",
            "  23396  60213 214633  37477  17314  12799  17870  14887  14120  37478\n",
            "  37804  14219  13518 102809  15601  14861  37477  13519 201584 219226\n",
            "  15581  36710  36710  18636  40871  50373 118946  36710  17870  60047\n",
            "  13529  17870  12787 190848 123557  14127  13457  88972  36710  37477\n",
            " 213891  14247  17870  13534  15598  12781  17870  17870  12782  12802\n",
            " 145840  36271  17870 215399  26302 122788  16338  14903  20169  36710\n",
            "  13453  36711 217738  12839  15604  15599]\n"
          ],
          "name": "stdout"
        }
      ]
    },
    {
      "cell_type": "code",
      "metadata": {
        "id": "9tfCoibhQJrh"
      },
      "source": [
        "### csv 저장\n",
        "\n",
        "test_result_df = pd.DataFrame([x for x in zip(test_index, y_test)], columns=['Image', 'Answer'])\n",
        "test_result_df.head()\n",
        "\n",
        "test_result_df = test_result_df.sort_values(by=\"Image\")\n",
        "test_result_df.head()\n",
        "\n",
        "test_result_df.to_csv(\"/content/drive/MyDrive/1971063_김윤서_홍채_1차_답안.csv\", index=False)"
      ],
      "execution_count": null,
      "outputs": []
    }
  ]
}