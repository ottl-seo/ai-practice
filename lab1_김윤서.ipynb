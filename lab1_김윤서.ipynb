{
  "nbformat": 4,
  "nbformat_minor": 0,
  "metadata": {
    "anaconda-cloud": {},
    "kernelspec": {
      "display_name": "Python 3",
      "language": "python",
      "name": "python3"
    },
    "language_info": {
      "codemirror_mode": {
        "name": "ipython",
        "version": 3
      },
      "file_extension": ".py",
      "mimetype": "text/x-python",
      "name": "python",
      "nbconvert_exporter": "python",
      "pygments_lexer": "ipython3",
      "version": "3.5.2"
    },
    "colab": {
      "name": "lab1_김윤서.ipynb",
      "provenance": [],
      "collapsed_sections": [],
      "toc_visible": true
    }
  },
  "cells": [
    {
      "cell_type": "markdown",
      "metadata": {
        "id": "GjIaRT-5ULos"
      },
      "source": [
        "Assignment 0: Python Basics"
      ]
    },
    {
      "cell_type": "markdown",
      "metadata": {
        "id": "kbWpPPQKULow"
      },
      "source": [
        "## Problem 1: Selection Sort\n",
        "\n",
        "아래 selection sort 함수를 구현해보세요. \n",
        "YOUR CODE COMES HERE 라는 주석이 있는 곳을 채우면 됩니다."
      ]
    },
    {
      "cell_type": "code",
      "metadata": {
        "id": "EyYXu1hzULoy"
      },
      "source": [
        "def selection_sort(arr):\n",
        "    \n",
        "    for j in range(len(arr)-1):\n",
        "      least_index = j\n",
        "      for i in range(j+1,len(arr)):\n",
        "        if(arr[least_index]>arr[i]):\n",
        "          least_index = i #최솟값 찾기\n",
        "      arr[j], arr[least_index] = arr[least_index], arr[j]\n",
        "    \n",
        "    return arr"
      ],
      "execution_count": 7,
      "outputs": []
    },
    {
      "cell_type": "code",
      "metadata": {
        "scrolled": false,
        "id": "cT_dRw1vULo4",
        "colab": {
          "base_uri": "https://localhost:8080/"
        },
        "outputId": "3cdfecd1-4a47-4cf3-f5a7-aaea6b7fabf2"
      },
      "source": [
        "import random\n",
        "array = [random.randint(0, 20) for _ in range(20)]\n",
        "print('array: ', array)\n",
        "\n",
        "array_sorted = selection_sort(array)\n",
        "print('sorted:', array_sorted)\n",
        "\n",
        "print()\n",
        "print('Q: Is the array sorted?')\n",
        "print('A:', sorted(array) == array_sorted)"
      ],
      "execution_count": 8,
      "outputs": [
        {
          "output_type": "stream",
          "text": [
            "array:  [8, 15, 13, 15, 2, 17, 6, 17, 4, 19, 14, 8, 5, 12, 5, 9, 7, 2, 6, 6]\n",
            "sorted: [2, 2, 4, 5, 5, 6, 6, 6, 7, 8, 8, 9, 12, 13, 14, 15, 15, 17, 17, 19]\n",
            "\n",
            "Q: Is the array sorted?\n",
            "A: True\n"
          ],
          "name": "stdout"
        }
      ]
    },
    {
      "cell_type": "markdown",
      "metadata": {
        "id": "v4K9EF1rULo-"
      },
      "source": [
        "## Problem 2: Classes\n",
        "\n",
        "Selection sort, insertion sort, merge sort를 아래 class의 instance method로 구현해 보세요. <br>\n",
        "YOUR CODE COMES HERE 라는 주석이 있는 곳을 채우면 됩니다."
      ]
    },
    {
      "cell_type": "code",
      "metadata": {
        "id": "XAtRozsxULo_"
      },
      "source": [
        "class Sorter:\n",
        "    def __init__(self, method):\n",
        "        self.method = method\n",
        "        \n",
        "    @staticmethod\n",
        "    def of(method):\n",
        "        return Sorter(method) #생성자 - 클래스 리턴해줌\n",
        "        \n",
        "    def sort(self, arr):\n",
        "        if self.method == 'selection_sort':\n",
        "            return self.selection_sort(arr)\n",
        "        \n",
        "        elif self.method == 'insertion_sort':\n",
        "            return self.insertion_sort(arr)\n",
        "        \n",
        "        elif self.method == 'merge_sort':\n",
        "            return self.merge_sort(arr)\n",
        "        \n",
        "        else:\n",
        "            raise ValueError('Unknown method: %s' % method)\n",
        "\n",
        "\n",
        "    def selection_sort(self, arr):\n",
        "        \n",
        "        ### YOUR CODE COMES HERE ###\n",
        "\n",
        "        return arr\n",
        "    \n",
        "    def insertion_sort(self, arr):\n",
        "        \n",
        "        ### YOUR CODE COMES HERE ###\n",
        "\n",
        "        return arr\n",
        "    \n",
        "    def merge_sort(self, arr):\n",
        "        \n",
        "        ### YOUR CODE COMES HERE ###\n",
        "        \n",
        "        return arr"
      ],
      "execution_count": null,
      "outputs": []
    },
    {
      "cell_type": "code",
      "metadata": {
        "id": "E1tKG55IULpE",
        "outputId": "f167b091-e202-4604-b8ac-d4fcaf2005ec"
      },
      "source": [
        "array = [random.randint(0, 20) for _ in range(20)]\n",
        "\n",
        "algorithms = ['selection_sort', 'insertion_sort', 'merge_sort']\n",
        "for algorithm in algorithms:\n",
        "    sorter = Sorter.of(algorithm)\n",
        "    array_sorted = sorter.sort(array)\n",
        "    print('%s sorted? %s' % (algorithm, sorted(array) == array_sorted))"
      ],
      "execution_count": null,
      "outputs": [
        {
          "output_type": "stream",
          "text": [
            "selection_sort sorted? False\n",
            "insertion_sort sorted? False\n",
            "merge_sort sorted? False\n"
          ],
          "name": "stdout"
        }
      ]
    },
    {
      "cell_type": "code",
      "metadata": {
        "id": "wj0K50Q5ULpI"
      },
      "source": [
        ""
      ],
      "execution_count": null,
      "outputs": []
    }
  ]
}
