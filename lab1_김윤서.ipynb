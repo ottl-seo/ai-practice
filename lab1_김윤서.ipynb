{
  "nbformat": 4,
  "nbformat_minor": 0,
  "metadata": {
    "anaconda-cloud": {},
    "kernelspec": {
      "display_name": "Python 3",
      "language": "python",
      "name": "python3"
    },
    "language_info": {
      "codemirror_mode": {
        "name": "ipython",
        "version": 3
      },
      "file_extension": ".py",
      "mimetype": "text/x-python",
      "name": "python",
      "nbconvert_exporter": "python",
      "pygments_lexer": "ipython3",
      "version": "3.5.2"
    },
    "colab": {
      "name": "lab1_김윤서.ipynb",
      "provenance": [],
      "collapsed_sections": [],
      "toc_visible": true,
      "include_colab_link": true
    }
  },
  "cells": [
    {
      "cell_type": "markdown",
      "metadata": {
        "id": "view-in-github",
        "colab_type": "text"
      },
      "source": [
        "<a href=\"https://colab.research.google.com/github/ottl-seo/ai-practice/blob/main/lab1_%EA%B9%80%EC%9C%A4%EC%84%9C.ipynb\" target=\"_parent\"><img src=\"https://colab.research.google.com/assets/colab-badge.svg\" alt=\"Open In Colab\"/></a>"
      ]
    },
    {
      "cell_type": "markdown",
      "metadata": {
        "id": "GjIaRT-5ULos"
      },
      "source": [
        "Assignment 0: Python Basics"
      ]
    },
    {
      "cell_type": "code",
      "metadata": {
        "id": "PB0z-7RmYpjI"
      },
      "source": [
        "import random"
      ],
      "execution_count": null,
      "outputs": []
    },
    {
      "cell_type": "markdown",
      "metadata": {
        "id": "kbWpPPQKULow"
      },
      "source": [
        "## Problem 1: Selection Sort\n",
        "\n",
        "아래 selection sort 함수를 구현해보세요. \n",
        "YOUR CODE COMES HERE 라는 주석이 있는 곳을 채우면 됩니다."
      ]
    },
    {
      "cell_type": "code",
      "metadata": {
        "id": "EyYXu1hzULoy"
      },
      "source": [
        "def selection_sort(arr):\n",
        "    \n",
        "    for j in range(len(arr)-1):\n",
        "      least_index = j\n",
        "      for i in range(j+1,len(arr)):\n",
        "        if(arr[least_index]>arr[i]):\n",
        "          least_index = i #최솟값 찾기\n",
        "      arr[j], arr[least_index] = arr[least_index], arr[j] #두값 swap\n",
        "    \n",
        "    return arr"
      ],
      "execution_count": null,
      "outputs": []
    },
    {
      "cell_type": "code",
      "metadata": {
        "scrolled": false,
        "id": "cT_dRw1vULo4",
        "colab": {
          "base_uri": "https://localhost:8080/"
        },
        "outputId": "3cdfecd1-4a47-4cf3-f5a7-aaea6b7fabf2"
      },
      "source": [
        "array = [random.randint(0, 20) for _ in range(20)]\n",
        "print('array: ', array)\n",
        "\n",
        "array_sorted = selection_sort(array)\n",
        "print('sorted:', array_sorted)\n",
        "\n",
        "print()\n",
        "print('Q: Is the array sorted?')\n",
        "print('A:', sorted(array) == array_sorted)"
      ],
      "execution_count": null,
      "outputs": [
        {
          "output_type": "stream",
          "text": [
            "array:  [8, 15, 13, 15, 2, 17, 6, 17, 4, 19, 14, 8, 5, 12, 5, 9, 7, 2, 6, 6]\n",
            "sorted: [2, 2, 4, 5, 5, 6, 6, 6, 7, 8, 8, 9, 12, 13, 14, 15, 15, 17, 17, 19]\n",
            "\n",
            "Q: Is the array sorted?\n",
            "A: True\n"
          ],
          "name": "stdout"
        }
      ]
    },
    {
      "cell_type": "markdown",
      "metadata": {
        "id": "v4K9EF1rULo-"
      },
      "source": [
        "## Problem 2: Classes\n",
        "\n",
        "Selection sort, insertion sort, merge sort를 아래 class의 instance method로 구현해 보세요. <br>\n",
        "YOUR CODE COMES HERE 라는 주석이 있는 곳을 채우면 됩니다."
      ]
    },
    {
      "cell_type": "code",
      "metadata": {
        "id": "XAtRozsxULo_"
      },
      "source": [
        "class Sorter:\n",
        "    def __init__(self, method): #객체의 메서드를 초기화해주는 함수\n",
        "        self.method = method\n",
        "        \n",
        "    @staticmethod\n",
        "    def of(method):\n",
        "        return Sorter(method) #생성자 느낌?\n",
        "        \n",
        "    def sort(self, arr): # sort라는 객체 안에 method 따로따로 정의되어 있는 것\n",
        "        if self.method == 'selection_sort':\n",
        "            return self.selection_sort(arr)\n",
        "        \n",
        "        elif self.method == 'insertion_sort':\n",
        "            return self.insertion_sort(arr)\n",
        "        \n",
        "        elif self.method == 'merge_sort':\n",
        "            return self.merge_sort(arr)\n",
        "        \n",
        "        else:\n",
        "            raise ValueError('Unknown method: %s' % method)\n",
        "\n",
        "\n",
        "    def selection_sort(self, arr): #선택정렬 메서드\n",
        "        for j in range(len(arr)-1):\n",
        "          least_index = j\n",
        "          for i in range(j+1,len(arr)):\n",
        "            if(arr[least_index]>arr[i]):\n",
        "              least_index = i #최솟값 찾기\n",
        "          arr[j], arr[least_index] = arr[least_index], arr[j] #두값 swap\n",
        "        return arr\n",
        "    \n",
        "    def insertion_sort(self, arr): #삽입정렬 메서드\n",
        "        for j in range(1, len(arr)):\n",
        "          for i in range(j, 0, -1):\n",
        "              if arr[i - 1] > arr[i]:\n",
        "                  arr[i - 1], arr[i] = arr[i], arr[i - 1]\n",
        "        return arr\n",
        "    \n",
        "    def merge_sort(self, arr): #합병정렬 메서드\n",
        "        if len(arr) < 2:\n",
        "            return arr\n",
        "\n",
        "        mid = len(arr) // 2\n",
        "        low_arr = merge_sort(arr[:mid])\n",
        "        high_arr = merge_sort(arr[mid:])\n",
        "\n",
        "        new_arr = []\n",
        "        l = h = 0\n",
        "        while l < len(low_arr) and h < len(high_arr):\n",
        "            if low_arr[l] < high_arr[h]:\n",
        "                new_arr.append(low_arr[l])\n",
        "                l += 1\n",
        "            else:\n",
        "                new_arr.append(high_arr[h])\n",
        "                h += 1\n",
        "        new_arr += low_arr[l:]\n",
        "        new_arr += high_arr[h:]\n",
        "        arr = new_arr\n",
        "        return arr"
      ],
      "execution_count": null,
      "outputs": []
    },
    {
      "cell_type": "code",
      "metadata": {
        "id": "E1tKG55IULpE",
        "colab": {
          "base_uri": "https://localhost:8080/",
          "height": 402
        },
        "outputId": "26d7f927-b4d3-4670-c9a9-d548bb6270bc"
      },
      "source": [
        "\n",
        "array = [random.randint(0, 20) for _ in range(20)]\n",
        "\n",
        "algorithms = ['selection_sort', 'insertion_sort', 'merge_sort']\n",
        "for algorithm in algorithms:\n",
        "    sorter = Sorter.of(algorithm) # algorithm이름의 메서드로 Sorter 객체 생성--> sorter에 저장\n",
        "    array_sorted = sorter.sort(array) # 각 메서드로 sort 실행.\n",
        "    print('%s sorted? %s' % (algorithm, sorted(array) == array_sorted))"
      ],
      "execution_count": null,
      "outputs": [
        {
          "output_type": "stream",
          "text": [
            "selection_sort sorted? True\n",
            "insertion_sort sorted? True\n"
          ],
          "name": "stdout"
        },
        {
          "output_type": "error",
          "ename": "NameError",
          "evalue": "ignored",
          "traceback": [
            "\u001b[0;31m---------------------------------------------------------------------------\u001b[0m",
            "\u001b[0;31mNameError\u001b[0m                                 Traceback (most recent call last)",
            "\u001b[0;32m<ipython-input-16-18e82e0a34b8>\u001b[0m in \u001b[0;36m<module>\u001b[0;34m()\u001b[0m\n\u001b[1;32m      5\u001b[0m \u001b[0;32mfor\u001b[0m \u001b[0malgorithm\u001b[0m \u001b[0;32min\u001b[0m \u001b[0malgorithms\u001b[0m\u001b[0;34m:\u001b[0m\u001b[0;34m\u001b[0m\u001b[0;34m\u001b[0m\u001b[0m\n\u001b[1;32m      6\u001b[0m     \u001b[0msorter\u001b[0m \u001b[0;34m=\u001b[0m \u001b[0mSorter\u001b[0m\u001b[0;34m.\u001b[0m\u001b[0mof\u001b[0m\u001b[0;34m(\u001b[0m\u001b[0malgorithm\u001b[0m\u001b[0;34m)\u001b[0m \u001b[0;31m# algorithm이름의 메서드로 Sorter 객체 생성--> sorter에 저장\u001b[0m\u001b[0;34m\u001b[0m\u001b[0;34m\u001b[0m\u001b[0m\n\u001b[0;32m----> 7\u001b[0;31m     \u001b[0marray_sorted\u001b[0m \u001b[0;34m=\u001b[0m \u001b[0msorter\u001b[0m\u001b[0;34m.\u001b[0m\u001b[0msort\u001b[0m\u001b[0;34m(\u001b[0m\u001b[0marray\u001b[0m\u001b[0;34m)\u001b[0m \u001b[0;31m# 각 메서드로 sort 실행.\u001b[0m\u001b[0;34m\u001b[0m\u001b[0;34m\u001b[0m\u001b[0m\n\u001b[0m\u001b[1;32m      8\u001b[0m     \u001b[0mprint\u001b[0m\u001b[0;34m(\u001b[0m\u001b[0;34m'%s sorted? %s'\u001b[0m \u001b[0;34m%\u001b[0m \u001b[0;34m(\u001b[0m\u001b[0malgorithm\u001b[0m\u001b[0;34m,\u001b[0m \u001b[0msorted\u001b[0m\u001b[0;34m(\u001b[0m\u001b[0marray\u001b[0m\u001b[0;34m)\u001b[0m \u001b[0;34m==\u001b[0m \u001b[0marray_sorted\u001b[0m\u001b[0;34m)\u001b[0m\u001b[0;34m)\u001b[0m\u001b[0;34m\u001b[0m\u001b[0;34m\u001b[0m\u001b[0m\n",
            "\u001b[0;32m<ipython-input-15-ef6791db2756>\u001b[0m in \u001b[0;36msort\u001b[0;34m(self, arr)\u001b[0m\n\u001b[1;32m     15\u001b[0m \u001b[0;34m\u001b[0m\u001b[0m\n\u001b[1;32m     16\u001b[0m         \u001b[0;32melif\u001b[0m \u001b[0mself\u001b[0m\u001b[0;34m.\u001b[0m\u001b[0mmethod\u001b[0m \u001b[0;34m==\u001b[0m \u001b[0;34m'merge_sort'\u001b[0m\u001b[0;34m:\u001b[0m\u001b[0;34m\u001b[0m\u001b[0;34m\u001b[0m\u001b[0m\n\u001b[0;32m---> 17\u001b[0;31m             \u001b[0;32mreturn\u001b[0m \u001b[0mself\u001b[0m\u001b[0;34m.\u001b[0m\u001b[0mmerge_sort\u001b[0m\u001b[0;34m(\u001b[0m\u001b[0marr\u001b[0m\u001b[0;34m)\u001b[0m\u001b[0;34m\u001b[0m\u001b[0;34m\u001b[0m\u001b[0m\n\u001b[0m\u001b[1;32m     18\u001b[0m \u001b[0;34m\u001b[0m\u001b[0m\n\u001b[1;32m     19\u001b[0m         \u001b[0;32melse\u001b[0m\u001b[0;34m:\u001b[0m\u001b[0;34m\u001b[0m\u001b[0;34m\u001b[0m\u001b[0m\n",
            "\u001b[0;32m<ipython-input-15-ef6791db2756>\u001b[0m in \u001b[0;36mmerge_sort\u001b[0;34m(self, arr)\u001b[0m\n\u001b[1;32m     42\u001b[0m \u001b[0;34m\u001b[0m\u001b[0m\n\u001b[1;32m     43\u001b[0m         \u001b[0mmid\u001b[0m \u001b[0;34m=\u001b[0m \u001b[0mlen\u001b[0m\u001b[0;34m(\u001b[0m\u001b[0marr\u001b[0m\u001b[0;34m)\u001b[0m \u001b[0;34m//\u001b[0m \u001b[0;36m2\u001b[0m\u001b[0;34m\u001b[0m\u001b[0;34m\u001b[0m\u001b[0m\n\u001b[0;32m---> 44\u001b[0;31m         \u001b[0mlow_arr\u001b[0m \u001b[0;34m=\u001b[0m \u001b[0mmerge_sort\u001b[0m\u001b[0;34m(\u001b[0m\u001b[0marr\u001b[0m\u001b[0;34m[\u001b[0m\u001b[0;34m:\u001b[0m\u001b[0mmid\u001b[0m\u001b[0;34m]\u001b[0m\u001b[0;34m)\u001b[0m\u001b[0;34m\u001b[0m\u001b[0;34m\u001b[0m\u001b[0m\n\u001b[0m\u001b[1;32m     45\u001b[0m         \u001b[0mhigh_arr\u001b[0m \u001b[0;34m=\u001b[0m \u001b[0mmerge_sort\u001b[0m\u001b[0;34m(\u001b[0m\u001b[0marr\u001b[0m\u001b[0;34m[\u001b[0m\u001b[0mmid\u001b[0m\u001b[0;34m:\u001b[0m\u001b[0;34m]\u001b[0m\u001b[0;34m)\u001b[0m\u001b[0;34m\u001b[0m\u001b[0;34m\u001b[0m\u001b[0m\n\u001b[1;32m     46\u001b[0m \u001b[0;34m\u001b[0m\u001b[0m\n",
            "\u001b[0;31mNameError\u001b[0m: name 'merge_sort' is not defined"
          ]
        }
      ]
    },
    {
      "cell_type": "code",
      "metadata": {
        "id": "wj0K50Q5ULpI"
      },
      "source": [
        ""
      ],
      "execution_count": null,
      "outputs": []
    }
  ]
}