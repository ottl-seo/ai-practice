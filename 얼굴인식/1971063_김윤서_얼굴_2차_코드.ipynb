{
  "nbformat": 4,
  "nbformat_minor": 0,
  "metadata": {
    "colab": {
      "name": "1971063_김윤서_얼굴_2차_코드.ipynb",
      "provenance": [],
      "collapsed_sections": []
    },
    "kernelspec": {
      "name": "python3",
      "display_name": "Python 3"
    },
    "language_info": {
      "name": "python"
    },
    "accelerator": "GPU"
  },
  "cells": [
    {
      "cell_type": "markdown",
      "metadata": {
        "id": "CjIxENHPsenM"
      },
      "source": [
        "\n",
        "# 생체인증보안 얼굴인식 과제 1\n",
        "1971063 김윤서\n",
        "\n",
        "## 0. 필요한 라이브러리 불러오기"
      ]
    },
    {
      "cell_type": "code",
      "metadata": {
        "colab": {
          "base_uri": "https://localhost:8080/"
        },
        "id": "HMKDsKbnsiHJ",
        "outputId": "478257b6-c479-4961-9925-a21a18558a9a"
      },
      "source": [
        "from google.colab import drive\n",
        "drive.mount('/content/drive')"
      ],
      "execution_count": 87,
      "outputs": [
        {
          "output_type": "stream",
          "text": [
            "Drive already mounted at /content/drive; to attempt to forcibly remount, call drive.mount(\"/content/drive\", force_remount=True).\n"
          ],
          "name": "stdout"
        }
      ]
    },
    {
      "cell_type": "code",
      "metadata": {
        "id": "nhdutfV2BfCs"
      },
      "source": [
        "import numpy as np\n",
        "import pandas as pd\n",
        "import matplotlib\n",
        "%matplotlib inline\n",
        "import matplotlib.pyplot as plt\n",
        "import os\n",
        "import cv2\n",
        "from os.path import isfile, join\n",
        "import glob\n",
        "import gzip\n",
        "from PIL import Image\n",
        "from scipy import misc\n"
      ],
      "execution_count": 88,
      "outputs": []
    },
    {
      "cell_type": "code",
      "metadata": {
        "id": "8brolIZzDZMI"
      },
      "source": [
        "import tensorflow as tf\n",
        "import tensorflow.keras as keras\n",
        "from tensorflow.keras.layers import Input,Conv2D,MaxPooling2D,UpSampling2D\n",
        "from tensorflow.keras.models import Model\n",
        "from tensorflow.keras.optimizers import RMSprop\n",
        "from tensorflow.keras.preprocessing.image import load_img\n",
        "from tensorflow.keras.preprocessing.image import img_to_array\n",
        "from tensorflow.keras.preprocessing.image import array_to_img"
      ],
      "execution_count": 89,
      "outputs": []
    },
    {
      "cell_type": "code",
      "metadata": {
        "id": "YtVQMhRosrVT"
      },
      "source": [
        "\n",
        "# CNN\n",
        "import keras\n",
        "from keras.models import Sequential\n",
        "from keras.models import load_model\n",
        "from keras.utils.np_utils import to_categorical\n",
        "\n",
        "from keras import layers, regularizers, optimizers, callbacks\n",
        "from collections import defaultdict\n",
        "from keras.optimizers import RMSprop\n",
        "from keras.layers.normalization import BatchNormalization\n",
        "\n",
        "from sklearn.metrics import pairwise_distances_argmin\n",
        "from skimage.io import imread\n",
        "from sklearn.utils import shuffle\n",
        "from skimage import img_as_float\n",
        "\n",
        "from keras import layers\n",
        "from keras import models\n",
        "from keras.utils import np_utils  # to_categorical"
      ],
      "execution_count": 90,
      "outputs": []
    },
    {
      "cell_type": "code",
      "metadata": {
        "id": "eppJD1Q2HCMr"
      },
      "source": [
        "# 탐지 결과(recall, precision, f1-score)에 사용할 함수들\n",
        "from keras import backend as K\n",
        "\n",
        "def recall(y_target, y_pred):\n",
        "    y_target_yn = K.round(K.clip(y_target, 0, 1)) \n",
        "    y_pred_yn = K.round(K.clip(y_pred, 0, 1)) \n",
        "\n",
        "    count_true_positive = K.sum(y_target_yn * y_pred_yn) \n",
        "    count_true_positive_false_negative = K.sum(y_target_yn)\n",
        "\n",
        "    # Recall =  (True Positive) / (True Positive + False Negative)\n",
        "    recall = count_true_positive / (count_true_positive_false_negative + K.epsilon())\n",
        "\n",
        "    return recall\n",
        "\n",
        "def precision(y_target, y_pred):\n",
        "    y_pred_yn = K.round(K.clip(y_pred, 0, 1))\n",
        "    y_target_yn = K.round(K.clip(y_target, 0, 1))\n",
        "\n",
        "    count_true_positive = K.sum(y_target_yn * y_pred_yn) \n",
        "    count_true_positive_false_positive = K.sum(y_pred_yn)\n",
        "\n",
        "    # Precision = (True Positive) / (True Positive + False Positive)\n",
        "    precision = count_true_positive / (count_true_positive_false_positive + K.epsilon())\n",
        "\n",
        "    return precision\n",
        "\n",
        "\n",
        "def f1score(y_target, y_pred):\n",
        "    _recall = recall(y_target, y_pred)\n",
        "    _precision = precision(y_target, y_pred)\n",
        "    _f1score = ( 2 * _recall * _precision) / (_recall + _precision+ K.epsilon())\n",
        "    \n",
        "    return _f1score"
      ],
      "execution_count": 91,
      "outputs": []
    },
    {
      "cell_type": "code",
      "metadata": {
        "id": "6IOWCtz7Kan0"
      },
      "source": [
        "# 학습 결과 분석을 위한 그래프 구현\n",
        "\n",
        "import matplotlib.pyplot as plt\n",
        "\n",
        "def plot_acc(history, title=None):\n",
        "  # summarize history for accuracy\n",
        "  if not isinstance(history, dict):\n",
        "    history = history.history\n",
        "  plt.plot(history['accuracy'])\n",
        "  plt.plot(history['val_accuracy'])\n",
        "  if title is not None:\n",
        "    plt.title(title)\n",
        "  plt.ylabel('Accuracy')\n",
        "  plt.xlabel('Epoch')\n",
        "  plt.legend(['Training', 'Verification'], loc=0)   # 두 선의 이름(Train, Test) 표시\n",
        "\n",
        "def plot_loss(history, title=None):\n",
        "  # summarize history for loss\n",
        "  if not isinstance(history, dict):\n",
        "    history = history.history\n",
        "  plt.plot(history['loss'])             # 학습 데이터로 구한 손실값\n",
        "  plt.plot(history['val_loss'])         # 검증 데이터로 구한 손실값\n",
        "  if title is not None:\n",
        "    plt.title(title)\n",
        "  plt.ylabel('Loss')\n",
        "  plt.xlabel('Epoch')\n",
        "  plt.legend(['Training', 'Verification'], loc=0)"
      ],
      "execution_count": 92,
      "outputs": []
    },
    {
      "cell_type": "markdown",
      "metadata": {
        "id": "PycO2bqRG6s4"
      },
      "source": [
        "# 1. 데이터 불러오기, 전처리"
      ]
    },
    {
      "cell_type": "code",
      "metadata": {
        "id": "48W7BPfpBo9Z"
      },
      "source": [
        "W = 144\n",
        "H = 144\n",
        "Nout = 351  #350명의 얼굴 데이터\n",
        "\n",
        "epochs=100\n",
        "batch_size=100\n",
        "\n",
        "faces = []\n",
        "labels = []\n",
        "\n",
        "\n",
        "train_dir = '/content/drive/MyDrive/face-training-set'\n",
        "filenames = os.listdir(train_dir)\n"
      ],
      "execution_count": 93,
      "outputs": []
    },
    {
      "cell_type": "code",
      "metadata": {
        "colab": {
          "base_uri": "https://localhost:8080/"
        },
        "id": "fUB4HIdCCIoE",
        "outputId": "85a357c5-cc9c-470a-dbe4-a673a555dbe6"
      },
      "source": [
        "from sklearn.model_selection import train_test_split\n",
        "\n",
        "for filename in filenames[:-1]:\n",
        "    label = filename.split(\"_\")\n",
        "    label = int(label[0])\n",
        "    \n",
        "    image = cv2.imread(train_dir+'/'+filename)\n",
        "    image = np.array(image).reshape((-1))\n",
        "    image = cv2.resize(np.float32(image), (W,H))\n",
        "    faces.append(image)\n",
        "    \n",
        "    #label = label.lstrip(\"0\")\n",
        "    #label = str(label)\n",
        "    #label=int(label)\n",
        "    labels.append(label)\n",
        "\n",
        "\n",
        "print(labels)"
      ],
      "execution_count": 94,
      "outputs": [
        {
          "output_type": "stream",
          "text": [
            "[11, 11, 14, 18, 10, 23, 22, 25, 22, 22, 20, 25, 20, 26, 25, 26, 19, 19, 23, 20, 21, 24, 27, 26, 24, 24, 27, 23, 27, 28, 21, 28, 21, 31, 31, 30, 31, 32, 36, 30, 28, 37, 35, 30, 29, 29, 36, 32, 37, 35, 33, 29, 33, 35, 34, 37, 33, 34, 36, 38, 34, 32, 45, 42, 39, 43, 44, 41, 41, 45, 46, 44, 46, 42, 39, 47, 43, 47, 38, 46, 41, 45, 40, 40, 42, 43, 38, 40, 39, 44, 54, 52, 50, 51, 51, 48, 52, 49, 56, 47, 49, 50, 55, 48, 52, 54, 50, 48, 55, 56, 54, 55, 51, 49, 53, 56, 53, 53, 62, 57, 65, 59, 63, 61, 58, 61, 64, 60, 66, 60, 59, 57, 64, 63, 59, 58, 58, 57, 60, 64, 63, 65, 62, 62, 65, 61, 72, 68, 74, 75, 74, 67, 66, 70, 72, 71, 69, 74, 67, 66, 67, 73, 71, 75, 71, 68, 70, 73, 69, 72, 73, 68, 70, 69, 85, 79, 84, 80, 77, 76, 82, 77, 78, 83, 84, 81, 75, 82, 81, 78, 82, 80, 79, 84, 78, 79, 81, 83, 83, 76, 77, 76, 80, 94, 88, 88, 90, 91, 90, 90, 93, 89, 92, 94, 85, 89, 89, 93, 92, 86, 85, 87, 87, 91, 86, 86, 87, 91, 92, 93, 88, 99, 104, 100, 98, 100, 99, 98, 99, 102, 97, 101, 103, 97, 96, 95, 95, 98, 103, 96, 103, 102, 97, 101, 100, 95, 94, 102, 101, 96, 105, 110, 110, 104, 108, 105, 106, 113, 107, 112, 106, 105, 111, 106, 112, 104, 109, 108, 111, 110, 107, 108, 109, 109, 107, 111, 112, 113, 115, 113, 122, 120, 116, 121, 114, 115, 122, 122, 117, 119, 120, 114, 118, 118, 118, 116, 114, 121, 120, 119, 116, 117, 121, 119, 117, 115, 123, 126, 129, 129, 130, 124, 130, 131, 128, 127, 126, 132, 125, 129, 127, 130, 124, 124, 125, 123, 126, 125, 131, 128, 132, 131, 128, 123, 127, 140, 138, 135, 134, 138, 137, 139, 135, 132, 136, 133, 140, 140, 137, 134, 138, 137, 141, 134, 135, 133, 141, 141, 136, 136, 139, 139, 133, 143, 142, 145, 150, 146, 151, 146, 148, 150, 142, 148, 143, 149, 147, 147, 144, 151, 143, 146, 149, 147, 144, 144, 145, 148, 142, 149, 145, 150, 151, 154, 159, 158, 153, 155, 157, 152, 155, 153, 152, 156, 155, 156, 160, 154, 159, 157, 154, 159, 156, 153, 157, 152, 158, 160, 160, 158, 167, 161, 163, 165, 168, 166, 162, 163, 169, 166, 170, 164, 170, 167, 168, 162, 169, 165, 163, 162, 161, 166, 161, 168, 169, 164, 167, 164, 165, 176, 175, 170, 171, 172, 178, 174, 173, 171, 172, 173, 177, 176, 179, 175, 176, 175, 179, 179, 177, 178, 174, 172, 171, 177, 174, 173, 178, 184, 182, 187, 180, 186, 185, 184, 180, 188, 186, 187, 186, 180, 185, 185, 181, 187, 181, 188, 183, 182, 181, 188, 189, 182, 189, 184, 183, 183, 196, 198, 195, 198, 192, 197, 197, 198, 190, 196, 197, 194, 196, 193, 195, 193, 189, 194, 194, 191, 193, 190, 191, 191, 190, 192, 195, 192, 199, 206, 203, 200, 204, 205, 207, 204, 204, 201, 207, 199, 205, 208, 202, 205, 200, 200, 202, 206, 202, 201, 203, 199, 201, 207, 208, 203, 206, 209, 213, 217, 214, 215, 213, 214, 212, 212, 216, 209, 217, 211, 212, 209, 210, 215, 214, 210, 213, 211, 217, 208, 215, 211, 216, 210, 216, 223, 224, 227, 223, 218, 224, 221, 223, 219, 218, 224, 222, 220, 225, 226, 226, 221, 219, 220, 222, 221, 226, 219, 222, 220, 225, 218, 227, 225, 235, 230, 229, 236, 232, 233, 234, 233, 228, 235, 230, 235, 228, 236, 229, 232, 234, 228, 234, 227, 229, 231, 233, 236, 232, 231, 230, 231, 239, 243, 240, 240, 241, 242, 238, 244, 239, 241, 245, 242, 240, 243, 237, 245, 242, 244, 243, 238, 245, 239, 241, 238, 237, 237, 244, 246, 250, 248, 252, 251, 248, 249, 248, 246, 250, 252, 254, 254, 251, 253, 253, 247, 251, 252, 246, 249, 247, 249, 247, 255, 255, 254, 250, 253, 263, 262, 260, 259, 257, 257, 258, 256, 255, 264, 262, 265, 258, 263, 257, 259, 260, 261, 263, 262, 258, 260, 261, 256, 264, 256, 259, 261, 264, 270, 265, 270, 272, 268, 266, 273, 273, 266, 272, 268, 271, 268, 269, 267, 273, 267, 269, 272, 274, 270, 274, 265, 271, 267, 271, 266, 269, 282, 281, 277, 280, 276, 277, 278, 279, 274, 281, 284, 276, 282, 277, 275, 280, 279, 282, 279, 278, 278, 283, 283, 280, 275, 276, 275, 281, 283, 286, 293, 289, 291, 286, 291, 285, 290, 287, 284, 289, 292, 293, 289, 291, 285, 290, 285, 290, 288, 287, 284, 288, 288, 292, 286, 292, 287, 301, 297, 303, 295, 294, 298, 297, 295, 302, 301, 293, 300, 299, 296, 298, 296, 294, 296, 298, 300, 294, 300, 297, 302, 295, 301, 302, 299, 299, 304, 308, 305, 306, 310, 307, 304, 307, 307, 311, 310, 306, 309, 312, 308, 305, 310, 309, 309, 306, 303, 303, 304, 312, 305, 308, 311, 311, 317, 314, 313, 322, 313, 320, 321, 318, 319, 320, 320, 318, 315, 317, 312, 314, 319, 321, 321, 319, 318, 313, 315, 316, 317, 315, 316, 316, 314, 330, 328, 323, 329, 322, 323, 331, 323, 324, 324, 331, 328, 326, 330, 324, 327, 329, 328, 326, 331, 330, 329, 327, 325, 327, 325, 322, 326, 325, 334, 336, 337, 339, 333, 335, 338, 335, 333, 335, 339, 338, 333, 340, 336, 341, 338, 334, 340, 339, 332, 334, 337, 340, 332, 336, 332, 337, 344, 343, 347, 347, 342, 348, 350, 346, 349, 348, 344, 346, 341, 349, 344, 342, 343, 345, 346, 348, 342, 341, 350, 343, 345, 345, 349, 347, 350, 1, 1, 5, 2, 9, 7, 4, 7, 3, 8, 2, 4, 8, 7, 6, 1, 2, 3, 6, 8, 6, 9, 5, 5, 9, 4, 3, 12, 13, 17, 11, 17, 16, 10, 18, 14, 18, 16, 15, 15, 14, 13, 19, 16, 12, 17, 10, 13, 12]\n"
          ],
          "name": "stdout"
        }
      ]
    },
    {
      "cell_type": "code",
      "metadata": {
        "id": "rnt2T1nKal8Y"
      },
      "source": [
        "\n",
        "faces = np.asarray(faces)\n",
        "faces = faces.astype('float32')\n",
        "\n",
        "# \"One-hot Encoding\" --> np_utils.to_categorical\n",
        "labels = np_utils.to_categorical(labels, num_classes = Nout)\n",
        "\n",
        "faces = faces.reshape(-1,W,H,1)\n",
        "faces = faces / np.max(faces) # 정규화: 0~255인 값을 0~1로 바꿔줌\n",
        "\n",
        "train_X, test_X, train_Y, test_Y = train_test_split(faces, labels, test_size=0.2, random_state=13)\n"
      ],
      "execution_count": 95,
      "outputs": []
    },
    {
      "cell_type": "code",
      "metadata": {
        "colab": {
          "base_uri": "https://localhost:8080/",
          "height": 366
        },
        "id": "CMi1R2f7s1j8",
        "outputId": "9175558d-3972-47d8-ff4c-098c7f40d98c"
      },
      "source": [
        "### 첫번째 데이터 출력해보기\n",
        "img1 = matplotlib.image.imread(join('/content/drive/MyDrive/face-training-set/0001_0001.BMP'))\n",
        "plt.figure()\n",
        "plt.figure(figsize=(24,25))\n",
        "plt.subplot(1,5,1, facecolor='w')\n",
        "plt.imshow(img1, cmap='gray')\n",
        "\n"
      ],
      "execution_count": 96,
      "outputs": [
        {
          "output_type": "execute_result",
          "data": {
            "text/plain": [
              "<matplotlib.image.AxesImage at 0x7f63565ab490>"
            ]
          },
          "metadata": {
            "tags": []
          },
          "execution_count": 96
        },
        {
          "output_type": "display_data",
          "data": {
            "text/plain": [
              "<Figure size 432x288 with 0 Axes>"
            ]
          },
          "metadata": {
            "tags": []
          }
        },
        {
          "output_type": "display_data",
          "data": {
            "image/png": "[encoded data removed]",
            "text/plain": [
              "<Figure size 1728x1800 with 1 Axes>"
            ]
          },
          "metadata": {
            "tags": [],
            "needs_background": "light"
          }
        }
      ]
    },
    {
      "cell_type": "markdown",
      "metadata": {
        "id": "Ad9KElYHtC6I"
      },
      "source": [
        "## 2. CNN 모델 정의\n"
      ]
    },
    {
      "cell_type": "code",
      "metadata": {
        "colab": {
          "base_uri": "https://localhost:8080/"
        },
        "id": "1Sxat6gIfQ75",
        "outputId": "5d6f415a-2884-4c9b-a585-59a25ca19c0a"
      },
      "source": [
        "model = models.Sequential([\n",
        "  layers.Conv2D(64, (3,3), activation='relu', padding=\"same\", input_shape=(W, H, 1)),\n",
        "  layers.MaxPooling2D(pool_size=(2,2)),\n",
        "  layers.Dropout(0.25),\n",
        "\n",
        "  layers.Conv2D(64, (3,3), activation='relu'),\n",
        "  layers.MaxPooling2D(pool_size=(2,2)),\n",
        "  layers.Dropout(0.25),\n",
        "\n",
        "  layers.Conv2D(128, (3,3), activation='relu'),\n",
        "  layers.MaxPooling2D(pool_size=(2,2)),\n",
        "  layers.Dropout(0.25),\n",
        "\n",
        "  layers.Conv2D(128, (3,3), activation='relu'),\n",
        "  layers.MaxPooling2D(pool_size=(2,2)),\n",
        "  layers.Dropout(0.25),\n",
        "\n",
        "  layers.Flatten(),\n",
        "  layers.Dense(512, activation='relu'),\n",
        "  layers.Dropout(0.5),\n",
        "  layers.Dense(Nout, activation='softmax')\n",
        "])\n",
        "\n",
        "model.summary()"
      ],
      "execution_count": 97,
      "outputs": [
        {
          "output_type": "stream",
          "text": [
            "Model: \"sequential_5\"\n",
            "_________________________________________________________________\n",
            "Layer (type)                 Output Shape              Param #   \n",
            "=================================================================\n",
            "conv2d_20 (Conv2D)           (None, 144, 144, 64)      640       \n",
            "_________________________________________________________________\n",
            "max_pooling2d_20 (MaxPooling (None, 72, 72, 64)        0         \n",
            "_________________________________________________________________\n",
            "dropout_23 (Dropout)         (None, 72, 72, 64)        0         \n",
            "_________________________________________________________________\n",
            "conv2d_21 (Conv2D)           (None, 70, 70, 64)        36928     \n",
            "_________________________________________________________________\n",
            "max_pooling2d_21 (MaxPooling (None, 35, 35, 64)        0         \n",
            "_________________________________________________________________\n",
            "dropout_24 (Dropout)         (None, 35, 35, 64)        0         \n",
            "_________________________________________________________________\n",
            "conv2d_22 (Conv2D)           (None, 33, 33, 128)       73856     \n",
            "_________________________________________________________________\n",
            "max_pooling2d_22 (MaxPooling (None, 16, 16, 128)       0         \n",
            "_________________________________________________________________\n",
            "dropout_25 (Dropout)         (None, 16, 16, 128)       0         \n",
            "_________________________________________________________________\n",
            "conv2d_23 (Conv2D)           (None, 14, 14, 128)       147584    \n",
            "_________________________________________________________________\n",
            "max_pooling2d_23 (MaxPooling (None, 7, 7, 128)         0         \n",
            "_________________________________________________________________\n",
            "dropout_26 (Dropout)         (None, 7, 7, 128)         0         \n",
            "_________________________________________________________________\n",
            "flatten_5 (Flatten)          (None, 6272)              0         \n",
            "_________________________________________________________________\n",
            "dense_10 (Dense)             (None, 512)               3211776   \n",
            "_________________________________________________________________\n",
            "dropout_27 (Dropout)         (None, 512)               0         \n",
            "_________________________________________________________________\n",
            "dense_11 (Dense)             (None, 351)               180063    \n",
            "=================================================================\n",
            "Total params: 3,650,847\n",
            "Trainable params: 3,650,847\n",
            "Non-trainable params: 0\n",
            "_________________________________________________________________\n"
          ],
          "name": "stdout"
        }
      ]
    },
    {
      "cell_type": "code",
      "metadata": {
        "id": "oxRdfqxzIvIi"
      },
      "source": [
        "model.compile(loss='categorical_crossentropy',\n",
        "              optimizer='adam',\n",
        "              metrics=['accuracy', precision, recall, f1score])"
      ],
      "execution_count": 98,
      "outputs": []
    },
    {
      "cell_type": "code",
      "metadata": {
        "id": "6YuOhIP3s88C",
        "colab": {
          "base_uri": "https://localhost:8080/"
        },
        "outputId": "122ecb79-47c8-4a4f-ccbc-6ac0c8ebcf18"
      },
      "source": [
        "print('Train images :',train_X.shape)\n",
        "print('Test images : ', test_X.shape)\n"
      ],
      "execution_count": 99,
      "outputs": [
        {
          "output_type": "stream",
          "text": [
            "Train images : (839, 144, 144, 1)\n",
            "Test images :  (210, 144, 144, 1)\n"
          ],
          "name": "stdout"
        }
      ]
    },
    {
      "cell_type": "markdown",
      "metadata": {
        "id": "2hGaNbFOtHuc"
      },
      "source": [
        "## 3. 모델 학습시키기 - train set 이용"
      ]
    },
    {
      "cell_type": "code",
      "metadata": {
        "id": "VdiuS-ebJZxM"
      },
      "source": [
        "from keras.callbacks import EarlyStopping, ReduceLROnPlateau\n",
        "\n",
        "# 조기 종료\n",
        "earlystop = EarlyStopping(patience=10)\n",
        "\n",
        "# 학습률 조정\n",
        "learning_rate_reduction = ReduceLROnPlateau(monitor='val_loss',\n",
        "                                            patience=2,verbose=1,\n",
        "                                            factor=0.5, min_lr=0.00001)\n",
        "\n",
        "# callback 설정\n",
        "callback = [earlystop, learning_rate_reduction]"
      ],
      "execution_count": 100,
      "outputs": []
    },
    {
      "cell_type": "code",
      "metadata": {
        "id": "9cRmPpcVMKD5"
      },
      "source": [
        "#train_X = np.array(train_X)\n",
        "#train_Y = np.array(train_Y)\n",
        "#test_X = np.array(test_X)\n",
        "#test_Y = np.array(test_Y)\n"
      ],
      "execution_count": 101,
      "outputs": []
    },
    {
      "cell_type": "code",
      "metadata": {
        "id": "7G74FMziVu0P"
      },
      "source": [
        "#model.fit(train_X, train_Y, epochs=30)"
      ],
      "execution_count": 102,
      "outputs": []
    },
    {
      "cell_type": "code",
      "metadata": {
        "colab": {
          "base_uri": "https://localhost:8080/"
        },
        "id": "td0iR8TOJbsv",
        "outputId": "32662bc5-0389-413b-a25d-bfbdc3e26554"
      },
      "source": [
        "\n",
        "history = model.fit(\n",
        "  train_X, train_Y,\n",
        "  epochs=epochs,\n",
        "  batch_size=batch_size,\n",
        "  validation_data=(test_X, test_Y),\n",
        "  #shuffle=True,\n",
        "  #callbacks=callback,\n",
        ")"
      ],
      "execution_count": 103,
      "outputs": [
        {
          "output_type": "stream",
          "text": [
            "Epoch 1/100\n",
            "9/9 [==============================] - 2s 139ms/step - loss: 5.9113 - accuracy: 0.0068 - precision: 0.0000e+00 - recall: 0.0000e+00 - f1score: 0.0000e+00 - val_loss: 5.8635 - val_accuracy: 0.0000e+00 - val_precision: 0.0000e+00 - val_recall: 0.0000e+00 - val_f1score: 0.0000e+00\n",
            "Epoch 2/100\n",
            "9/9 [==============================] - 1s 107ms/step - loss: 5.8588 - accuracy: 0.0038 - precision: 0.0000e+00 - recall: 0.0000e+00 - f1score: 0.0000e+00 - val_loss: 5.8691 - val_accuracy: 0.0000e+00 - val_precision: 0.0000e+00 - val_recall: 0.0000e+00 - val_f1score: 0.0000e+00\n",
            "Epoch 3/100\n",
            "9/9 [==============================] - 1s 111ms/step - loss: 5.8542 - accuracy: 0.0063 - precision: 0.0000e+00 - recall: 0.0000e+00 - f1score: 0.0000e+00 - val_loss: 5.9024 - val_accuracy: 0.0000e+00 - val_precision: 0.0000e+00 - val_recall: 0.0000e+00 - val_f1score: 0.0000e+00\n",
            "Epoch 4/100\n",
            "9/9 [==============================] - 1s 108ms/step - loss: 5.8450 - accuracy: 0.0042 - precision: 0.0000e+00 - recall: 0.0000e+00 - f1score: 0.0000e+00 - val_loss: 5.9175 - val_accuracy: 0.0000e+00 - val_precision: 0.0000e+00 - val_recall: 0.0000e+00 - val_f1score: 0.0000e+00\n",
            "Epoch 5/100\n",
            "9/9 [==============================] - 1s 105ms/step - loss: 5.8387 - accuracy: 0.0012 - precision: 0.0000e+00 - recall: 0.0000e+00 - f1score: 0.0000e+00 - val_loss: 5.9430 - val_accuracy: 0.0000e+00 - val_precision: 0.0000e+00 - val_recall: 0.0000e+00 - val_f1score: 0.0000e+00\n",
            "Epoch 6/100\n",
            "9/9 [==============================] - 1s 108ms/step - loss: 5.8179 - accuracy: 0.0036 - precision: 0.0000e+00 - recall: 0.0000e+00 - f1score: 0.0000e+00 - val_loss: 5.9282 - val_accuracy: 0.0000e+00 - val_precision: 0.0000e+00 - val_recall: 0.0000e+00 - val_f1score: 0.0000e+00\n",
            "Epoch 7/100\n",
            "9/9 [==============================] - 1s 107ms/step - loss: 5.8074 - accuracy: 0.0053 - precision: 0.0000e+00 - recall: 0.0000e+00 - f1score: 0.0000e+00 - val_loss: 5.9196 - val_accuracy: 0.0000e+00 - val_precision: 0.0000e+00 - val_recall: 0.0000e+00 - val_f1score: 0.0000e+00\n",
            "Epoch 8/100\n",
            "9/9 [==============================] - 1s 108ms/step - loss: 5.7735 - accuracy: 0.0022 - precision: 0.0000e+00 - recall: 0.0000e+00 - f1score: 0.0000e+00 - val_loss: 5.8785 - val_accuracy: 0.0000e+00 - val_precision: 0.0000e+00 - val_recall: 0.0000e+00 - val_f1score: 0.0000e+00\n",
            "Epoch 9/100\n",
            "9/9 [==============================] - 1s 108ms/step - loss: 5.7290 - accuracy: 0.0054 - precision: 0.0000e+00 - recall: 0.0000e+00 - f1score: 0.0000e+00 - val_loss: 5.8748 - val_accuracy: 0.0000e+00 - val_precision: 0.0000e+00 - val_recall: 0.0000e+00 - val_f1score: 0.0000e+00\n",
            "Epoch 10/100\n",
            "9/9 [==============================] - 1s 107ms/step - loss: 5.6949 - accuracy: 0.0033 - precision: 0.0000e+00 - recall: 0.0000e+00 - f1score: 0.0000e+00 - val_loss: 5.8698 - val_accuracy: 0.0000e+00 - val_precision: 0.0000e+00 - val_recall: 0.0000e+00 - val_f1score: 0.0000e+00\n",
            "Epoch 11/100\n",
            "9/9 [==============================] - 1s 108ms/step - loss: 5.6301 - accuracy: 0.0043 - precision: 0.0000e+00 - recall: 0.0000e+00 - f1score: 0.0000e+00 - val_loss: 5.8565 - val_accuracy: 0.0000e+00 - val_precision: 0.0000e+00 - val_recall: 0.0000e+00 - val_f1score: 0.0000e+00\n",
            "Epoch 12/100\n",
            "9/9 [==============================] - 1s 107ms/step - loss: 5.5606 - accuracy: 0.0051 - precision: 0.0000e+00 - recall: 0.0000e+00 - f1score: 0.0000e+00 - val_loss: 5.8358 - val_accuracy: 0.0000e+00 - val_precision: 0.0000e+00 - val_recall: 0.0000e+00 - val_f1score: 0.0000e+00\n",
            "Epoch 13/100\n",
            "9/9 [==============================] - 1s 109ms/step - loss: 5.4550 - accuracy: 0.0056 - precision: 0.0000e+00 - recall: 0.0000e+00 - f1score: 0.0000e+00 - val_loss: 5.8143 - val_accuracy: 0.0000e+00 - val_precision: 0.0000e+00 - val_recall: 0.0000e+00 - val_f1score: 0.0000e+00\n",
            "Epoch 14/100\n",
            "9/9 [==============================] - 1s 106ms/step - loss: 5.4013 - accuracy: 0.0182 - precision: 0.0000e+00 - recall: 0.0000e+00 - f1score: 0.0000e+00 - val_loss: 5.7591 - val_accuracy: 0.0000e+00 - val_precision: 0.0000e+00 - val_recall: 0.0000e+00 - val_f1score: 0.0000e+00\n",
            "Epoch 15/100\n",
            "9/9 [==============================] - 1s 107ms/step - loss: 5.1960 - accuracy: 0.0180 - precision: 0.0000e+00 - recall: 0.0000e+00 - f1score: 0.0000e+00 - val_loss: 5.6438 - val_accuracy: 0.0048 - val_precision: 0.0000e+00 - val_recall: 0.0000e+00 - val_f1score: 0.0000e+00\n",
            "Epoch 16/100\n",
            "9/9 [==============================] - 1s 107ms/step - loss: 4.9490 - accuracy: 0.0331 - precision: 0.0000e+00 - recall: 0.0000e+00 - f1score: 0.0000e+00 - val_loss: 5.5593 - val_accuracy: 0.0048 - val_precision: 0.0000e+00 - val_recall: 0.0000e+00 - val_f1score: 0.0000e+00\n",
            "Epoch 17/100\n",
            "9/9 [==============================] - 1s 106ms/step - loss: 4.7914 - accuracy: 0.0460 - precision: 0.0000e+00 - recall: 0.0000e+00 - f1score: 0.0000e+00 - val_loss: 5.3649 - val_accuracy: 0.0000e+00 - val_precision: 0.0000e+00 - val_recall: 0.0000e+00 - val_f1score: 0.0000e+00\n",
            "Epoch 18/100\n",
            "9/9 [==============================] - 1s 108ms/step - loss: 4.5704 - accuracy: 0.0529 - precision: 0.1004 - recall: 0.0010 - f1score: 0.0020 - val_loss: 5.1434 - val_accuracy: 0.0095 - val_precision: 0.0000e+00 - val_recall: 0.0000e+00 - val_f1score: 0.0000e+00\n",
            "Epoch 19/100\n",
            "9/9 [==============================] - 1s 109ms/step - loss: 4.4006 - accuracy: 0.0678 - precision: 0.3870 - recall: 0.0039 - f1score: 0.0077 - val_loss: 5.0429 - val_accuracy: 0.0190 - val_precision: 0.0000e+00 - val_recall: 0.0000e+00 - val_f1score: 0.0000e+00\n",
            "Epoch 20/100\n",
            "9/9 [==============================] - 1s 109ms/step - loss: 4.2142 - accuracy: 0.0718 - precision: 0.3429 - recall: 0.0051 - f1score: 0.0099 - val_loss: 4.9193 - val_accuracy: 0.0286 - val_precision: 0.0000e+00 - val_recall: 0.0000e+00 - val_f1score: 0.0000e+00\n",
            "Epoch 21/100\n",
            "9/9 [==============================] - 1s 108ms/step - loss: 4.0024 - accuracy: 0.1103 - precision: 0.4652 - recall: 0.0119 - f1score: 0.0230 - val_loss: 4.6540 - val_accuracy: 0.0571 - val_precision: 0.0000e+00 - val_recall: 0.0000e+00 - val_f1score: 0.0000e+00\n",
            "Epoch 22/100\n",
            "9/9 [==============================] - 1s 109ms/step - loss: 3.7297 - accuracy: 0.1322 - precision: 0.7467 - recall: 0.0181 - f1score: 0.0351 - val_loss: 4.4066 - val_accuracy: 0.0571 - val_precision: 0.3333 - val_recall: 0.0033 - val_f1score: 0.0066\n",
            "Epoch 23/100\n",
            "9/9 [==============================] - 1s 108ms/step - loss: 3.5155 - accuracy: 0.1783 - precision: 0.7785 - recall: 0.0326 - f1score: 0.0615 - val_loss: 4.2251 - val_accuracy: 0.0905 - val_precision: 0.3333 - val_recall: 0.0033 - val_f1score: 0.0066\n",
            "Epoch 24/100\n",
            "9/9 [==============================] - 1s 109ms/step - loss: 3.3100 - accuracy: 0.1796 - precision: 0.6377 - recall: 0.0566 - f1score: 0.1035 - val_loss: 4.0588 - val_accuracy: 0.1000 - val_precision: 0.3333 - val_recall: 0.0067 - val_f1score: 0.0131\n",
            "Epoch 25/100\n",
            "9/9 [==============================] - 1s 108ms/step - loss: 3.1382 - accuracy: 0.2017 - precision: 0.7133 - recall: 0.0522 - f1score: 0.0962 - val_loss: 3.7980 - val_accuracy: 0.1524 - val_precision: 0.3333 - val_recall: 0.0133 - val_f1score: 0.0256\n",
            "Epoch 26/100\n",
            "9/9 [==============================] - 1s 108ms/step - loss: 2.9825 - accuracy: 0.2574 - precision: 0.5813 - recall: 0.0851 - f1score: 0.1477 - val_loss: 3.7231 - val_accuracy: 0.1667 - val_precision: 0.4444 - val_recall: 0.0200 - val_f1score: 0.0382\n",
            "Epoch 27/100\n",
            "9/9 [==============================] - 1s 108ms/step - loss: 2.7486 - accuracy: 0.2756 - precision: 0.6754 - recall: 0.1069 - f1score: 0.1831 - val_loss: 3.4691 - val_accuracy: 0.1524 - val_precision: 0.4306 - val_recall: 0.0233 - val_f1score: 0.0438\n",
            "Epoch 28/100\n",
            "9/9 [==============================] - 1s 108ms/step - loss: 2.5537 - accuracy: 0.3164 - precision: 0.7156 - recall: 0.1194 - f1score: 0.2037 - val_loss: 3.5215 - val_accuracy: 0.1667 - val_precision: 0.3810 - val_recall: 0.0433 - val_f1score: 0.0772\n",
            "Epoch 29/100\n",
            "9/9 [==============================] - 1s 108ms/step - loss: 2.3872 - accuracy: 0.3649 - precision: 0.6409 - recall: 0.1773 - f1score: 0.2774 - val_loss: 3.3634 - val_accuracy: 0.2000 - val_precision: 0.4583 - val_recall: 0.0467 - val_f1score: 0.0844\n",
            "Epoch 30/100\n",
            "9/9 [==============================] - 1s 108ms/step - loss: 2.2927 - accuracy: 0.3601 - precision: 0.6613 - recall: 0.1765 - f1score: 0.2776 - val_loss: 3.3777 - val_accuracy: 0.2190 - val_precision: 0.4095 - val_recall: 0.0500 - val_f1score: 0.0883\n",
            "Epoch 31/100\n",
            "9/9 [==============================] - 1s 107ms/step - loss: 2.1404 - accuracy: 0.4561 - precision: 0.7076 - recall: 0.2227 - f1score: 0.3378 - val_loss: 2.9943 - val_accuracy: 0.3048 - val_precision: 0.4667 - val_recall: 0.0833 - val_f1score: 0.1409\n",
            "Epoch 32/100\n",
            "9/9 [==============================] - 1s 108ms/step - loss: 1.8413 - accuracy: 0.4700 - precision: 0.6948 - recall: 0.2909 - f1score: 0.4092 - val_loss: 3.0278 - val_accuracy: 0.2476 - val_precision: 0.3667 - val_recall: 0.0733 - val_f1score: 0.1222\n",
            "Epoch 33/100\n",
            "9/9 [==============================] - 1s 108ms/step - loss: 1.7276 - accuracy: 0.5123 - precision: 0.7296 - recall: 0.3366 - f1score: 0.4600 - val_loss: 3.0808 - val_accuracy: 0.2619 - val_precision: 0.4503 - val_recall: 0.1100 - val_f1score: 0.1742\n",
            "Epoch 34/100\n",
            "9/9 [==============================] - 1s 108ms/step - loss: 1.5367 - accuracy: 0.5566 - precision: 0.7790 - recall: 0.3677 - f1score: 0.4976 - val_loss: 2.9780 - val_accuracy: 0.3286 - val_precision: 0.5185 - val_recall: 0.1567 - val_f1score: 0.2386\n",
            "Epoch 35/100\n",
            "9/9 [==============================] - 1s 107ms/step - loss: 1.4705 - accuracy: 0.5484 - precision: 0.7454 - recall: 0.4011 - f1score: 0.5213 - val_loss: 2.7037 - val_accuracy: 0.3905 - val_precision: 0.7988 - val_recall: 0.2333 - val_f1score: 0.3604\n",
            "Epoch 36/100\n",
            "9/9 [==============================] - 1s 107ms/step - loss: 1.5118 - accuracy: 0.5694 - precision: 0.7581 - recall: 0.4186 - f1score: 0.5388 - val_loss: 2.6324 - val_accuracy: 0.3667 - val_precision: 0.6213 - val_recall: 0.1767 - val_f1score: 0.2750\n",
            "Epoch 37/100\n",
            "9/9 [==============================] - 1s 108ms/step - loss: 1.3725 - accuracy: 0.5803 - precision: 0.7884 - recall: 0.4320 - f1score: 0.5578 - val_loss: 3.0726 - val_accuracy: 0.3048 - val_precision: 0.4580 - val_recall: 0.1400 - val_f1score: 0.2140\n",
            "Epoch 38/100\n",
            "9/9 [==============================] - 1s 107ms/step - loss: 1.3634 - accuracy: 0.5942 - precision: 0.7228 - recall: 0.4065 - f1score: 0.5195 - val_loss: 2.5055 - val_accuracy: 0.4095 - val_precision: 0.7741 - val_recall: 0.2733 - val_f1score: 0.4018\n",
            "Epoch 39/100\n",
            "9/9 [==============================] - 1s 108ms/step - loss: 1.3250 - accuracy: 0.6058 - precision: 0.7530 - recall: 0.4573 - f1score: 0.5679 - val_loss: 2.5582 - val_accuracy: 0.4048 - val_precision: 0.7811 - val_recall: 0.2267 - val_f1score: 0.3463\n",
            "Epoch 40/100\n",
            "9/9 [==============================] - 1s 108ms/step - loss: 1.0897 - accuracy: 0.6701 - precision: 0.8710 - recall: 0.5325 - f1score: 0.6603 - val_loss: 2.4544 - val_accuracy: 0.4429 - val_precision: 0.7618 - val_recall: 0.3233 - val_f1score: 0.4527\n",
            "Epoch 41/100\n",
            "9/9 [==============================] - 1s 107ms/step - loss: 1.0642 - accuracy: 0.6894 - precision: 0.7997 - recall: 0.5853 - f1score: 0.6753 - val_loss: 2.5512 - val_accuracy: 0.4381 - val_precision: 0.6763 - val_recall: 0.3433 - val_f1score: 0.4551\n",
            "Epoch 42/100\n",
            "9/9 [==============================] - 1s 108ms/step - loss: 0.9697 - accuracy: 0.6895 - precision: 0.8034 - recall: 0.5759 - f1score: 0.6707 - val_loss: 2.6579 - val_accuracy: 0.3857 - val_precision: 0.4898 - val_recall: 0.2133 - val_f1score: 0.2953\n",
            "Epoch 43/100\n",
            "9/9 [==============================] - 1s 108ms/step - loss: 0.8495 - accuracy: 0.7608 - precision: 0.8562 - recall: 0.6468 - f1score: 0.7364 - val_loss: 2.5349 - val_accuracy: 0.4476 - val_precision: 0.6807 - val_recall: 0.3133 - val_f1score: 0.4282\n",
            "Epoch 44/100\n",
            "9/9 [==============================] - 1s 108ms/step - loss: 0.8634 - accuracy: 0.7380 - precision: 0.8316 - recall: 0.6371 - f1score: 0.7209 - val_loss: 2.5906 - val_accuracy: 0.4905 - val_precision: 0.6768 - val_recall: 0.3367 - val_f1score: 0.4474\n",
            "Epoch 45/100\n",
            "9/9 [==============================] - 1s 108ms/step - loss: 0.8580 - accuracy: 0.7416 - precision: 0.8439 - recall: 0.6344 - f1score: 0.7232 - val_loss: 2.4472 - val_accuracy: 0.5048 - val_precision: 0.7295 - val_recall: 0.3967 - val_f1score: 0.5126\n",
            "Epoch 46/100\n",
            "9/9 [==============================] - 1s 109ms/step - loss: 0.8328 - accuracy: 0.7412 - precision: 0.8348 - recall: 0.6494 - f1score: 0.7300 - val_loss: 2.8721 - val_accuracy: 0.4333 - val_precision: 0.6484 - val_recall: 0.3133 - val_f1score: 0.4207\n",
            "Epoch 47/100\n",
            "9/9 [==============================] - 1s 107ms/step - loss: 0.7236 - accuracy: 0.7864 - precision: 0.8570 - recall: 0.6869 - f1score: 0.7622 - val_loss: 2.5485 - val_accuracy: 0.4667 - val_precision: 0.4872 - val_recall: 0.2867 - val_f1score: 0.3604\n",
            "Epoch 48/100\n",
            "9/9 [==============================] - 1s 109ms/step - loss: 0.6930 - accuracy: 0.7638 - precision: 0.8471 - recall: 0.7010 - f1score: 0.7667 - val_loss: 2.5667 - val_accuracy: 0.4762 - val_precision: 0.5530 - val_recall: 0.3200 - val_f1score: 0.4045\n",
            "Epoch 49/100\n",
            "9/9 [==============================] - 1s 108ms/step - loss: 0.8083 - accuracy: 0.7550 - precision: 0.8193 - recall: 0.6706 - f1score: 0.7374 - val_loss: 2.5095 - val_accuracy: 0.4857 - val_precision: 0.6049 - val_recall: 0.3433 - val_f1score: 0.4379\n",
            "Epoch 50/100\n",
            "9/9 [==============================] - 1s 109ms/step - loss: 0.6602 - accuracy: 0.7880 - precision: 0.8517 - recall: 0.6985 - f1score: 0.7674 - val_loss: 2.5595 - val_accuracy: 0.4810 - val_precision: 0.6263 - val_recall: 0.3600 - val_f1score: 0.4563\n",
            "Epoch 51/100\n",
            "9/9 [==============================] - 1s 108ms/step - loss: 0.5961 - accuracy: 0.8150 - precision: 0.8704 - recall: 0.7684 - f1score: 0.8160 - val_loss: 2.6149 - val_accuracy: 0.4810 - val_precision: 0.5556 - val_recall: 0.3200 - val_f1score: 0.4056\n",
            "Epoch 52/100\n",
            "9/9 [==============================] - 1s 108ms/step - loss: 0.5749 - accuracy: 0.8082 - precision: 0.8619 - recall: 0.7537 - f1score: 0.8040 - val_loss: 2.6308 - val_accuracy: 0.4905 - val_precision: 0.7047 - val_recall: 0.4333 - val_f1score: 0.5366\n",
            "Epoch 53/100\n",
            "9/9 [==============================] - 1s 108ms/step - loss: 0.6160 - accuracy: 0.8027 - precision: 0.8616 - recall: 0.7346 - f1score: 0.7929 - val_loss: 2.6590 - val_accuracy: 0.5095 - val_precision: 0.5633 - val_recall: 0.3433 - val_f1score: 0.4255\n",
            "Epoch 54/100\n",
            "9/9 [==============================] - 1s 107ms/step - loss: 0.5432 - accuracy: 0.8267 - precision: 0.8942 - recall: 0.7751 - f1score: 0.8301 - val_loss: 2.7056 - val_accuracy: 0.5000 - val_precision: 0.6240 - val_recall: 0.4333 - val_f1score: 0.5114\n",
            "Epoch 55/100\n",
            "9/9 [==============================] - 1s 109ms/step - loss: 0.5111 - accuracy: 0.8346 - precision: 0.8911 - recall: 0.7866 - f1score: 0.8353 - val_loss: 2.7411 - val_accuracy: 0.4905 - val_precision: 0.6349 - val_recall: 0.4200 - val_f1score: 0.5049\n",
            "Epoch 56/100\n",
            "9/9 [==============================] - 1s 110ms/step - loss: 0.5305 - accuracy: 0.8271 - precision: 0.8849 - recall: 0.7842 - f1score: 0.8314 - val_loss: 2.5299 - val_accuracy: 0.5333 - val_precision: 0.6868 - val_recall: 0.4633 - val_f1score: 0.5522\n",
            "Epoch 57/100\n",
            "9/9 [==============================] - 1s 108ms/step - loss: 0.4888 - accuracy: 0.8371 - precision: 0.8826 - recall: 0.7983 - f1score: 0.8382 - val_loss: 2.6443 - val_accuracy: 0.5143 - val_precision: 0.6114 - val_recall: 0.4467 - val_f1score: 0.5156\n",
            "Epoch 58/100\n",
            "9/9 [==============================] - 1s 108ms/step - loss: 0.5261 - accuracy: 0.8348 - precision: 0.8801 - recall: 0.7902 - f1score: 0.8326 - val_loss: 2.4536 - val_accuracy: 0.5238 - val_precision: 0.7010 - val_recall: 0.4933 - val_f1score: 0.5791\n",
            "Epoch 59/100\n",
            "9/9 [==============================] - 1s 107ms/step - loss: 0.4218 - accuracy: 0.8705 - precision: 0.9136 - recall: 0.8310 - f1score: 0.8702 - val_loss: 2.5520 - val_accuracy: 0.5476 - val_precision: 0.7226 - val_recall: 0.4933 - val_f1score: 0.5861\n",
            "Epoch 60/100\n",
            "9/9 [==============================] - 1s 108ms/step - loss: 0.4676 - accuracy: 0.8441 - precision: 0.8803 - recall: 0.7955 - f1score: 0.8357 - val_loss: 2.4042 - val_accuracy: 0.5524 - val_precision: 0.7991 - val_recall: 0.5567 - val_f1score: 0.6562\n",
            "Epoch 61/100\n",
            "9/9 [==============================] - 1s 109ms/step - loss: 0.4240 - accuracy: 0.8353 - precision: 0.8846 - recall: 0.8166 - f1score: 0.8492 - val_loss: 2.7055 - val_accuracy: 0.5571 - val_precision: 0.6264 - val_recall: 0.4467 - val_f1score: 0.5197\n",
            "Epoch 62/100\n",
            "9/9 [==============================] - 1s 109ms/step - loss: 0.4260 - accuracy: 0.8664 - precision: 0.9027 - recall: 0.8261 - f1score: 0.8625 - val_loss: 2.6183 - val_accuracy: 0.5048 - val_precision: 0.5839 - val_recall: 0.4067 - val_f1score: 0.4785\n",
            "Epoch 63/100\n",
            "9/9 [==============================] - 1s 109ms/step - loss: 0.3707 - accuracy: 0.8873 - precision: 0.9184 - recall: 0.8475 - f1score: 0.8813 - val_loss: 2.6956 - val_accuracy: 0.5429 - val_precision: 0.5841 - val_recall: 0.4400 - val_f1score: 0.5016\n",
            "Epoch 64/100\n",
            "9/9 [==============================] - 1s 110ms/step - loss: 0.3188 - accuracy: 0.8955 - precision: 0.9276 - recall: 0.8693 - f1score: 0.8973 - val_loss: 2.5370 - val_accuracy: 0.5524 - val_precision: 0.6950 - val_recall: 0.5267 - val_f1score: 0.5988\n",
            "Epoch 65/100\n",
            "9/9 [==============================] - 1s 110ms/step - loss: 0.4071 - accuracy: 0.8800 - precision: 0.8997 - recall: 0.8486 - f1score: 0.8732 - val_loss: 2.5393 - val_accuracy: 0.5476 - val_precision: 0.7090 - val_recall: 0.5233 - val_f1score: 0.6018\n",
            "Epoch 66/100\n",
            "9/9 [==============================] - 1s 107ms/step - loss: 0.3835 - accuracy: 0.8678 - precision: 0.9106 - recall: 0.8363 - f1score: 0.8717 - val_loss: 2.4522 - val_accuracy: 0.5381 - val_precision: 0.6916 - val_recall: 0.5167 - val_f1score: 0.5910\n",
            "Epoch 67/100\n",
            "9/9 [==============================] - 1s 109ms/step - loss: 0.3550 - accuracy: 0.8786 - precision: 0.9185 - recall: 0.8499 - f1score: 0.8828 - val_loss: 2.4694 - val_accuracy: 0.5333 - val_precision: 0.6970 - val_recall: 0.5167 - val_f1score: 0.5931\n",
            "Epoch 68/100\n",
            "9/9 [==============================] - 1s 109ms/step - loss: 0.2867 - accuracy: 0.9028 - precision: 0.9243 - recall: 0.8753 - f1score: 0.8991 - val_loss: 2.4880 - val_accuracy: 0.5619 - val_precision: 0.6476 - val_recall: 0.5567 - val_f1score: 0.5961\n",
            "Epoch 69/100\n",
            "9/9 [==============================] - 1s 109ms/step - loss: 0.2762 - accuracy: 0.9082 - precision: 0.9397 - recall: 0.8712 - f1score: 0.9040 - val_loss: 2.6010 - val_accuracy: 0.5619 - val_precision: 0.6568 - val_recall: 0.5233 - val_f1score: 0.5825\n",
            "Epoch 70/100\n",
            "9/9 [==============================] - 1s 109ms/step - loss: 0.2925 - accuracy: 0.8960 - precision: 0.9186 - recall: 0.8785 - f1score: 0.8980 - val_loss: 2.6138 - val_accuracy: 0.5429 - val_precision: 0.6769 - val_recall: 0.5200 - val_f1score: 0.5880\n",
            "Epoch 71/100\n",
            "9/9 [==============================] - 1s 109ms/step - loss: 0.2849 - accuracy: 0.9045 - precision: 0.9281 - recall: 0.8818 - f1score: 0.9043 - val_loss: 2.7725 - val_accuracy: 0.5619 - val_precision: 0.6491 - val_recall: 0.4833 - val_f1score: 0.5513\n",
            "Epoch 72/100\n",
            "9/9 [==============================] - 1s 111ms/step - loss: 0.3398 - accuracy: 0.8888 - precision: 0.9082 - recall: 0.8691 - f1score: 0.8881 - val_loss: 2.6581 - val_accuracy: 0.5333 - val_precision: 0.5999 - val_recall: 0.4500 - val_f1score: 0.5139\n",
            "Epoch 73/100\n",
            "9/9 [==============================] - 1s 109ms/step - loss: 0.2925 - accuracy: 0.8878 - precision: 0.9224 - recall: 0.8607 - f1score: 0.8904 - val_loss: 2.6925 - val_accuracy: 0.5333 - val_precision: 0.6104 - val_recall: 0.4767 - val_f1score: 0.5350\n",
            "Epoch 74/100\n",
            "9/9 [==============================] - 1s 109ms/step - loss: 0.2531 - accuracy: 0.9279 - precision: 0.9430 - recall: 0.9062 - f1score: 0.9242 - val_loss: 2.5415 - val_accuracy: 0.5714 - val_precision: 0.6268 - val_recall: 0.5133 - val_f1score: 0.5643\n",
            "Epoch 75/100\n",
            "9/9 [==============================] - 1s 108ms/step - loss: 0.3049 - accuracy: 0.9090 - precision: 0.9273 - recall: 0.8950 - f1score: 0.9108 - val_loss: 2.5902 - val_accuracy: 0.5762 - val_precision: 0.6418 - val_recall: 0.5200 - val_f1score: 0.5745\n",
            "Epoch 76/100\n",
            "9/9 [==============================] - 1s 110ms/step - loss: 0.2716 - accuracy: 0.9010 - precision: 0.9188 - recall: 0.8792 - f1score: 0.8985 - val_loss: 2.9416 - val_accuracy: 0.5000 - val_precision: 0.6013 - val_recall: 0.4667 - val_f1score: 0.5253\n",
            "Epoch 77/100\n",
            "9/9 [==============================] - 1s 110ms/step - loss: 0.2811 - accuracy: 0.9068 - precision: 0.9239 - recall: 0.8845 - f1score: 0.9036 - val_loss: 2.8175 - val_accuracy: 0.5714 - val_precision: 0.5945 - val_recall: 0.5067 - val_f1score: 0.5469\n",
            "Epoch 78/100\n",
            "9/9 [==============================] - 1s 110ms/step - loss: 0.2448 - accuracy: 0.9091 - precision: 0.9258 - recall: 0.8956 - f1score: 0.9103 - val_loss: 2.8727 - val_accuracy: 0.5286 - val_precision: 0.6208 - val_recall: 0.4967 - val_f1score: 0.5519\n",
            "Epoch 79/100\n",
            "9/9 [==============================] - 1s 110ms/step - loss: 0.2548 - accuracy: 0.9253 - precision: 0.9347 - recall: 0.8977 - f1score: 0.9158 - val_loss: 2.9048 - val_accuracy: 0.5238 - val_precision: 0.6460 - val_recall: 0.4867 - val_f1score: 0.5547\n",
            "Epoch 80/100\n",
            "9/9 [==============================] - 1s 110ms/step - loss: 0.2907 - accuracy: 0.9154 - precision: 0.9387 - recall: 0.8918 - f1score: 0.9144 - val_loss: 2.7038 - val_accuracy: 0.5571 - val_precision: 0.6484 - val_recall: 0.5067 - val_f1score: 0.5679\n",
            "Epoch 81/100\n",
            "9/9 [==============================] - 1s 110ms/step - loss: 0.2408 - accuracy: 0.9264 - precision: 0.9447 - recall: 0.8981 - f1score: 0.9207 - val_loss: 2.9879 - val_accuracy: 0.5190 - val_precision: 0.5569 - val_recall: 0.4500 - val_f1score: 0.4977\n",
            "Epoch 82/100\n",
            "9/9 [==============================] - 1s 110ms/step - loss: 0.2316 - accuracy: 0.9243 - precision: 0.9426 - recall: 0.9050 - f1score: 0.9234 - val_loss: 2.7629 - val_accuracy: 0.5810 - val_precision: 0.6520 - val_recall: 0.5467 - val_f1score: 0.5945\n",
            "Epoch 83/100\n",
            "9/9 [==============================] - 1s 108ms/step - loss: 0.2489 - accuracy: 0.9133 - precision: 0.9270 - recall: 0.8978 - f1score: 0.9121 - val_loss: 2.6551 - val_accuracy: 0.5810 - val_precision: 0.6735 - val_recall: 0.5600 - val_f1score: 0.6114\n",
            "Epoch 84/100\n",
            "9/9 [==============================] - 1s 109ms/step - loss: 0.2143 - accuracy: 0.9385 - precision: 0.9511 - recall: 0.9157 - f1score: 0.9329 - val_loss: 2.9294 - val_accuracy: 0.5476 - val_precision: 0.6539 - val_recall: 0.5233 - val_f1score: 0.5813\n",
            "Epoch 85/100\n",
            "9/9 [==============================] - 1s 112ms/step - loss: 0.1848 - accuracy: 0.9413 - precision: 0.9546 - recall: 0.9281 - f1score: 0.9411 - val_loss: 2.7316 - val_accuracy: 0.5905 - val_precision: 0.6468 - val_recall: 0.5667 - val_f1score: 0.6040\n",
            "Epoch 86/100\n",
            "9/9 [==============================] - 1s 109ms/step - loss: 0.1610 - accuracy: 0.9431 - precision: 0.9541 - recall: 0.9331 - f1score: 0.9434 - val_loss: 2.9709 - val_accuracy: 0.5381 - val_precision: 0.6183 - val_recall: 0.5033 - val_f1score: 0.5548\n",
            "Epoch 87/100\n",
            "9/9 [==============================] - 1s 110ms/step - loss: 0.1774 - accuracy: 0.9431 - precision: 0.9547 - recall: 0.9327 - f1score: 0.9435 - val_loss: 2.8221 - val_accuracy: 0.5571 - val_precision: 0.5779 - val_recall: 0.5233 - val_f1score: 0.5486\n",
            "Epoch 88/100\n",
            "9/9 [==============================] - 1s 109ms/step - loss: 0.2038 - accuracy: 0.9298 - precision: 0.9488 - recall: 0.9179 - f1score: 0.9331 - val_loss: 2.7530 - val_accuracy: 0.5524 - val_precision: 0.6082 - val_recall: 0.5167 - val_f1score: 0.5584\n",
            "Epoch 89/100\n",
            "9/9 [==============================] - 1s 109ms/step - loss: 0.2670 - accuracy: 0.9109 - precision: 0.9284 - recall: 0.8880 - f1score: 0.9077 - val_loss: 2.7215 - val_accuracy: 0.5905 - val_precision: 0.6209 - val_recall: 0.5433 - val_f1score: 0.5795\n",
            "Epoch 90/100\n",
            "9/9 [==============================] - 1s 110ms/step - loss: 0.2001 - accuracy: 0.9358 - precision: 0.9458 - recall: 0.9178 - f1score: 0.9315 - val_loss: 2.6272 - val_accuracy: 0.5571 - val_precision: 0.6560 - val_recall: 0.5433 - val_f1score: 0.5937\n",
            "Epoch 91/100\n",
            "9/9 [==============================] - 1s 109ms/step - loss: 0.2048 - accuracy: 0.9357 - precision: 0.9504 - recall: 0.9231 - f1score: 0.9365 - val_loss: 2.5791 - val_accuracy: 0.5857 - val_precision: 0.6748 - val_recall: 0.5600 - val_f1score: 0.6119\n",
            "Epoch 92/100\n",
            "9/9 [==============================] - 1s 109ms/step - loss: 0.2054 - accuracy: 0.9178 - precision: 0.9363 - recall: 0.9048 - f1score: 0.9202 - val_loss: 2.5282 - val_accuracy: 0.6000 - val_precision: 0.6944 - val_recall: 0.5733 - val_f1score: 0.6280\n",
            "Epoch 93/100\n",
            "9/9 [==============================] - 1s 109ms/step - loss: 0.1925 - accuracy: 0.9420 - precision: 0.9611 - recall: 0.9271 - f1score: 0.9437 - val_loss: 2.6778 - val_accuracy: 0.5857 - val_precision: 0.6734 - val_recall: 0.5433 - val_f1score: 0.5998\n",
            "Epoch 94/100\n",
            "9/9 [==============================] - 1s 110ms/step - loss: 0.1775 - accuracy: 0.9370 - precision: 0.9481 - recall: 0.9161 - f1score: 0.9317 - val_loss: 2.6430 - val_accuracy: 0.5810 - val_precision: 0.5969 - val_recall: 0.5433 - val_f1score: 0.5683\n",
            "Epoch 95/100\n",
            "9/9 [==============================] - 1s 109ms/step - loss: 0.1474 - accuracy: 0.9475 - precision: 0.9608 - recall: 0.9346 - f1score: 0.9474 - val_loss: 2.9616 - val_accuracy: 0.5333 - val_precision: 0.6013 - val_recall: 0.5100 - val_f1score: 0.5517\n",
            "Epoch 96/100\n",
            "9/9 [==============================] - 1s 109ms/step - loss: 0.2100 - accuracy: 0.9393 - precision: 0.9507 - recall: 0.9249 - f1score: 0.9376 - val_loss: 2.8500 - val_accuracy: 0.5810 - val_precision: 0.6118 - val_recall: 0.5333 - val_f1score: 0.5698\n",
            "Epoch 97/100\n",
            "9/9 [==============================] - 1s 112ms/step - loss: 0.1768 - accuracy: 0.9595 - precision: 0.9669 - recall: 0.9525 - f1score: 0.9597 - val_loss: 2.7964 - val_accuracy: 0.5905 - val_precision: 0.6218 - val_recall: 0.5067 - val_f1score: 0.5571\n",
            "Epoch 98/100\n",
            "9/9 [==============================] - 1s 109ms/step - loss: 0.1686 - accuracy: 0.9439 - precision: 0.9591 - recall: 0.9311 - f1score: 0.9449 - val_loss: 2.7479 - val_accuracy: 0.5905 - val_precision: 0.7269 - val_recall: 0.6100 - val_f1score: 0.6631\n",
            "Epoch 99/100\n",
            "9/9 [==============================] - 1s 110ms/step - loss: 0.1357 - accuracy: 0.9568 - precision: 0.9712 - recall: 0.9488 - f1score: 0.9598 - val_loss: 2.8235 - val_accuracy: 0.6000 - val_precision: 0.7273 - val_recall: 0.5867 - val_f1score: 0.6475\n",
            "Epoch 100/100\n",
            "9/9 [==============================] - 1s 108ms/step - loss: 0.1039 - accuracy: 0.9614 - precision: 0.9664 - recall: 0.9577 - f1score: 0.9620 - val_loss: 2.8872 - val_accuracy: 0.5524 - val_precision: 0.6291 - val_recall: 0.5400 - val_f1score: 0.5809\n"
          ],
          "name": "stdout"
        }
      ]
    },
    {
      "cell_type": "markdown",
      "metadata": {
        "id": "LMnBKflltMx0"
      },
      "source": [
        "## 4. 학습시킨 모델 검증 - test set 이용"
      ]
    },
    {
      "cell_type": "code",
      "metadata": {
        "colab": {
          "base_uri": "https://localhost:8080/"
        },
        "id": "4HPsGoCcKSjy",
        "outputId": "284e7f7a-9533-4492-f177-0c0265dcb247"
      },
      "source": [
        "loss, acc, precision, recall, f1score = model.evaluate(test_X, test_Y)\n",
        "\n",
        "print(\"Loss: \"+str(loss))\n",
        "print(\"Accuracy: \"+str(acc))\n",
        "print(\"precision: \"+str(precision))\n",
        "print(\"recall: \"+str(recall))\n",
        "print(\"f1score: \"+str(f1score))"
      ],
      "execution_count": 113,
      "outputs": [
        {
          "output_type": "stream",
          "text": [
            "7/7 [==============================] - 0s 16ms/step - loss: 3.9461 - accuracy: 0.6048 - precision: 0.6135 - recall: 0.5962 - f1score: 0.6046\n",
            "Loss: 3.946103096008301\n",
            "Accuracy: 0.6047618985176086\n",
            "precision: 0.6134623289108276\n",
            "recall: 0.596230149269104\n",
            "f1score: 0.6046403050422668\n"
          ],
          "name": "stdout"
        }
      ]
    },
    {
      "cell_type": "code",
      "metadata": {
        "colab": {
          "base_uri": "https://localhost:8080/",
          "height": 544
        },
        "id": "-D_X5Z1SKW-A",
        "outputId": "fb027b68-3991-4317-ba64-1286a3469cca"
      },
      "source": [
        "\n",
        "plot_loss(history)\n",
        "plt.show()\n",
        "plot_acc(history)\n",
        "plt.show()"
      ],
      "execution_count": 105,
      "outputs": [
        {
          "output_type": "display_data",
          "data": {
            "image/png": "[encoded data removed]",
            "text/plain": [
              "<Figure size 432x288 with 1 Axes>"
            ]
          },
          "metadata": {
            "tags": [],
            "needs_background": "light"
          }
        },
        {
          "output_type": "display_data",
          "data": {
            "image/png": "[encoded data removed]",
            "text/plain": [
              "<Figure size 432x288 with 1 Axes>"
            ]
          },
          "metadata": {
            "tags": [],
            "needs_background": "light"
          }
        }
      ]
    },
    {
      "cell_type": "markdown",
      "metadata": {
        "id": "JrCAJ060tUId"
      },
      "source": [
        "## 5. 교차 검증\n"
      ]
    },
    {
      "cell_type": "code",
      "metadata": {
        "id": "1Y-O9JEtLh5_"
      },
      "source": [
        "from sklearn.model_selection import StratifiedKFold, KFold"
      ],
      "execution_count": 106,
      "outputs": []
    },
    {
      "cell_type": "code",
      "metadata": {
        "colab": {
          "base_uri": "https://localhost:8080/"
        },
        "id": "NBvuzsWPLkaU",
        "outputId": "b7f52838-3c3a-464d-890c-59661c2587dd"
      },
      "source": [
        "# Define per-fold score containers\n",
        "acc_per_fold = []\n",
        "loss_per_fold = []\n",
        "\n",
        "# cross validation\n",
        "kfold = KFold(n_splits=5, shuffle=True)\n",
        "# kfold = StratifiedKFold(n_splits=5, shuffle=True, random_state=1)\n",
        "\n",
        "# K-fold Cross Validation model evaluation\n",
        "fold_no = 1\n",
        "\n",
        "for train, test in kfold.split(train_X, train_Y):\n",
        "\n",
        "  # Define the model architecture\n",
        "  model = model\n",
        "\n",
        "  # Generate a print\n",
        "  print('\\n')\n",
        "  print(f'Training for fold {fold_no} ...')\n",
        "\n",
        "  # Fit data to model\n",
        "  history = model.fit(train_X[train], train_Y[train],\n",
        "                      batch_size=batch_size,\n",
        "                      epochs=epochs,\n",
        "                      verbose=0)\n",
        "\n",
        "  # Generate generalization metrics\n",
        "  scores = model.evaluate(train_X[test], train_Y[test], verbose=0)\n",
        "  print(f'Score for fold {fold_no}: {model.metrics_names[0]} of {scores[0]}; {model.metrics_names[1]} of {scores[1]*100}%')\n",
        "  acc_per_fold.append(scores[1] * 100)\n",
        "  loss_per_fold.append(scores[0])\n",
        "\n",
        "  # Increase fold number\n",
        "  fold_no = fold_no + 1\n",
        "\n",
        "# == Provide average scores ==\n",
        "print('\\n')\n",
        "print('Score per fold')\n",
        "for i in range(0, len(acc_per_fold)):\n",
        "  print('\\n')\n",
        "  print(f'> Fold {i+1} - Loss: {loss_per_fold[i]} - Accuracy: {acc_per_fold[i]}%')\n",
        "print('\\n')\n",
        "print('Average scores for all folds:')\n",
        "print(f'> Accuracy: {np.mean(acc_per_fold)} (+- {np.std(acc_per_fold)})')\n",
        "print(f'> Loss: {np.mean(loss_per_fold)}')\n",
        "print('\\n')"
      ],
      "execution_count": 114,
      "outputs": [
        {
          "output_type": "stream",
          "text": [
            "\n",
            "\n",
            "Training for fold 1 ...\n",
            "Score for fold 1: loss of 0.010981743223965168; accuracy of 100.0%\n",
            "\n",
            "\n",
            "Training for fold 2 ...\n",
            "Score for fold 2: loss of 0.013246842660009861; accuracy of 99.40476417541504%\n",
            "\n",
            "\n",
            "Training for fold 3 ...\n",
            "Score for fold 3: loss of 0.0027588538359850645; accuracy of 100.0%\n",
            "\n",
            "\n",
            "Training for fold 4 ...\n",
            "Score for fold 4: loss of 0.00025808156351558864; accuracy of 100.0%\n",
            "\n",
            "\n",
            "Training for fold 5 ...\n",
            "Score for fold 5: loss of 0.0005573948146775365; accuracy of 100.0%\n",
            "\n",
            "\n",
            "Score per fold\n",
            "\n",
            "\n",
            "> Fold 1 - Loss: 0.010981743223965168 - Accuracy: 100.0%\n",
            "\n",
            "\n",
            "> Fold 2 - Loss: 0.013246842660009861 - Accuracy: 99.40476417541504%\n",
            "\n",
            "\n",
            "> Fold 3 - Loss: 0.0027588538359850645 - Accuracy: 100.0%\n",
            "\n",
            "\n",
            "> Fold 4 - Loss: 0.00025808156351558864 - Accuracy: 100.0%\n",
            "\n",
            "\n",
            "> Fold 5 - Loss: 0.0005573948146775365 - Accuracy: 100.0%\n",
            "\n",
            "\n",
            "Average scores for all folds:\n",
            "> Accuracy: 99.88095283508301 (+- 0.23809432983398438)\n",
            "> Loss: 0.0055605832196306436\n",
            "\n",
            "\n"
          ],
          "name": "stdout"
        }
      ]
    },
    {
      "cell_type": "code",
      "metadata": {
        "colab": {
          "base_uri": "https://localhost:8080/"
        },
        "id": "GOGxffdJMoVn",
        "outputId": "a4bcfd5e-5d3d-461a-dac7-6d0b3258f6c1"
      },
      "source": [
        "# Define per-fold score containers\n",
        "acc_per_fold = []\n",
        "loss_per_fold = []\n",
        "\n",
        "# cross validation\n",
        "kfold = KFold(n_splits=5, shuffle=True)\n",
        "\n",
        "# K-fold Cross Validation model evaluation\n",
        "fold_no = 1\n",
        "\n",
        "for train, test in kfold.split(test_X, test_Y):\n",
        "\n",
        "  # Define the model architecture\n",
        "  model = model\n",
        "\n",
        "  scores = model.evaluate(test_X[test], test_Y[test], verbose=0)\n",
        "  print(f'Score for fold {fold_no}: {model.metrics_names[0]} of {scores[0]}; {model.metrics_names[1]} of {scores[1]*100}%')\n",
        "  acc_per_fold.append(scores[1] * 100)\n",
        "  loss_per_fold.append(scores[0])\n",
        "\n",
        "  # Increase fold number\n",
        "  fold_no = fold_no + 1\n",
        "\n",
        "# == Provide average scores ==\n",
        "print('\\n')\n",
        "print('Score per fold')\n",
        "for i in range(0, len(acc_per_fold)):\n",
        "  print('\\n')\n",
        "  print(f'> Fold {i+1} - Loss: {loss_per_fold[i]} - Accuracy: {acc_per_fold[i]}%')\n",
        "print('\\n')\n",
        "print('Average scores for all folds:')\n",
        "print(f'> Accuracy: {np.mean(acc_per_fold)} (+- {np.std(acc_per_fold)})')\n",
        "print(f'> Loss: {np.mean(loss_per_fold)}')\n",
        "print('\\n')\n"
      ],
      "execution_count": 124,
      "outputs": [
        {
          "output_type": "stream",
          "text": [
            "Score for fold 1: loss of 3.4843688011169434; accuracy of 59.52380895614624%\n",
            "Score for fold 2: loss of 5.3879923820495605; accuracy of 64.28571343421936%\n",
            "Score for fold 3: loss of 4.5406718254089355; accuracy of 54.76190447807312%\n",
            "Score for fold 4: loss of 4.5075483322143555; accuracy of 54.76190447807312%\n",
            "Score for fold 5: loss of 4.5002007484436035; accuracy of 66.66666865348816%\n",
            "\n",
            "\n",
            "Score per fold\n",
            "\n",
            "\n",
            "> Fold 1 - Loss: 3.4843688011169434 - Accuracy: 59.52380895614624%\n",
            "\n",
            "\n",
            "> Fold 2 - Loss: 5.3879923820495605 - Accuracy: 64.28571343421936%\n",
            "\n",
            "\n",
            "> Fold 3 - Loss: 4.5406718254089355 - Accuracy: 54.76190447807312%\n",
            "\n",
            "\n",
            "> Fold 4 - Loss: 4.5075483322143555 - Accuracy: 54.76190447807312%\n",
            "\n",
            "\n",
            "> Fold 5 - Loss: 4.5002007484436035 - Accuracy: 66.66666865348816%\n",
            "\n",
            "\n",
            "Average scores for all folds:\n",
            "> Accuracy: 60.0 (+- 4.856209589372298)\n",
            "> Loss: 4.4841564178466795\n",
            "\n",
            "\n"
          ],
          "name": "stdout"
        }
      ]
    },
    {
      "cell_type": "markdown",
      "metadata": {
        "id": "Pzra0GULMv54"
      },
      "source": [
        "\n",
        "## 6. 모델을 이용해 Test set을 예측 -> .csv 로 저장"
      ]
    },
    {
      "cell_type": "code",
      "metadata": {
        "id": "75NfA-cjMtS0"
      },
      "source": [
        "import csv\n",
        "\n",
        "test_dir = '/content/drive/MyDrive/face-test-set'\n",
        "file_list = os.listdir(test_dir)\n",
        "\n",
        "result = []\n"
      ],
      "execution_count": 120,
      "outputs": []
    },
    {
      "cell_type": "code",
      "metadata": {
        "colab": {
          "base_uri": "https://localhost:8080/"
        },
        "id": "lWlWoKElsxb2",
        "outputId": "22455bbf-f46a-4a66-a57c-556d9adba175"
      },
      "source": [
        "for file in file_list:\n",
        "    name = file.split('.')[0]\n",
        "    data = cv2.imread(test_dir+'/'+file, 0)\n",
        "    data = cv2.resize(data, (W,H))\n",
        "    data = np.asarray(data)\n",
        "    data = data.reshape(-1,W,H,1)\n",
        "    data = data / np.max(data)\n",
        "    y = model.predict_classes(data)\n",
        "    result.append([name, y])\n",
        "#result=np.array(result)"
      ],
      "execution_count": 121,
      "outputs": [
        {
          "output_type": "stream",
          "text": [
            "/usr/local/lib/python3.7/dist-packages/tensorflow/python/keras/engine/sequential.py:450: UserWarning: `model.predict_classes()` is deprecated and will be removed after 2021-01-01. Please use instead:* `np.argmax(model.predict(x), axis=-1)`,   if your model does multi-class classification   (e.g. if it uses a `softmax` last-layer activation).* `(model.predict(x) > 0.5).astype(\"int32\")`,   if your model does binary classification   (e.g. if it uses a `sigmoid` last-layer activation).\n",
            "  warnings.warn('`model.predict_classes()` is deprecated and '\n"
          ],
          "name": "stderr"
        }
      ]
    },
    {
      "cell_type": "code",
      "metadata": {
        "id": "JHa5vDSLs6F3"
      },
      "source": [
        "\n",
        "with open('./drive/MyDrive/1971063_김윤서_얼굴_2차_답안.csv', 'w', newline='') as f:\n",
        "  write = csv.writer(f)\n",
        "  write.writerow(['Image', 'Answer'])\n",
        "  write.writerows(result)"
      ],
      "execution_count": 122,
      "outputs": []
    },
    {
      "cell_type": "code",
      "metadata": {
        "id": "tMS_uoIWq-TD"
      },
      "source": [
        "\n",
        "#test_result_df = pd.DataFrame(data=result, index=[\"Image\", \"Answer\"]).transpose()\n",
        " \n",
        "#test_result_df = pd.DataFrame(result, columns=['Image', 'Answer'])\n",
        "#test_result_df.head()\n",
        "\n",
        "#test_result_df = test_result_df.sort_values(by=\"Image\")\n",
        "#test_result_df.head()\n",
        "\n",
        "#test_result_df.to_csv(\"/content/drive/MyDrive/hw2-1-result.csv\", index=False)"
      ],
      "execution_count": 123,
      "outputs": []
    },
    {
      "cell_type": "code",
      "metadata": {
        "id": "wehQ1zAVshTE"
      },
      "source": [
        ""
      ],
      "execution_count": null,
      "outputs": []
    }
  ]
}