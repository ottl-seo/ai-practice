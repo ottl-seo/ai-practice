{
  "nbformat": 4,
  "nbformat_minor": 0,
  "metadata": {
    "colab": {
      "name": "lab2-ANN필기문자분류.ipynb",
      "provenance": [],
      "collapsed_sections": []
    },
    "kernelspec": {
      "name": "python3",
      "display_name": "Python 3"
    },
    "language_info": {
      "name": "python"
    }
  },
  "cells": [
    {
      "cell_type": "markdown",
      "metadata": {
        "id": "Oj1-pjWjN0eW"
      },
      "source": [
        "# 퍼셉트론 기반 학습\n",
        "\n",
        "\n",
        "**ANN**(단층 신경망)을 이용한 필기체 문자 분류"
      ]
    },
    {
      "cell_type": "markdown",
      "metadata": {
        "id": "rIXBiAoedCtT"
      },
      "source": [
        "\n",
        "### 1. 패키지 불러오기\n",
        "(keras 패키지 사용)\n"
      ]
    },
    {
      "cell_type": "code",
      "metadata": {
        "id": "6Rtebm7cNE0_"
      },
      "source": [
        "from keras import layers #각 계층을 만드는 모듈\n",
        "from keras import models # 각 계층을 연결해 '신경망 모델'을 만든 후, 컴파일-학습시키는 모듈\n",
        "                         # compile(), fit(), predict(), evaluate() 등 여러 딥러닝 처리 함수를 제공"
      ],
      "execution_count": null,
      "outputs": []
    },
    {
      "cell_type": "markdown",
      "metadata": {
        "id": "eDhE5UxqOG84"
      },
      "source": [
        "### 2. 필요한 파라미터 설정\n",
        "후반의 main()에서 설정   \n",
        "* Nin: 입력계층 노드 수\n",
        "* Nh: 은닉 계층 수\n",
        "* number_of_class: 출력값이 가질 클래스 수\n",
        "* Nout: 출력 노드 수"
      ]
    },
    {
      "cell_type": "markdown",
      "metadata": {
        "id": "3CAd5l9APDAJ"
      },
      "source": [
        "### 3. 모델 구현\n",
        "신경망을 연쇄 방식 모델링을 포함하는 함수형 구현\n",
        "\n",
        "#### **모델 구현 방식**\n",
        "- **분산** 방식 모델링을 포함하는 ***함수형***구현\n",
        "- **연쇄** 방식 모델링을 포함하는 ***함수형***  구현\n",
        "\n",
        "- **분산** 방식 모델링을 포함하는 ***객체지향형*** 구현\n",
        "- **연쇄** 방식 모델링을 포함하는 ***객체지향형*** 구현"
      ]
    },
    {
      "cell_type": "code",
      "metadata": {
        "id": "-3gIbES3NxXC"
      },
      "source": [
        "def ANN_seq_func(Nin, Nh, Nout):\n",
        "  model = models.Sequential()\n",
        "  model.add(layers.Dense(Nh, activation='relu', input_shape=(Nin,))) #레이어 1 추가 (relu 함수)\n",
        "  model.add(layers.Dense(Nout, activation='softmax')) #softmax 함수로 레이어 2 추가\n",
        "  \n",
        "  model.compile(loss='categorical_crossentropy',\n",
        "                optimizer='adam',\n",
        "                metrics=['accuracy'])\n",
        "  return model"
      ],
      "execution_count": null,
      "outputs": []
    },
    {
      "cell_type": "markdown",
      "metadata": {
        "id": "JVQP-FW4QpZ5"
      },
      "source": [
        "### 4. 데이터 불러오기\n",
        "Mnist 필기 숫자 데이터셋"
      ]
    },
    {
      "cell_type": "code",
      "metadata": {
        "id": "2-UkmPcCQm_n"
      },
      "source": [
        "import numpy as np\n",
        "from keras import datasets  #mnist 호출\n",
        "from keras.utils import np_utils  #to_categorical\n",
        "\n",
        "def Data_func():\n",
        "  (X_train, y_train), (X_test, y_test) = datasets.mnist.load_data()\n",
        "  # 0~9의 숫자로 된 출력값을 이진수(0/1)로 표현되는 벡터로 바꾼다\n",
        "  Y_train = np_utils.to_categorical(y_train)\n",
        "  Y_test = np_utils.to_categorical(y_test)\n",
        "\n",
        "  L, W, H = X_train.shape\n",
        "  X_train = X_train.reshape(-1, W*H) #행렬의 행을 자동으로 설정, 열수가 W+H로 지정\n",
        "  X_test = X_test.reshape(-1, W*H)\n",
        "\n",
        "# 정규화: 0-255로 되어있는 입력값을 0-1로 바꿔줌 (성능 최적화를 위해)\n",
        "  X_train = X_train/255.0 \n",
        "  X_test = X_test/255.0\n",
        "\n",
        "  return (X_train, Y_train), (X_test,Y_test)"
      ],
      "execution_count": null,
      "outputs": []
    },
    {
      "cell_type": "markdown",
      "metadata": {
        "id": "mlhGHHLpuS3X"
      },
      "source": [
        "### 5. 학습 결과 분석을 위한 그래프 구현\n",
        "텐서, 파이토치, 케라스 모두 쓸 수 있는 코드임"
      ]
    },
    {
      "cell_type": "code",
      "metadata": {
        "id": "JHy9RxZ5t-XD"
      },
      "source": [
        "import matplotlib.pyplot as plt\n",
        "\n",
        "def plot_Accuracy(history, title=None):\n",
        "  if not isinstance(history, dict):\n",
        "    history = history.history\n",
        "  plt.plot(history['accuracy'])\n",
        "  plt.plot(history['val_accuracy'])\n",
        "  if title is not None:\n",
        "    plt.title(title)\n",
        "  plt.xlabel('Epoch')\n",
        "  plt.ylabel('Accuracy')\n",
        "  plt.legend(['Training', 'Verification'], loc=0)\n",
        "\n",
        "def plot_Loss(history, title=None):\n",
        "  if not isinstance(history, dict):\n",
        "    history = history.history\n",
        "  plt.plot(history['loss'])      #학습 데이터로 구한 손실값\n",
        "  plt.plot(history['val_loss'])  #검증 데이터로 구한 손실값\n",
        "  if title is not None:\n",
        "    plt.title(title)\n",
        "  plt.xlabel('Epoch')\n",
        "  plt.ylabel('Loss')\n",
        "  plt.legend(['Training', 'Verification'], loc=0)\n"
      ],
      "execution_count": null,
      "outputs": []
    },
    {
      "cell_type": "markdown",
      "metadata": {
        "id": "m4_XKhYZvI6y"
      },
      "source": [
        "### 6. 학습 및 성능 분석 (main 함수)\n",
        "#### (1) 파라미터 설정\n",
        "* Nin: 입력계층 노드 수\n",
        "* Nh: 은닉 계층 수\n",
        "* number_of_class: 출력값이 가질 클래스 수\n",
        "* Nout: 출력 노드 수   \n",
        "##### ※**참고**\n",
        " **Epoch**란 Train 데이터셋에 포함되어 있는 모든 데이터값들이 각각 한번씩 예측 모델에 들어온 뒤 weight 값을 갱신하는 주기를 의미함\n",
        "\n",
        "#### (2) 모델 설정   \n",
        "#### (3) 학습하기   \n",
        "#### (4) main() 코드 실행"
      ]
    },
    {
      "cell_type": "code",
      "metadata": {
        "id": "VgCWiK7ZvH7g"
      },
      "source": [
        "def main():\n",
        "  ### 1. 파라미터 설정 ###\n",
        "  Nin = 784  #입력계층 노드 수\n",
        "  Nh=1  #100  #은닉 계층 수\n",
        "  number_of_class = 10  # 출력값이 가질 클래스 수\n",
        "  Nout = number_of_class  #출력 노드 수\n",
        "\n",
        "  ### 2. 모델 설정 ###\n",
        "  model = ANN_seq_func(Nin, Nh, Nout)\n",
        "  (X_train, Y_train), (X_test, Y_test) = Data_func()\n",
        "\n",
        "  ### 3. 학습하기 ###\n",
        "  history = model.fit(X_train, Y_train, epochs=15, batch_size=100, validation_split=0.2) #이 한 줄로 모델 학습 끝\n",
        "  performance_test = model.evaluate(X_test, Y_test, batch_size=100)\n",
        "  print('Test Loss and Accuracy -->', performance_test)\n",
        "\n",
        "  plot_Loss(history)\n",
        "  plt.show()\n",
        "  plot_Accuracy(history)\n",
        "  plt.show()\n"
      ],
      "execution_count": null,
      "outputs": []
    },
    {
      "cell_type": "code",
      "metadata": {
        "colab": {
          "base_uri": "https://localhost:8080/",
          "height": 1000
        },
        "id": "42So4PgmxK34",
        "outputId": "dc7cae38-1856-4f06-c7a1-a44b4d1bcecb"
      },
      "source": [
        "\n",
        "### 4. main 코드 실행하기 ###\n",
        "if __name__ == '__main__':\n",
        "  main()"
      ],
      "execution_count": null,
      "outputs": [
        {
          "output_type": "stream",
          "text": [
            "Epoch 1/15\n",
            "480/480 [==============================] - 2s 2ms/step - loss: 2.1739 - accuracy: 0.1743 - val_loss: 1.9910 - val_accuracy: 0.1984\n",
            "Epoch 2/15\n",
            "480/480 [==============================] - 1s 2ms/step - loss: 1.9655 - accuracy: 0.2061 - val_loss: 1.9044 - val_accuracy: 0.2122\n",
            "Epoch 3/15\n",
            "480/480 [==============================] - 1s 2ms/step - loss: 1.8909 - accuracy: 0.2249 - val_loss: 1.8618 - val_accuracy: 0.2433\n",
            "Epoch 4/15\n",
            "480/480 [==============================] - 1s 2ms/step - loss: 1.8494 - accuracy: 0.2485 - val_loss: 1.8298 - val_accuracy: 0.2612\n",
            "Epoch 5/15\n",
            "480/480 [==============================] - 1s 2ms/step - loss: 1.8201 - accuracy: 0.2545 - val_loss: 1.8009 - val_accuracy: 0.2711\n",
            "Epoch 6/15\n",
            "480/480 [==============================] - 1s 2ms/step - loss: 1.7993 - accuracy: 0.2725 - val_loss: 1.7737 - val_accuracy: 0.2800\n",
            "Epoch 7/15\n",
            "480/480 [==============================] - 1s 2ms/step - loss: 1.7705 - accuracy: 0.2876 - val_loss: 1.7510 - val_accuracy: 0.2968\n",
            "Epoch 8/15\n",
            "480/480 [==============================] - 1s 2ms/step - loss: 1.7506 - accuracy: 0.3000 - val_loss: 1.7316 - val_accuracy: 0.2980\n",
            "Epoch 9/15\n",
            "480/480 [==============================] - 1s 2ms/step - loss: 1.7305 - accuracy: 0.3036 - val_loss: 1.7154 - val_accuracy: 0.3145\n",
            "Epoch 10/15\n",
            "480/480 [==============================] - 1s 2ms/step - loss: 1.7119 - accuracy: 0.3180 - val_loss: 1.7042 - val_accuracy: 0.3322\n",
            "Epoch 11/15\n",
            "480/480 [==============================] - 1s 2ms/step - loss: 1.7020 - accuracy: 0.3349 - val_loss: 1.6881 - val_accuracy: 0.3371\n",
            "Epoch 12/15\n",
            "480/480 [==============================] - 1s 2ms/step - loss: 1.6871 - accuracy: 0.3447 - val_loss: 1.6773 - val_accuracy: 0.3354\n",
            "Epoch 13/15\n",
            "480/480 [==============================] - 1s 2ms/step - loss: 1.6778 - accuracy: 0.3482 - val_loss: 1.6666 - val_accuracy: 0.3454\n",
            "Epoch 14/15\n",
            "480/480 [==============================] - 1s 2ms/step - loss: 1.6604 - accuracy: 0.3538 - val_loss: 1.6566 - val_accuracy: 0.3605\n",
            "Epoch 15/15\n",
            "480/480 [==============================] - 1s 2ms/step - loss: 1.6510 - accuracy: 0.3563 - val_loss: 1.6448 - val_accuracy: 0.3674\n",
            "100/100 [==============================] - 0s 1ms/step - loss: 1.6637 - accuracy: 0.3677\n",
            "Test Loss and Accuracy --> [1.663748025894165, 0.3677000105381012]\n"
          ],
          "name": "stdout"
        },
        {
          "output_type": "display_data",
          "data": {
            "image/png": "[encoded data removed]",
            "text/plain": [
              "<Figure size 432x288 with 1 Axes>"
            ]
          },
          "metadata": {
            "tags": [],
            "needs_background": "light"
          }
        },
        {
          "output_type": "display_data",
          "data": {
            "image/png": "[encoded data removed]",
            "text/plain": [
              "<Figure size 432x288 with 1 Axes>"
            ]
          },
          "metadata": {
            "tags": [],
            "needs_background": "light"
          }
        }
      ]
    },
    {
      "cell_type": "markdown",
      "metadata": {
        "id": "TGR0ywR7yxDm"
      },
      "source": [
        "# 은닉 계층 수(**Nh**)에 따른 정확도 변화\n",
        "Epoch가 커질 수록 Loss는 작아지고(그래프 1)   \n",
        "Accuracy는 커진다(그래프 2)\n",
        "\n",
        "### Nh=2 로 늘리면?\n",
        "Loss 수치는 더 낮아지고   \n",
        "Accuracy는 더 커지는 효과"
      ]
    }
  ]
}