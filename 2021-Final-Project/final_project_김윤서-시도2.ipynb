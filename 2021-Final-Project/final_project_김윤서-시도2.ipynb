{
  "nbformat": 4,
  "nbformat_minor": 0,
  "metadata": {
    "kernelspec": {
      "display_name": "Python 3",
      "language": "python",
      "name": "python3"
    },
    "language_info": {
      "codemirror_mode": {
        "name": "ipython",
        "version": 3
      },
      "file_extension": ".py",
      "mimetype": "text/x-python",
      "name": "python",
      "nbconvert_exporter": "python",
      "pygments_lexer": "ipython3",
      "version": "3.6.10"
    },
    "colab": {
      "name": "final-project-김윤서.ipynb",
      "provenance": [],
      "collapsed_sections": [],
      "toc_visible": true
    },
    "accelerator": "GPU",
    "widgets": {
      "application/vnd.jupyter.widget-state+json": {
        "3fe4163bc02d48309e83d150ef9f5bbf": {
          "model_module": "@jupyter-widgets/controls",
          "model_name": "HBoxModel",
          "state": {
            "_view_name": "HBoxView",
            "_dom_classes": [],
            "_model_name": "HBoxModel",
            "_view_module": "@jupyter-widgets/controls",
            "_model_module_version": "1.5.0",
            "_view_count": null,
            "_view_module_version": "1.5.0",
            "box_style": "",
            "layout": "IPY_MODEL_47cdc5e00f8e4688b769970b314cc72d",
            "_model_module": "@jupyter-widgets/controls",
            "children": [
              "IPY_MODEL_63a14b9ebcdd4667b4e70e6bcec83c62",
              "IPY_MODEL_1a9a11ec7d1b4e2c892728ca05797da4"
            ]
          }
        },
        "47cdc5e00f8e4688b769970b314cc72d": {
          "model_module": "@jupyter-widgets/base",
          "model_name": "LayoutModel",
          "state": {
            "_view_name": "LayoutView",
            "grid_template_rows": null,
            "right": null,
            "justify_content": null,
            "_view_module": "@jupyter-widgets/base",
            "overflow": null,
            "_model_module_version": "1.2.0",
            "_view_count": null,
            "flex_flow": null,
            "width": null,
            "min_width": null,
            "border": null,
            "align_items": null,
            "bottom": null,
            "_model_module": "@jupyter-widgets/base",
            "top": null,
            "grid_column": null,
            "overflow_y": null,
            "overflow_x": null,
            "grid_auto_flow": null,
            "grid_area": null,
            "grid_template_columns": null,
            "flex": null,
            "_model_name": "LayoutModel",
            "justify_items": null,
            "grid_row": null,
            "max_height": null,
            "align_content": null,
            "visibility": null,
            "align_self": null,
            "height": null,
            "min_height": null,
            "padding": null,
            "grid_auto_rows": null,
            "grid_gap": null,
            "max_width": null,
            "order": null,
            "_view_module_version": "1.2.0",
            "grid_template_areas": null,
            "object_position": null,
            "object_fit": null,
            "grid_auto_columns": null,
            "margin": null,
            "display": null,
            "left": null
          }
        },
        "63a14b9ebcdd4667b4e70e6bcec83c62": {
          "model_module": "@jupyter-widgets/controls",
          "model_name": "FloatProgressModel",
          "state": {
            "_view_name": "ProgressView",
            "style": "IPY_MODEL_a099a52ce10d462b9c0d9c61ae3aafa7",
            "_dom_classes": [],
            "description": "",
            "_model_name": "FloatProgressModel",
            "bar_style": "success",
            "max": 170498071,
            "_view_module": "@jupyter-widgets/controls",
            "_model_module_version": "1.5.0",
            "value": 170498071,
            "_view_count": null,
            "_view_module_version": "1.5.0",
            "orientation": "horizontal",
            "min": 0,
            "description_tooltip": null,
            "_model_module": "@jupyter-widgets/controls",
            "layout": "IPY_MODEL_5c89def26e4c4fe4990f21cbbd3cbb71"
          }
        },
        "1a9a11ec7d1b4e2c892728ca05797da4": {
          "model_module": "@jupyter-widgets/controls",
          "model_name": "HTMLModel",
          "state": {
            "_view_name": "HTMLView",
            "style": "IPY_MODEL_0f975815930142fd8ef25c0826ae025a",
            "_dom_classes": [],
            "description": "",
            "_model_name": "HTMLModel",
            "placeholder": "​",
            "_view_module": "@jupyter-widgets/controls",
            "_model_module_version": "1.5.0",
            "value": " 170499072/? [00:10&lt;00:00, 15816304.50it/s]",
            "_view_count": null,
            "_view_module_version": "1.5.0",
            "description_tooltip": null,
            "_model_module": "@jupyter-widgets/controls",
            "layout": "IPY_MODEL_d6397251dc9f4b09a9775474a5411dca"
          }
        },
        "a099a52ce10d462b9c0d9c61ae3aafa7": {
          "model_module": "@jupyter-widgets/controls",
          "model_name": "ProgressStyleModel",
          "state": {
            "_view_name": "StyleView",
            "_model_name": "ProgressStyleModel",
            "description_width": "initial",
            "_view_module": "@jupyter-widgets/base",
            "_model_module_version": "1.5.0",
            "_view_count": null,
            "_view_module_version": "1.2.0",
            "bar_color": null,
            "_model_module": "@jupyter-widgets/controls"
          }
        },
        "5c89def26e4c4fe4990f21cbbd3cbb71": {
          "model_module": "@jupyter-widgets/base",
          "model_name": "LayoutModel",
          "state": {
            "_view_name": "LayoutView",
            "grid_template_rows": null,
            "right": null,
            "justify_content": null,
            "_view_module": "@jupyter-widgets/base",
            "overflow": null,
            "_model_module_version": "1.2.0",
            "_view_count": null,
            "flex_flow": null,
            "width": null,
            "min_width": null,
            "border": null,
            "align_items": null,
            "bottom": null,
            "_model_module": "@jupyter-widgets/base",
            "top": null,
            "grid_column": null,
            "overflow_y": null,
            "overflow_x": null,
            "grid_auto_flow": null,
            "grid_area": null,
            "grid_template_columns": null,
            "flex": null,
            "_model_name": "LayoutModel",
            "justify_items": null,
            "grid_row": null,
            "max_height": null,
            "align_content": null,
            "visibility": null,
            "align_self": null,
            "height": null,
            "min_height": null,
            "padding": null,
            "grid_auto_rows": null,
            "grid_gap": null,
            "max_width": null,
            "order": null,
            "_view_module_version": "1.2.0",
            "grid_template_areas": null,
            "object_position": null,
            "object_fit": null,
            "grid_auto_columns": null,
            "margin": null,
            "display": null,
            "left": null
          }
        },
        "0f975815930142fd8ef25c0826ae025a": {
          "model_module": "@jupyter-widgets/controls",
          "model_name": "DescriptionStyleModel",
          "state": {
            "_view_name": "StyleView",
            "_model_name": "DescriptionStyleModel",
            "description_width": "",
            "_view_module": "@jupyter-widgets/base",
            "_model_module_version": "1.5.0",
            "_view_count": null,
            "_view_module_version": "1.2.0",
            "_model_module": "@jupyter-widgets/controls"
          }
        },
        "d6397251dc9f4b09a9775474a5411dca": {
          "model_module": "@jupyter-widgets/base",
          "model_name": "LayoutModel",
          "state": {
            "_view_name": "LayoutView",
            "grid_template_rows": null,
            "right": null,
            "justify_content": null,
            "_view_module": "@jupyter-widgets/base",
            "overflow": null,
            "_model_module_version": "1.2.0",
            "_view_count": null,
            "flex_flow": null,
            "width": null,
            "min_width": null,
            "border": null,
            "align_items": null,
            "bottom": null,
            "_model_module": "@jupyter-widgets/base",
            "top": null,
            "grid_column": null,
            "overflow_y": null,
            "overflow_x": null,
            "grid_auto_flow": null,
            "grid_area": null,
            "grid_template_columns": null,
            "flex": null,
            "_model_name": "LayoutModel",
            "justify_items": null,
            "grid_row": null,
            "max_height": null,
            "align_content": null,
            "visibility": null,
            "align_self": null,
            "height": null,
            "min_height": null,
            "padding": null,
            "grid_auto_rows": null,
            "grid_gap": null,
            "max_width": null,
            "order": null,
            "_view_module_version": "1.2.0",
            "grid_template_areas": null,
            "object_position": null,
            "object_fit": null,
            "grid_auto_columns": null,
            "margin": null,
            "display": null,
            "left": null
          }
        }
      }
    }
  },
  "cells": [
    {
      "cell_type": "markdown",
      "metadata": {
        "id": "6OwMXaL2WEB9"
      },
      "source": [
        "# **ML Final Project**\n",
        "### 1971063 김윤서   \n",
        "\n",
        "• Task 1: Implement Inception module for CIFAIR-10. (20 points)    \n",
        "• Task 2: Increase your Test set accuracy. (25 points)    \n",
        "• Task 3: Find hyper-parameters. (25 points)    \n",
        "• Task 4: Write report: (30 points)\n"
      ]
    },
    {
      "cell_type": "markdown",
      "metadata": {
        "id": "VU2Dql1UI5sn"
      },
      "source": [
        "## 0. CIFAR10 데이터셋 불러오기"
      ]
    },
    {
      "cell_type": "code",
      "metadata": {
        "id": "CeLry21NI5so"
      },
      "source": [
        "import torch\n",
        "import torchvision\n",
        "import torchvision.transforms as transforms\n",
        "import matplotlib.pyplot as plt\n",
        "import numpy as np\n",
        "import torch.nn as nn\n",
        "import torch.nn.functional as F\n",
        "import torch.optim as optim"
      ],
      "execution_count": 1,
      "outputs": []
    },
    {
      "cell_type": "code",
      "metadata": {
        "id": "F1ZAvf3wI5sr",
        "colab": {
          "base_uri": "https://localhost:8080/",
          "height": 121,
          "referenced_widgets": [
            "3fe4163bc02d48309e83d150ef9f5bbf",
            "47cdc5e00f8e4688b769970b314cc72d",
            "63a14b9ebcdd4667b4e70e6bcec83c62",
            "1a9a11ec7d1b4e2c892728ca05797da4",
            "a099a52ce10d462b9c0d9c61ae3aafa7",
            "5c89def26e4c4fe4990f21cbbd3cbb71",
            "0f975815930142fd8ef25c0826ae025a",
            "d6397251dc9f4b09a9775474a5411dca"
          ]
        },
        "outputId": "bc9f8a0f-7889-47b7-8cb0-0ab63a0a7222"
      },
      "source": [
        "transform = transforms.Compose(\n",
        "    [transforms.ToTensor(),\n",
        "     transforms.Normalize((0.5, 0.5, 0.5), (0.5, 0.5, 0.5))])\n",
        "\n",
        " #train data 용도\n",
        "trainset = torchvision.datasets.CIFAR10(root='./data', train=True,   \n",
        "                                        download=True, transform=transform) \n",
        "trainloader = torch.utils.data.DataLoader(trainset, batch_size= 8,          #hyper-parameter: batch_size=8\n",
        "                                          shuffle=True, num_workers=2)\n",
        "  \n",
        "  #test data 용도\n",
        "testset = torchvision.datasets.CIFAR10(root='./data', train=False,    \n",
        "                                       download=True, transform=transform)\n",
        "testloader = torch.utils.data.DataLoader(testset, batch_size= 8,            #hyper-parameter: batch_size=8\n",
        "                                         shuffle=False, num_workers=2)\n",
        "\n",
        "classes = ('plane', 'car', 'bird', 'cat',\n",
        "           'deer', 'dog', 'frog', 'horse', 'ship', 'truck')"
      ],
      "execution_count": 2,
      "outputs": [
        {
          "output_type": "stream",
          "text": [
            "Downloading https://www.cs.toronto.edu/~kriz/cifar-10-python.tar.gz to ./data/cifar-10-python.tar.gz\n"
          ],
          "name": "stdout"
        },
        {
          "output_type": "display_data",
          "data": {
            "application/vnd.jupyter.widget-view+json": {
              "model_id": "3fe4163bc02d48309e83d150ef9f5bbf",
              "version_minor": 0,
              "version_major": 2
            },
            "text/plain": [
              "HBox(children=(FloatProgress(value=0.0, max=170498071.0), HTML(value='')))"
            ]
          },
          "metadata": {
            "tags": []
          }
        },
        {
          "output_type": "stream",
          "text": [
            "\n",
            "Extracting ./data/cifar-10-python.tar.gz to ./data\n",
            "Files already downloaded and verified\n"
          ],
          "name": "stdout"
        }
      ]
    },
    {
      "cell_type": "code",
      "metadata": {
        "colab": {
          "base_uri": "https://localhost:8080/"
        },
        "id": "52Y715_6u7Z3",
        "outputId": "7fa23898-6a13-4bea-9c88-aa04522221a3"
      },
      "source": [
        "print(trainset)"
      ],
      "execution_count": 3,
      "outputs": [
        {
          "output_type": "stream",
          "text": [
            "Dataset CIFAR10\n",
            "    Number of datapoints: 50000\n",
            "    Root location: ./data\n",
            "    Split: Train\n",
            "    StandardTransform\n",
            "Transform: Compose(\n",
            "               ToTensor()\n",
            "               Normalize(mean=(0.5, 0.5, 0.5), std=(0.5, 0.5, 0.5))\n",
            "           )\n"
          ],
          "name": "stdout"
        }
      ]
    },
    {
      "cell_type": "markdown",
      "metadata": {
        "id": "-ZYnQFOt7dHe"
      },
      "source": [
        "## 1. 필요한 함수 정의"
      ]
    },
    {
      "cell_type": "markdown",
      "metadata": {
        "id": "XrXuILtO8j5U"
      },
      "source": [
        "#### imshow 함수"
      ]
    },
    {
      "cell_type": "code",
      "metadata": {
        "scrolled": true,
        "id": "X0wkA3Q_I5su"
      },
      "source": [
        "def imshow(img):\n",
        "    img = img / 2 + 0.5     # unnormalize\n",
        "    npimg = img.numpy()\n",
        "    print(np.transpose(npimg, (1, 2, 0)).shape)\n",
        "    plt.imshow(np.transpose(npimg, (1, 2, 0)))\n",
        "    plt.show()"
      ],
      "execution_count": 4,
      "outputs": []
    },
    {
      "cell_type": "markdown",
      "metadata": {
        "id": "TMPvBGXN8aQh"
      },
      "source": [
        "#### train 함수: network Training "
      ]
    },
    {
      "cell_type": "code",
      "metadata": {
        "id": "baMkON-wI5s8"
      },
      "source": [
        "## 1\n",
        "loss_history = {'train': [], 'val': []}  \n",
        "accuracy_history = {'train': [], 'val': []}   # 시각화를 위해 loss, acc history 저장용\n",
        "\n",
        "\n",
        "def train(net, trainloader, max_epoch, crit, opt, model_path='./cifar_net.pth'):\n",
        "\n",
        "    for epoch in range(max_epoch):  # loop over the dataset multiple times\n",
        "\n",
        "        running_loss = 0.0\n",
        "        for i, data in enumerate(trainloader, 0):\n",
        "            # get the inputs; data is a list of [inputs, labels]\n",
        "            input, label = data\n",
        "        \n",
        "            # Training on GPU\n",
        "            input = input.to(device)\n",
        "            label = label.to(device)\n",
        "\n",
        "            # zero the parameter gradients\n",
        "            optimizer.zero_grad()\n",
        "\n",
        "            # forward + backward + optimize\n",
        "            outputs = net(input)\n",
        "            loss = crit(outputs, label)\n",
        "            loss.backward()\n",
        "            opt.step()\n",
        "\n",
        "            # 2000회마다 loss 출력\n",
        "            running_loss += loss.item()\n",
        "            loss_history['train'].append(loss.item())  #loss_history 저장\n",
        "\n",
        "            if i % 2000 == 1999:    # print every 2000 mini-batches\n",
        "                print('[%d, %5d] loss: %.3f' %\n",
        "                      (epoch + 1, i + 1, running_loss / 2000))\n",
        "                running_loss = 0.0\n",
        "\n",
        "    print('Finished Training')\n",
        "    torch.save(net.state_dict(), model_path)\n",
        "    print('Saved Trained Model')"
      ],
      "execution_count": 5,
      "outputs": []
    },
    {
      "cell_type": "markdown",
      "metadata": {
        "id": "Jvx_B_5_-QBG"
      },
      "source": [
        "#### train_val 함수"
      ]
    },
    {
      "cell_type": "code",
      "metadata": {
        "id": "VPjez6P_8GOZ"
      },
      "source": [
        ""
      ],
      "execution_count": null,
      "outputs": []
    },
    {
      "cell_type": "markdown",
      "metadata": {
        "id": "AThB_1DV8UwT"
      },
      "source": [
        "#### print_accuracy 함수: 모델 정확도 출력"
      ]
    },
    {
      "cell_type": "code",
      "metadata": {
        "id": "RmuM3WnhI5tB"
      },
      "source": [
        "def print_accuracy(net, dataloader):\n",
        "    correct = 0\n",
        "    total = 0\n",
        "\n",
        "    with torch.no_grad():\n",
        "        for data in dataloader:\n",
        "            images, labels = data\n",
        "            # Inference on GPU\n",
        "            images = images.to(device)\n",
        "            labels = labels.to(device)\n",
        "        \n",
        "            outputs = net(images)\n",
        "            _, predicted = torch.max(outputs.data, 1)\n",
        "            total += labels.size(0)\n",
        "            correct += (predicted == labels).sum().item()\n",
        "        \n",
        "    print('Accuracy of the network on the %d test images: %d %%' \n",
        "          % (total, 100 * correct / total))"
      ],
      "execution_count": 6,
      "outputs": []
    },
    {
      "cell_type": "markdown",
      "metadata": {
        "id": "5UyuRKiD8dvE"
      },
      "source": [
        "#### 시각화 함수: learning curve 그리기"
      ]
    },
    {
      "cell_type": "code",
      "metadata": {
        "id": "xIYo9mOUV7Wu"
      },
      "source": [
        "\n",
        "import matplotlib.pyplot as plt\n",
        "\n",
        "def plot_acc(history, title=None):\n",
        "  # summarize history for accuracy\n",
        "  if not isinstance(history, dict):\n",
        "    history = history.history\n",
        "  plt.plot(history['accuracy'])         # train 데이터로 구한 정확도값\n",
        "  plt.plot(history['val_accuracy'])     # test 데이터로 구한 정확도값\n",
        "  if title is not None:\n",
        "    plt.title(title)\n",
        "  plt.ylabel('Accuracy')\n",
        "  plt.xlabel('Epoch')\n",
        "  plt.legend(['Training', 'Verification'], loc=0)   # 두 선의 이름(Train, Test) 표시\n",
        "\n",
        "def plot_loss(history, title=None):\n",
        "  # summarize history for loss\n",
        "  if not isinstance(history, dict):\n",
        "    history = history.history\n",
        "  plt.plot(history['loss'])             # train 데이터로 구한 손실값\n",
        "  plt.plot(history['val_loss'])         # test 데이터로 구한 손실값\n",
        "  if title is not None:\n",
        "    plt.title(title)\n",
        "  plt.ylabel('Loss')\n",
        "  plt.xlabel('Epoch')\n",
        "  plt.legend(['Training', 'Verification'], loc=0)"
      ],
      "execution_count": 7,
      "outputs": []
    },
    {
      "cell_type": "markdown",
      "metadata": {
        "id": "ajkWIeGS8RRb"
      },
      "source": [
        "+ 데이터셋 확인해보기"
      ]
    },
    {
      "cell_type": "code",
      "metadata": {
        "id": "57_tR3K6I5sx",
        "colab": {
          "base_uri": "https://localhost:8080/",
          "height": 149
        },
        "outputId": "664d628c-fc29-4f16-9408-143bf9d9733d"
      },
      "source": [
        "# get some random training images\n",
        "dataiter = iter(trainloader)\n",
        "images, labels = dataiter.next()\n",
        "\n",
        "# show images\n",
        "imshow(torchvision.utils.make_grid(images))\n",
        "\n",
        "# print labels\n",
        "print(' '.join('%5s' % classes[labels[j]] for j in range(4)))\n",
        "\n",
        "# print size of single image\n",
        "print(images[1].shape)"
      ],
      "execution_count": 8,
      "outputs": [
        {
          "output_type": "stream",
          "text": [
            "(36, 274, 3)\n"
          ],
          "name": "stdout"
        },
        {
          "output_type": "display_data",
          "data": {
            "image/png": "[encoded data removed]",
            "text/plain": [
              "<Figure size 432x288 with 1 Axes>"
            ]
          },
          "metadata": {
            "tags": [],
            "needs_background": "light"
          }
        },
        {
          "output_type": "stream",
          "text": [
            "  dog   dog plane plane\n",
            "torch.Size([3, 32, 32])\n"
          ],
          "name": "stdout"
        }
      ]
    },
    {
      "cell_type": "markdown",
      "metadata": {
        "id": "yfZ0paa1I5s0"
      },
      "source": [
        "## 2. Inception module 정의\n"
      ]
    },
    {
      "cell_type": "code",
      "metadata": {
        "id": "c6cRUzgCRGYX"
      },
      "source": [
        "class Inception(nn.Module):\n",
        "    def __init__(self, in_planes, n1x1, n3x3red, n3x3, n5x5red, n5x5, pool_planes):\n",
        "        super(Inception, self).__init__()\n",
        "        # 1x1 conv branch\n",
        "        self.b1 = nn.Sequential(\n",
        "            nn.Conv2d(in_planes, n1x1, kernel_size=1),\n",
        "            nn.BatchNorm2d(n1x1),\n",
        "            nn.ReLU(True),\n",
        "        )\n",
        "\n",
        "        # 1x1 conv -> 3x3 conv branch\n",
        "        self.b2 = nn.Sequential(\n",
        "            nn.Conv2d(in_planes, n3x3red, kernel_size=1),\n",
        "            nn.BatchNorm2d(n3x3red),\n",
        "            nn.ReLU(True),\n",
        "            nn.Conv2d(n3x3red, n3x3, kernel_size=3, padding=1),\n",
        "            nn.BatchNorm2d(n3x3),\n",
        "            nn.ReLU(True),\n",
        "        )\n",
        "\n",
        "        # 1x1 conv -> 5x5 conv branch\n",
        "        self.b3 = nn.Sequential(\n",
        "            nn.Conv2d(in_planes, n5x5red, kernel_size=1),\n",
        "            nn.BatchNorm2d(n5x5red),\n",
        "            nn.ReLU(True),\n",
        "            nn.Conv2d(n5x5red, n5x5, kernel_size=5, padding=2),\n",
        "            nn.BatchNorm2d(n5x5),\n",
        "            nn.ReLU(True),\n",
        "            nn.Conv2d(n5x5, n5x5, kernel_size=5, padding=2),\n",
        "            nn.BatchNorm2d(n5x5),\n",
        "            nn.ReLU(True),\n",
        "        )\n",
        "\n",
        "        # 3x3 pool -> 1x1 conv branch\n",
        "        self.b4 = nn.Sequential(\n",
        "            nn.MaxPool2d(3, stride=1, padding=1),\n",
        "            nn.Conv2d(in_planes, pool_planes, kernel_size=1),\n",
        "            nn.BatchNorm2d(pool_planes),\n",
        "            nn.ReLU(True),\n",
        "        )\n",
        "\n",
        "    def forward(self, x):\n",
        "        y1 = self.b1(x)\n",
        "        y2 = self.b2(x)\n",
        "        y3 = self.b3(x)\n",
        "        y4 = self.b4(x)\n",
        "        return torch.cat([y1,y2,y3,y4], 1)"
      ],
      "execution_count": 9,
      "outputs": []
    },
    {
      "cell_type": "markdown",
      "metadata": {
        "id": "sq5CBG3FYgEv"
      },
      "source": [
        "## 3. CNN 모델 정의 \n",
        "#### Training setup:\n",
        "* Loss function: Sotfmax cross entropy\n",
        "* Optimizer: Gradient descent with 0.001 learning rate\n",
        "* Batch size: 4\n",
        "* Training epoch: 2\n"
      ]
    },
    {
      "cell_type": "markdown",
      "metadata": {
        "id": "JvPD_kEt87f2"
      },
      "source": [
        "### 모델 1: GoogleNet"
      ]
    },
    {
      "cell_type": "code",
      "metadata": {
        "id": "ioQOPzi9TZ_U"
      },
      "source": [
        "class GoogLeNet(nn.Module):\n",
        "    def __init__(self):\n",
        "        super(GoogLeNet, self).__init__()\n",
        "\n",
        "        self.pre_layers = nn.Sequential(\n",
        "            nn.Conv2d(3, 192, kernel_size=3, padding=1),\n",
        "            nn.BatchNorm2d(192),\n",
        "            nn.ReLU(True),\n",
        "        )\n",
        "\n",
        "        self.a3 = Inception(192,  64,  96, 128, 16, 32, 32)\n",
        "        self.b3 = Inception(256, 128, 128, 192, 32, 96, 64)\n",
        "\n",
        "        self.maxpool = nn.MaxPool2d(3, stride=2, padding=1)\n",
        "\n",
        "        self.a4 = Inception(480, 192,  96, 208, 16,  48,  64)\n",
        "        self.b4 = Inception(512, 160, 112, 224, 24,  64,  64)\n",
        "        self.c4 = Inception(512, 128, 128, 256, 24,  64,  64)\n",
        "        self.d4 = Inception(512, 112, 144, 288, 32,  64,  64)\n",
        "        self.e4 = Inception(528, 256, 160, 320, 32, 128, 128)\n",
        "        \n",
        "        self.maxpool = nn.MaxPool2d(3, stride=2, padding=1)\n",
        "\n",
        "        self.a5 = Inception(832, 256, 160, 320, 32, 128, 128)\n",
        "        self.b5 = Inception(832, 384, 192, 384, 48, 128, 128)\n",
        "\n",
        "        self.avgpool = nn.AvgPool2d(8, stride=1)\n",
        "        self.linear = nn.Linear(1024, 10)\n",
        "      \n",
        "\n",
        "    def forward(self, x):\n",
        "        \n",
        "        out = self.pre_layers(x)\n",
        "        out = self.a3(out)\n",
        "        out = self.b3(out)\n",
        "        out = self.maxpool(out)\n",
        "        out = self.a4(out)\n",
        "        out = self.b4(out)\n",
        "        out = self.c4(out)\n",
        "        out = self.d4(out)\n",
        "        out = self.e4(out)\n",
        "        out = self.maxpool(out)\n",
        "        out = self.a5(out)\n",
        "        out = self.b5(out)\n",
        "        out = self.avgpool(out)\n",
        "        out = out.view(out.size(0), -1)\n",
        "        out = self.linear(out)\n",
        "        \n",
        "        return out"
      ],
      "execution_count": 10,
      "outputs": []
    },
    {
      "cell_type": "code",
      "metadata": {
        "id": "gMQV21XUTchi"
      },
      "source": [
        "# Training on GPU\n",
        "device = torch.device(\"cuda:0\" if torch.cuda.is_available() else \"cpu\")"
      ],
      "execution_count": 11,
      "outputs": []
    },
    {
      "cell_type": "code",
      "metadata": {
        "id": "6rE9dIJTTifi"
      },
      "source": [
        "googlenet = GoogLeNet()\n",
        "googlenet = googlenet.to(device)\n",
        "\n",
        "# Define a Loss function and optimizer\n",
        "criterion = nn.CrossEntropyLoss()\n",
        "optimizer = optim.SGD(googlenet.parameters(), lr=0.001, momentum=0.9)\n",
        "\n",
        "PATH = './google_net.pth'\n",
        "\n",
        "epochs = 2  #hyper-Parameter\n",
        "\n",
        "# Train\n",
        "#train(googlenet, trainloader, epochs, criterion, optimizer, PATH)"
      ],
      "execution_count": 12,
      "outputs": []
    },
    {
      "cell_type": "code",
      "metadata": {
        "id": "pSWq6TJ6Tlrh"
      },
      "source": [
        "# GoogLeNet) Test 결과 출력\n",
        "#googlenet.load_state_dict(torch.load(PATH))\n",
        "#print_accuracy(googlenet, testloader)"
      ],
      "execution_count": 13,
      "outputs": []
    },
    {
      "cell_type": "markdown",
      "metadata": {
        "id": "_wZwraFTT2em"
      },
      "source": [
        "### 모델 2: GoogleNet 보완해보기 -> MyNet"
      ]
    },
    {
      "cell_type": "code",
      "metadata": {
        "id": "wm7Q5UirTnvx"
      },
      "source": [
        "\n",
        "class MyNet(nn.Module):\n",
        "    def __init__(self):\n",
        "        super(MyNet, self).__init__()\n",
        "\n",
        "        self.pre_layers = nn.Sequential(\n",
        "            nn.Conv2d(3, 128, kernel_size=3, padding=1),  #hyper-Parameter: filter size = 3\n",
        "            nn.BatchNorm2d(128),\n",
        "            nn.ReLU(True),        #활성화 함수 ReLU 사용\n",
        "        )\n",
        "\n",
        "        self.a3 = Inception(128,  32,  48,  64,  8, 16, 16)\n",
        "        self.b3 = Inception(128,  64,  96, 128, 16, 32, 32)\n",
        "\n",
        "        self.maxpool = nn.MaxPool2d(3, stride=2, padding=1)\n",
        "\n",
        "        self.a4 = Inception(256, 160,  96, 256, 16,  64,  64)\n",
        "        self.b4 = Inception(544, 256, 128, 256, 64, 128, 128)\n",
        "        self.c4 = Inception(768, 256, 128, 256, 64, 128, 128)\n",
        "\n",
        "        self.maxpool = nn.MaxPool2d(3, stride=2, padding=1)\n",
        "\n",
        "        self.a5 = Inception(768, 256, 256, 512, 64, 128, 128)\n",
        "        self.b5 = Inception(1024, 384, 192, 384, 48, 128, 128)\n",
        "\n",
        "        self.avgpool = nn.AvgPool2d(8, stride=1)  # Average Pooling 사용\n",
        "        self.linear = nn.Linear(1024, 10)\n",
        "        \n",
        "\n",
        "    def forward(self, x):\n",
        "        \n",
        "        out = self.pre_layers(x)\n",
        "        out = self.a3(out)\n",
        "        out = self.b3(out)\n",
        "        out = self.maxpool(out)\n",
        "        out = self.a4(out)\n",
        "        out = self.b4(out)\n",
        "        out = self.c4(out)\n",
        "        out = self.maxpool(out)\n",
        "        out = self.a5(out)\n",
        "        out = self.b5(out)\n",
        "        out = self.avgpool(out)\n",
        "        out = out.view(out.size(0), -1)\n",
        "        out = self.linear(out)\n",
        "        \n",
        "        return out"
      ],
      "execution_count": 14,
      "outputs": []
    },
    {
      "cell_type": "code",
      "metadata": {
        "colab": {
          "base_uri": "https://localhost:8080/"
        },
        "id": "o16jluaJTxLo",
        "outputId": "40ce8f44-2565-47f6-f918-86e002295ce6"
      },
      "source": [
        "\n",
        "myNet = MyNet()\n",
        "myNet = myNet.to(device)\n",
        "\n",
        "# Define a Loss function and optimizer\n",
        "loss_func = nn.CrossEntropyLoss()\n",
        "optimizer = optim.SGD(myNet.parameters(), lr=0.0005, momentum=0.9)\n",
        "\n",
        "PATH = './my_net.pth'\n",
        "epochs = 6\n",
        "\n",
        "# Train\n",
        "train(myNet, trainloader, epochs, loss_func, optimizer, PATH)"
      ],
      "execution_count": 15,
      "outputs": [
        {
          "output_type": "stream",
          "text": [
            "[1,  2000] loss: 1.578\n",
            "[1,  4000] loss: 1.191\n",
            "[1,  6000] loss: 0.987\n",
            "[2,  2000] loss: 0.825\n",
            "[2,  4000] loss: 0.753\n",
            "[2,  6000] loss: 0.703\n",
            "[3,  2000] loss: 0.573\n",
            "[3,  4000] loss: 0.576\n",
            "[3,  6000] loss: 0.548\n",
            "[4,  2000] loss: 0.430\n",
            "[4,  4000] loss: 0.448\n",
            "[4,  6000] loss: 0.442\n",
            "[5,  2000] loss: 0.344\n",
            "[5,  4000] loss: 0.362\n",
            "[5,  6000] loss: 0.357\n",
            "[6,  2000] loss: 0.261\n",
            "[6,  4000] loss: 0.283\n",
            "[6,  6000] loss: 0.296\n",
            "Finished Training\n",
            "Saved Trained Model\n"
          ],
          "name": "stdout"
        }
      ]
    },
    {
      "cell_type": "code",
      "metadata": {
        "id": "mj0x9hMo8dhV"
      },
      "source": [
        ""
      ],
      "execution_count": null,
      "outputs": []
    },
    {
      "cell_type": "code",
      "metadata": {
        "id": "ntC8TOhBT0qU",
        "colab": {
          "base_uri": "https://localhost:8080/"
        },
        "outputId": "7bd6a7d2-4667-4445-fc50-bad013f6f39d"
      },
      "source": [
        "# Test\n",
        "myNet.load_state_dict(torch.load(PATH))\n",
        "print_accuracy(myNet, testloader)"
      ],
      "execution_count": 16,
      "outputs": [
        {
          "output_type": "stream",
          "text": [
            "Accuracy of the network on the 10000 test images: 84 %\n"
          ],
          "name": "stdout"
        }
      ]
    },
    {
      "cell_type": "markdown",
      "metadata": {
        "id": "h9cXDiqslfiQ"
      },
      "source": [
        "## * hyper-parameter 목록\n",
        "1. **learning rate** (lr)=0.001, 0.0005, 0.0001, ...   \n",
        "2. **Batch size**=4,8,16,32   \n",
        "3. **Epochs**=2,4, ...\n",
        "4. Network architectures: googLeNet\n",
        "5. Activation functions: RELU 사용   \n",
        "6. Loss function: Sotfmax cross entropy   "
      ]
    },
    {
      "cell_type": "code",
      "metadata": {
        "id": "i1PJK2zdmLd3"
      },
      "source": [
        ""
      ],
      "execution_count": 16,
      "outputs": []
    }
  ]
}